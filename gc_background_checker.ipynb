{
 "cells": [
  {
   "cell_type": "code",
   "execution_count": 1,
   "metadata": {},
   "outputs": [
    {
     "name": "stderr",
     "output_type": "stream",
     "text": [
      "/Users/lpin0002/anaconda3/envs/please/lib/python3.9/site-packages/tqdm/auto.py:21: TqdmWarning: IProgress not found. Please update jupyter and ipywidgets. See https://ipywidgets.readthedocs.io/en/stable/user_install.html\n",
      "  from .autonotebook import tqdm as notebook_tqdm\n"
     ]
    }
   ],
   "source": [
    "from astropy import units as u\n",
    "from astropy.coordinates import SkyCoord\n",
    "from regions import CircleSkyRegion\n",
    "import matplotlib.pyplot as plt\n",
    "from utils3d import longitudeaxistrue, latitudeaxistrue, log10eaxistrue\n",
    "\n",
    "# %matplotlib inline\n",
    "from IPython.display import display\n",
    "from gammapy.datasets import Datasets, MapDataset\n",
    "from gammapy.modeling.models import (\n",
    "    FoVBackgroundModel,\n",
    "    Models,\n",
    "    PowerLawNormSpectralModel,\n",
    "    SkyModel,\n",
    "    TemplateSpatialModel,\n",
    "    create_fermi_isotropic_diffuse_model,\n",
    ")\n",
    "\n",
    "\n",
    "# %matplotlib inline\n",
    "import numpy as np\n",
    "from gammapy.maps import Map, MapAxis, MapAxes, WcsGeom"
   ]
  },
  {
   "cell_type": "code",
   "execution_count": 2,
   "metadata": {},
   "outputs": [
    {
     "name": "stdout",
     "output_type": "stream",
     "text": [
      "[-3.5 -3.3 -3.1 -2.9 -2.7 -2.5 -2.3 -2.1 -1.9 -1.7 -1.5 -1.3 -1.1 -0.9\n",
      " -0.7 -0.5 -0.3 -0.1  0.1  0.3  0.5  0.7  0.9  1.1  1.3  1.5  1.7  1.9\n",
      "  2.1  2.3  2.5  2.7  2.9  3.1  3.3  3.5] [-3.  -2.8 -2.6 -2.4 -2.2 -2.  -1.8 -1.6 -1.4 -1.2 -1.  -0.8 -0.6 -0.4\n",
      " -0.2  0.   0.2  0.4  0.6  0.8  1.   1.2  1.4  1.6  1.8  2.   2.2  2.4\n",
      "  2.6  2.8  3. ] [-0.8  -0.79 -0.78 -0.77 -0.76 -0.75 -0.74 -0.73 -0.72 -0.71 -0.7  -0.69\n",
      " -0.68 -0.67 -0.66 -0.65 -0.64 -0.63 -0.62 -0.61 -0.6  -0.59 -0.58 -0.57\n",
      " -0.56 -0.55 -0.54 -0.53 -0.52 -0.51 -0.5  -0.49 -0.48 -0.47 -0.46 -0.45\n",
      " -0.44 -0.43 -0.42 -0.41 -0.4  -0.39 -0.38 -0.37 -0.36 -0.35 -0.34 -0.33\n",
      " -0.32 -0.31 -0.3  -0.29 -0.28 -0.27 -0.26 -0.25 -0.24 -0.23 -0.22 -0.21\n",
      " -0.2  -0.19 -0.18 -0.17 -0.16 -0.15 -0.14 -0.13 -0.12 -0.11 -0.1  -0.09\n",
      " -0.08 -0.07 -0.06 -0.05 -0.04 -0.03 -0.02 -0.01  0.    0.01  0.02  0.03\n",
      "  0.04  0.05  0.06  0.07  0.08  0.09  0.1   0.11  0.12  0.13  0.14  0.15\n",
      "  0.16  0.17  0.18  0.19  0.2   0.21  0.22  0.23  0.24  0.25  0.26  0.27\n",
      "  0.28  0.29  0.3   0.31  0.32  0.33  0.34  0.35  0.36  0.37  0.38  0.39\n",
      "  0.4   0.41  0.42  0.43  0.44  0.45  0.46  0.47  0.48  0.49  0.5   0.51\n",
      "  0.52  0.53  0.54  0.55  0.56  0.57  0.58  0.59  0.6   0.61  0.62  0.63\n",
      "  0.64  0.65  0.66  0.67  0.68  0.69  0.7   0.71  0.72  0.73  0.74  0.75\n",
      "  0.76  0.77  0.78  0.79  0.8   0.81  0.82  0.83  0.84  0.85  0.86  0.87\n",
      "  0.88  0.89  0.9   0.91  0.92  0.93  0.94  0.95  0.96  0.97  0.98  0.99\n",
      "  1.    1.01  1.02  1.03  1.04  1.05  1.06  1.07  1.08  1.09  1.1   1.11\n",
      "  1.12  1.13  1.14  1.15  1.16  1.17  1.18  1.19  1.2   1.21  1.22  1.23\n",
      "  1.24  1.25  1.26  1.27  1.28  1.29  1.3   1.31  1.32  1.33  1.34  1.35\n",
      "  1.36  1.37  1.38  1.39  1.4   1.41  1.42  1.43  1.44  1.45  1.46  1.47\n",
      "  1.48  1.49  1.5   1.51  1.52  1.53  1.54  1.55  1.56  1.57  1.58  1.59\n",
      "  1.6   1.61  1.62  1.63  1.64  1.65  1.66  1.67  1.68  1.69  1.7   1.71\n",
      "  1.72  1.73  1.74  1.75  1.76  1.77  1.78  1.79  1.8 ]\n"
     ]
    }
   ],
   "source": [
    "print(longitudeaxistrue, latitudeaxistrue, log10eaxistrue)"
   ]
  },
  {
   "cell_type": "markdown",
   "metadata": {},
   "source": [
    "# HESS GPS Sources"
   ]
  },
  {
   "cell_type": "code",
   "execution_count": 3,
   "metadata": {},
   "outputs": [
    {
     "name": "stderr",
     "output_type": "stream",
     "text": [
      "/Users/lpin0002/anaconda3/envs/please/lib/python3.9/site-packages/gammapy/modeling/models/spatial.py:554: RuntimeWarning: invalid value encountered in multiply\n",
      "  return u.Quantity(norm * np.exp(exponent).value, \"sr-1\", copy=False)\n"
     ]
    },
    {
     "name": "stdout",
     "output_type": "stream",
     "text": [
      "\n",
      "There are 96 sources within the HGPS.\n"
     ]
    }
   ],
   "source": [
    "from gammapy.catalog import SourceCatalogHGPS\n",
    "\n",
    "\n",
    "hess_catalog = SourceCatalogHGPS(\"hgps_catalog_v1.fits.gz\")\n",
    "\n",
    "hess_models = hess_catalog.to_models()\n",
    "\n",
    "print(f\"\\nThere are {len(hess_models)} sources within the HGPS.\")"
   ]
  },
  {
   "cell_type": "code",
   "execution_count": 4,
   "metadata": {},
   "outputs": [
    {
     "data": {
      "text/plain": [
       "WcsNDMap\n",
       "\n",
       "\tgeom  : WcsGeom \n",
       " \taxes  : ['lon', 'lat', 'energy_true']\n",
       "\tshape : (36, 31, 261)\n",
       "\tndim  : 3\n",
       "\tunit  : \n",
       "\tdtype : float32"
      ]
     },
     "execution_count": 4,
     "metadata": {},
     "output_type": "execute_result"
    }
   ],
   "source": [
    "\n",
    "\n",
    "trueenergyaxis = 10**log10eaxistrue*u.TeV\n",
    "\n",
    "energy_axis_true = MapAxis.from_nodes(trueenergyaxis, interp='log', name=\"energy_true\")\n",
    "\n",
    "goodgeom = WcsGeom.create(\n",
    "    skydir=SkyCoord(0, 0, unit=\"deg\", frame='galactic'),\n",
    "    binsz=0.2,\n",
    "    width=(longitudeaxistrue[-1]-longitudeaxistrue[0]+0.2, latitudeaxistrue[-1]-latitudeaxistrue[0]+0.2),\n",
    "    frame=\"galactic\",\n",
    "    proj=\"CAR\",\n",
    "    axes=[energy_axis_true],\n",
    ")\n",
    "\n",
    "goodmap = Map.from_geom(goodgeom)\n",
    "goodmap"
   ]
  },
  {
   "cell_type": "code",
   "execution_count": 5,
   "metadata": {},
   "outputs": [
    {
     "data": {
      "text/plain": [
       "array([-2.43277472, -2.42277472, -2.41277472, -2.40277472, -2.39277472,\n",
       "       -2.38277472, -2.37277472, -2.36277472, -2.35277472, -2.34277472,\n",
       "       -2.33277472, -2.32277472, -2.31277472, -2.30277472, -2.29277472,\n",
       "       -2.28277472, -2.27277472, -2.26277472, -2.25277472, -2.24277472,\n",
       "       -2.23277472, -2.22277472, -2.21277472, -2.20277472, -2.19277472,\n",
       "       -2.18277472, -2.17277472, -2.16277472, -2.15277472, -2.14277472,\n",
       "       -2.13277472, -2.12277472, -2.11277472, -2.10277472, -2.09277472,\n",
       "       -2.08277472, -2.07277472, -2.06277472, -2.05277472, -2.04277472,\n",
       "       -2.03277472, -2.02277472, -2.01277472, -2.00277472, -1.99277472,\n",
       "       -1.98277472, -1.97277472, -1.96277472, -1.95277472, -1.94277472,\n",
       "       -1.93277472, -1.92277472, -1.91277472, -1.90277472, -1.89277472,\n",
       "       -1.88277472, -1.87277472, -1.86277472, -1.85277472, -1.84277472,\n",
       "       -1.83277472, -1.82277472, -1.81277472, -1.80277472, -1.79277472,\n",
       "       -1.78277472, -1.77277472, -1.76277472, -1.75277472, -1.74277472,\n",
       "       -1.73277472, -1.72277472, -1.71277472, -1.70277472, -1.69277472,\n",
       "       -1.68277472, -1.67277472, -1.66277472, -1.65277472, -1.64277472,\n",
       "       -1.63277472, -1.62277472, -1.61277472, -1.60277472, -1.59277472,\n",
       "       -1.58277472, -1.57277472, -1.56277472, -1.55277472, -1.54277472,\n",
       "       -1.53277472, -1.52277472, -1.51277472, -1.50277472, -1.49277472,\n",
       "       -1.48277472, -1.47277472, -1.46277472, -1.45277472, -1.44277472,\n",
       "       -1.43277472, -1.42277472, -1.41277472, -1.40277472, -1.39277472,\n",
       "       -1.38277472, -1.37277472, -1.36277472, -1.35277472, -1.34277472,\n",
       "       -1.33277472, -1.32277472, -1.31277472, -1.30277472, -1.29277472,\n",
       "       -1.28277472, -1.27277472, -1.26277472, -1.25277472, -1.24277472,\n",
       "       -1.23277472, -1.22277472, -1.21277472, -1.20277472, -1.19277472,\n",
       "       -1.18277472, -1.17277472, -1.16277472, -1.15277472, -1.14277472,\n",
       "       -1.13277472, -1.12277472, -1.11277472, -1.10277472, -1.09277472,\n",
       "       -1.08277472, -1.07277472, -1.06277472, -1.05277472, -1.04277472,\n",
       "       -1.03277472, -1.02277472, -1.01277472, -1.00277472, -0.99277472,\n",
       "       -0.98277472, -0.97277472, -0.96277472, -0.95277472, -0.94277472,\n",
       "       -0.93277472, -0.92277472, -0.91277472, -0.90277472, -0.89277472,\n",
       "       -0.88277472, -0.87277472, -0.86277472, -0.85277472, -0.84277472,\n",
       "       -0.83277472, -0.82277472, -0.81277472, -0.80277472, -0.79277472,\n",
       "       -0.78277472, -0.77277472, -0.76277472, -0.75277472, -0.74277472,\n",
       "       -0.73277472, -0.72277472, -0.71277472, -0.70277472, -0.69277472,\n",
       "       -0.68277472, -0.67277472, -0.66277472, -0.65277472, -0.64277472,\n",
       "       -0.63277472, -0.62277472, -0.61277472, -0.60277472, -0.59277472,\n",
       "       -0.58277472, -0.57277472, -0.56277472, -0.55277472, -0.54277472,\n",
       "       -0.53277472, -0.52277472, -0.51277472, -0.50277472, -0.49277472,\n",
       "       -0.48277472, -0.47277472, -0.46277472, -0.45277472, -0.44277472,\n",
       "       -0.43277472, -0.42277472, -0.41277472, -0.40277472, -0.39277472,\n",
       "       -0.38277472, -0.37277472, -0.36277472, -0.35277472, -0.34277472,\n",
       "       -0.33277472, -0.32277472, -0.31277472, -0.30277472, -0.29277472,\n",
       "       -0.28277472, -0.27277472, -0.26277472, -0.25277472, -0.24277472,\n",
       "       -0.23277472, -0.22277472, -0.21277472, -0.20277472, -0.19277472,\n",
       "       -0.18277472, -0.17277472, -0.16277472, -0.15277472, -0.14277472,\n",
       "       -0.13277472, -0.12277472, -0.11277472, -0.10277472, -0.09277472,\n",
       "       -0.08277472, -0.07277472, -0.06277472, -0.05277472, -0.04277472,\n",
       "       -0.03277472, -0.02277472, -0.01277472, -0.00277472,  0.00722528,\n",
       "        0.01722528,  0.02722528,  0.03722528,  0.04722528,  0.05722528,\n",
       "        0.06722528,  0.07722528,  0.08722528,  0.09722528,  0.10722528,\n",
       "        0.11722528,  0.12722528,  0.13722528,  0.14722528,  0.15722528])"
      ]
     },
     "execution_count": 5,
     "metadata": {},
     "output_type": "execute_result"
    }
   ],
   "source": [
    "hessenergyaxis = energy_axis_true.center.value\n",
    "np.log10(hessenergyaxis[1:]-hessenergyaxis[:-1])"
   ]
  },
  {
   "cell_type": "code",
   "execution_count": 6,
   "metadata": {},
   "outputs": [
    {
     "name": "stdout",
     "output_type": "stream",
     "text": [
      "-1.723175048828125 0.04908088967204094 46\n",
      "-0.05511474609375 -0.043911051005125046 47\n",
      "-1.35516357421875 -0.5642170310020447 48\n",
      "0.14000000059604645 -0.11400000005960464 49\n",
      "-1.551788330078125 -1.1144022941589355 50\n",
      "3.779721736907959 1.714707851409912 51\n",
      "0.871999979019165 0.07599999755620956 52\n"
     ]
    }
   ],
   "source": [
    "\n",
    "# fig, ax = plt.subplots(2,4, figsize=(8,3))\n",
    "\n",
    "\n",
    "# m = Map.create(skydir=(0, 0), width=(10, 10), binsz=0.1, frame=\"galactic\")\n",
    "m= goodmap\n",
    "count=0\n",
    "fullhessdataset = 0\n",
    "for idx, model in enumerate(hess_models):\n",
    "    templvalue = model.spatial_model.position.l.value\n",
    "    tempbvalue = model.spatial_model.position.b.value\n",
    "    \n",
    "    if templvalue>180:\n",
    "        templvalue=templvalue-360\n",
    "    \n",
    "    if np.abs(templvalue)<5 and np.abs(tempbvalue)<5:\n",
    "        print(templvalue, tempbvalue, idx)\n",
    "        try:\n",
    "            m.quantity = model.evaluate_geom(m.geom)\n",
    "            # m.plot(ax=ax[count//4, count%4], add_cbar=True)\n",
    "            startdata = m.data\n",
    "            data = startdata[~np.isnan(startdata)]\n",
    "            if data.size!=0:\n",
    "                data = data.reshape(startdata.shape)\n",
    "                fullhessdataset+=data\n",
    "            \n",
    "        except:\n",
    "            print(\"Something weird happened\")\n",
    "            print(idx, '\\n\\n')\n",
    "        count+=1\n",
    "# plt.show()\n",
    "fullhessdataset = np.transpose(fullhessdataset, axes=(0,2,1))"
   ]
  },
  {
   "cell_type": "code",
   "execution_count": 7,
   "metadata": {},
   "outputs": [
    {
     "data": {
      "text/plain": [
       "150.0"
      ]
     },
     "execution_count": 7,
     "metadata": {},
     "output_type": "execute_result"
    }
   ],
   "source": [
    "150*500*500/250000"
   ]
  },
  {
   "cell_type": "code",
   "execution_count": 8,
   "metadata": {},
   "outputs": [
    {
     "name": "stdout",
     "output_type": "stream",
     "text": [
      "(36,)\n",
      "(31,)\n"
     ]
    }
   ],
   "source": [
    "hessgeom = goodmap.geom\n",
    "hesslonvals = hessgeom.get_coord().lon.value[0][0]\n",
    "hesslonvals = hesslonvals[::-1]\n",
    "hesslonvals[hesslonvals>180] = hesslonvals[hesslonvals>180]-360\n",
    "# print(\"lon vals\", hesslonvals)\n",
    "\n",
    "hesslatvals = hessgeom.get_coord().lat.value[0][:,0]\n",
    "# print(\"lat vals\", hesslatvals)\n",
    "print(hesslonvals.shape)\n",
    "print(hesslatvals.shape)"
   ]
  },
  {
   "cell_type": "code",
   "execution_count": 9,
   "metadata": {},
   "outputs": [
    {
     "data": {
      "text/latex": [
       "$\\mathrm{\\frac{1}{TeV\\,s\\,sr\\,cm^{2}}}$"
      ],
      "text/plain": [
       "Unit(\"1 / (cm2 s sr TeV)\")"
      ]
     },
     "execution_count": 9,
     "metadata": {},
     "output_type": "execute_result"
    }
   ],
   "source": [
    "m.quantity.unit"
   ]
  },
  {
   "cell_type": "code",
   "execution_count": 10,
   "metadata": {},
   "outputs": [
    {
     "data": {
      "text/plain": [
       "4.4565765388799496e-206"
      ]
     },
     "execution_count": 10,
     "metadata": {},
     "output_type": "execute_result"
    }
   ],
   "source": [
    "fullhessdataset[0,0,0]"
   ]
  },
  {
   "cell_type": "code",
   "execution_count": 11,
   "metadata": {},
   "outputs": [
    {
     "name": "stdout",
     "output_type": "stream",
     "text": [
      "(36,) (31,) (36, 31)\n"
     ]
    },
    {
     "data": {
      "image/png": "[encoded data removed]",
      "text/plain": [
       "<Figure size 640x480 with 2 Axes>"
      ]
     },
     "metadata": {},
     "output_type": "display_data"
    }
   ],
   "source": [
    "from scipy.ndimage import gaussian_filter\n",
    "\n",
    "blurred_hess_data = fullhessdataset\n",
    "print(hesslonvals.shape, hesslatvals.shape, blurred_hess_data[0].shape)\n",
    "# Factor of 1e6 is so it matches with fermi backgrounds which are 1/MeV\n",
    "plt.pcolormesh(hesslonvals, \n",
    "               hesslatvals, \n",
    "               np.max(blurred_hess_data, axis=0).T, cmap='inferno', vmax=1e-5)\n",
    "plt.colorbar()\n",
    "plt.show()"
   ]
  },
  {
   "cell_type": "markdown",
   "metadata": {},
   "source": [
    "# Fermi-LAT Diffuse Background Extraction"
   ]
  },
  {
   "cell_type": "code",
   "execution_count": 12,
   "metadata": {},
   "outputs": [
    {
     "name": "stdout",
     "output_type": "stream",
     "text": [
      "WcsNDMap\n",
      "\n",
      "\tgeom  : WcsGeom \n",
      " \taxes  : ['lon', 'lat', 'energy_true']\n",
      "\tshape : (120, 64, 30)\n",
      "\tndim  : 3\n",
      "\tunit  : 1 / (cm2 MeV s sr)\n",
      "\tdtype : >f4\n",
      "\n"
     ]
    },
    {
     "data": {
      "text/plain": [
       "<gammapy.modeling.models.spatial.TemplateSpatialModel at 0x7fcc10c8bf10>"
      ]
     },
     "execution_count": 12,
     "metadata": {},
     "output_type": "execute_result"
    }
   ],
   "source": [
    "# template_diffuse = TemplateSpatialModel(Map.read(\n",
    "#     filename=\"gll_iem_v06_gc.fits.gz\"), interp_kwargs={'method':'cubic'}, normalize=False\n",
    "# )\n",
    "\n",
    "template_diffuse = TemplateSpatialModel.read(\n",
    "    filename=\"gll_iem_v06_gc.fits.gz\", normalize=False\n",
    ")\n",
    "\n",
    "print(template_diffuse.map)\n",
    "\n",
    "diffuse_iem = SkyModel(\n",
    "    spectral_model=PowerLawNormSpectralModel(),\n",
    "    spatial_model=template_diffuse,\n",
    "    name=\"diffuse-iem\",\n",
    ")\n",
    "\n",
    "template_diffuse"
   ]
  },
  {
   "cell_type": "code",
   "execution_count": 13,
   "metadata": {},
   "outputs": [
    {
     "data": {
      "text/plain": [
       "(261, 36, 31)"
      ]
     },
     "execution_count": 13,
     "metadata": {},
     "output_type": "execute_result"
    }
   ],
   "source": [
    "fermievaluated = np.transpose(diffuse_iem.evaluate_geom(goodgeom), axes=(0,2,1))\n",
    "fermievaluated.shape"
   ]
  },
  {
   "cell_type": "code",
   "execution_count": 14,
   "metadata": {},
   "outputs": [],
   "source": [
    "fermievaluated = fermievaluated.to(1/u.TeV/u.s/u.sr/(u.cm)**2)"
   ]
  },
  {
   "cell_type": "code",
   "execution_count": 15,
   "metadata": {},
   "outputs": [
    {
     "data": {
      "text/latex": [
       "$7.6576088 \\times 10^{-8} \\; \\mathrm{\\frac{1}{TeV\\,s\\,sr\\,cm^{2}}}$"
      ],
      "text/plain": [
       "<Quantity 7.65760877e-08 1 / (cm2 s sr TeV)>"
      ]
     },
     "execution_count": 15,
     "metadata": {},
     "output_type": "execute_result"
    }
   ],
   "source": [
    "fermievaluated[0,0,0]"
   ]
  },
  {
   "cell_type": "code",
   "execution_count": 16,
   "metadata": {},
   "outputs": [
    {
     "data": {
      "text/plain": [
       "array([-3.5, -3.3, -3.1, -2.9, -2.7, -2.5, -2.3, -2.1, -1.9, -1.7, -1.5,\n",
       "       -1.3, -1.1, -0.9, -0.7, -0.5, -0.3, -0.1,  0.1,  0.3,  0.5,  0.7,\n",
       "        0.9,  1.1,  1.3,  1.5,  1.7,  1.9,  2.1,  2.3,  2.5,  2.7,  2.9,\n",
       "        3.1,  3.3,  3.5])"
      ]
     },
     "execution_count": 16,
     "metadata": {},
     "output_type": "execute_result"
    }
   ],
   "source": [
    "fermilonaxistemp = np.unique(goodgeom.to_image().get_coord().lon.value)\n",
    "firstover180idx = np.where(fermilonaxistemp>180)[0][0]\n",
    "fermilonaxistemp[fermilonaxistemp>180] = fermilonaxistemp[fermilonaxistemp>180]-360\n",
    "fermilonaxistemp.sort()\n",
    "fermilonaxistemp.shape\n",
    "fermilonaxis = fermilonaxistemp\n",
    "fermilonaxis"
   ]
  },
  {
   "cell_type": "code",
   "execution_count": 17,
   "metadata": {},
   "outputs": [
    {
     "data": {
      "text/plain": [
       "array([-3. , -2.8, -2.6, -2.4, -2.2, -2. , -1.8, -1.6, -1.4, -1.2, -1. ,\n",
       "       -0.8, -0.6, -0.4, -0.2,  0. ,  0.2,  0.4,  0.6,  0.8,  1. ,  1.2,\n",
       "        1.4,  1.6,  1.8,  2. ,  2.2,  2.4,  2.6,  2.8,  3. ])"
      ]
     },
     "execution_count": 17,
     "metadata": {},
     "output_type": "execute_result"
    }
   ],
   "source": [
    "fermilataxis = goodgeom.get_coord().lat.value[0][:,0]\n",
    "fermilataxis"
   ]
  },
  {
   "cell_type": "code",
   "execution_count": 18,
   "metadata": {},
   "outputs": [
    {
     "data": {
      "image/png": "[encoded data removed]",
      "text/plain": [
       "<Figure size 640x480 with 2 Axes>"
      ]
     },
     "metadata": {},
     "output_type": "display_data"
    }
   ],
   "source": [
    "fig, ax = plt.subplots(1,1)\n",
    "plt.pcolormesh(fermilonaxis, fermilataxis, fermievaluated[0].T, cmap='inferno')\n",
    "plt.colorbar()\n",
    "plt.show()"
   ]
  },
  {
   "cell_type": "code",
   "execution_count": 19,
   "metadata": {},
   "outputs": [
    {
     "data": {
      "text/latex": [
       "$\\mathrm{\\frac{1}{TeV\\,s\\,sr\\,cm^{2}}}$"
      ],
      "text/plain": [
       "Unit(\"1 / (cm2 s sr TeV)\")"
      ]
     },
     "execution_count": 19,
     "metadata": {},
     "output_type": "execute_result"
    }
   ],
   "source": [
    "fermiunit = fermievaluated.unit\n",
    "fermiunit"
   ]
  },
  {
   "cell_type": "code",
   "execution_count": 20,
   "metadata": {},
   "outputs": [
    {
     "data": {
      "text/plain": [
       "array([ 0.15848932,  0.16218101,  0.16595869,  0.16982437,  0.17378008,\n",
       "        0.17782794,  0.18197009,  0.18620871,  0.19054607,  0.19498446,\n",
       "        0.19952623,  0.20417379,  0.20892961,  0.21379621,  0.21877616,\n",
       "        0.22387211,  0.22908677,  0.23442288,  0.23988329,  0.24547089,\n",
       "        0.25118864,  0.25703958,  0.2630268 ,  0.26915348,  0.27542287,\n",
       "        0.28183829,  0.28840315,  0.29512092,  0.30199517,  0.30902954,\n",
       "        0.31622777,  0.32359366,  0.33113112,  0.33884416,  0.34673685,\n",
       "        0.35481339,  0.36307805,  0.37153523,  0.3801894 ,  0.38904514,\n",
       "        0.39810717,  0.40738028,  0.41686938,  0.42657952,  0.43651583,\n",
       "        0.44668359,  0.45708819,  0.46773514,  0.47863009,  0.48977882,\n",
       "        0.50118723,  0.51286138,  0.52480746,  0.5370318 ,  0.54954087,\n",
       "        0.56234133,  0.57543994,  0.58884366,  0.60255959,  0.616595  ,\n",
       "        0.63095734,  0.64565423,  0.66069345,  0.67608298,  0.69183097,\n",
       "        0.70794578,  0.72443596,  0.74131024,  0.75857758,  0.77624712,\n",
       "        0.79432823,  0.81283052,  0.83176377,  0.85113804,  0.87096359,\n",
       "        0.89125094,  0.91201084,  0.9332543 ,  0.95499259,  0.97723722,\n",
       "        1.        ,  1.02329299,  1.04712855,  1.07151931,  1.0964782 ,\n",
       "        1.12201845,  1.14815362,  1.17489755,  1.20226443,  1.23026877,\n",
       "        1.25892541,  1.28824955,  1.31825674,  1.34896288,  1.38038426,\n",
       "        1.41253754,  1.44543977,  1.47910839,  1.51356125,  1.54881662,\n",
       "        1.58489319,  1.6218101 ,  1.65958691,  1.69824365,  1.73780083,\n",
       "        1.77827941,  1.81970086,  1.86208714,  1.90546072,  1.9498446 ,\n",
       "        1.99526231,  2.04173794,  2.08929613,  2.13796209,  2.18776162,\n",
       "        2.23872114,  2.29086765,  2.34422882,  2.39883292,  2.45470892,\n",
       "        2.51188643,  2.57039578,  2.63026799,  2.6915348 ,  2.7542287 ,\n",
       "        2.81838293,  2.8840315 ,  2.95120923,  3.01995172,  3.09029543,\n",
       "        3.16227766,  3.23593657,  3.31131121,  3.38844156,  3.4673685 ,\n",
       "        3.54813389,  3.63078055,  3.71535229,  3.80189396,  3.89045145,\n",
       "        3.98107171,  4.07380278,  4.16869383,  4.26579519,  4.36515832,\n",
       "        4.46683592,  4.5708819 ,  4.67735141,  4.78630092,  4.89778819,\n",
       "        5.01187234,  5.12861384,  5.2480746 ,  5.37031796,  5.49540874,\n",
       "        5.62341325,  5.75439937,  5.88843655,  6.02559586,  6.16595002,\n",
       "        6.30957344,  6.45654229,  6.60693448,  6.76082975,  6.91830971,\n",
       "        7.07945784,  7.2443596 ,  7.41310241,  7.58577575,  7.76247117,\n",
       "        7.94328235,  8.12830516,  8.31763771,  8.51138038,  8.7096359 ,\n",
       "        8.91250938,  9.12010839,  9.33254301,  9.54992586,  9.77237221,\n",
       "       10.        , 10.23292992, 10.47128548, 10.71519305, 10.96478196,\n",
       "       11.22018454, 11.48153621, 11.74897555, 12.02264435, 12.30268771,\n",
       "       12.58925412, 12.88249552, 13.18256739, 13.48962883, 13.80384265,\n",
       "       14.12537545, 14.45439771, 14.79108388, 15.13561248, 15.48816619,\n",
       "       15.84893192, 16.21810097, 16.59586907, 16.98243652, 17.37800829,\n",
       "       17.7827941 , 18.19700859, 18.62087137, 19.05460718, 19.498446  ,\n",
       "       19.95262315, 20.41737945, 20.89296131, 21.3796209 , 21.87761624,\n",
       "       22.38721139, 22.90867653, 23.44228815, 23.98832919, 24.54708916,\n",
       "       25.11886432, 25.70395783, 26.30267992, 26.91534804, 27.54228703,\n",
       "       28.18382931, 28.84031503, 29.51209227, 30.1995172 , 30.90295433,\n",
       "       31.6227766 , 32.35936569, 33.11311215, 33.88441561, 34.67368505,\n",
       "       35.48133892, 36.30780548, 37.15352291, 38.01893963, 38.9045145 ,\n",
       "       39.81071706, 40.73802778, 41.68693835, 42.65795188, 43.65158322,\n",
       "       44.66835922, 45.70881896, 46.77351413, 47.86300923, 48.97788194,\n",
       "       50.11872336, 51.2861384 , 52.48074602, 53.70317964, 54.95408739,\n",
       "       56.23413252, 57.54399373, 58.88436554, 60.25595861, 61.65950019,\n",
       "       63.09573445])"
      ]
     },
     "execution_count": 20,
     "metadata": {},
     "output_type": "execute_result"
    }
   ],
   "source": [
    "fermienergyvals = energy_axis_true.center.value\n",
    "fermienergyvals"
   ]
  },
  {
   "cell_type": "code",
   "execution_count": 21,
   "metadata": {},
   "outputs": [
    {
     "data": {
      "text/latex": [
       "$7.6576088 \\times 10^{-8} \\; \\mathrm{\\frac{1}{TeV\\,s\\,sr\\,cm^{2}}}$"
      ],
      "text/plain": [
       "<Quantity 7.65760877e-08 1 / (cm2 s sr TeV)>"
      ]
     },
     "execution_count": 21,
     "metadata": {},
     "output_type": "execute_result"
    }
   ],
   "source": [
    "fermievaluated[0,0,0]"
   ]
  },
  {
   "cell_type": "code",
   "execution_count": null,
   "metadata": {},
   "outputs": [],
   "source": []
  },
  {
   "cell_type": "code",
   "execution_count": 22,
   "metadata": {},
   "outputs": [
    {
     "data": {
      "image/png": "[encoded data removed]",
      "text/plain": [
       "<Figure size 640x480 with 2 Axes>"
      ]
     },
     "metadata": {},
     "output_type": "display_data"
    }
   ],
   "source": [
    "from matplotlib.colors import LogNorm\n",
    "\n",
    "\n",
    "fermiplotmap = fermievaluated.value\n",
    "combinedplotmap = np.flip(fermiplotmap + fullhessdataset, axis=1)\n",
    "\n",
    "\n",
    "\n",
    "fig6, ax = plt.subplots(dpi=100)\n",
    "plt.pcolormesh(fermilonaxis, fermilataxis, np.max(combinedplotmap,axis=0).T, cmap='afmhot', norm=LogNorm(vmin=1e-6, vmax=5e-5))\n",
    "plt.xlabel(\"Galactic Longitude [deg]\")\n",
    "ax.invert_xaxis()\n",
    "\n",
    "plt.ylabel(\"Galactic Latitude [deg]\")\n",
    "ax.set_aspect(1)\n",
    "plt.colorbar(fraction=0.05, label=r\"1/(cm$^2$ TeV s sr)\")\n",
    "\n",
    "plt.show()"
   ]
  },
  {
   "cell_type": "code",
   "execution_count": 23,
   "metadata": {},
   "outputs": [
    {
     "data": {
      "image/png": "[encoded data removed]",
      "text/plain": [
       "<Figure size 640x480 with 2 Axes>"
      ]
     },
     "metadata": {},
     "output_type": "display_data"
    }
   ],
   "source": [
    "fig6, ax = plt.subplots(dpi=100)\n",
    "plt.pcolormesh(fermilonaxis, fermilataxis, np.max(combinedplotmap,axis=0).T, cmap='afmhot', vmax=1e-5)\n",
    "plt.xlabel(\"Galactic Longitude [deg]\")\n",
    "ax.invert_xaxis()\n",
    "plt.ylabel(\"Galactic Latitude [deg]\")\n",
    "ax.set_aspect(1)\n",
    "plt.colorbar(fraction=0.05, label=r\"1/(cm$^2$ TeV s sr)\")\n",
    "\n",
    "plt.show()"
   ]
  },
  {
   "cell_type": "code",
   "execution_count": 24,
   "metadata": {},
   "outputs": [
    {
     "data": {
      "text/plain": [
       "(261, 36, 31)"
      ]
     },
     "execution_count": 24,
     "metadata": {},
     "output_type": "execute_result"
    }
   ],
   "source": [
    "combinedplotmap.shape"
   ]
  },
  {
   "cell_type": "code",
   "execution_count": 25,
   "metadata": {},
   "outputs": [],
   "source": [
    "from utils3d import irfs"
   ]
  },
  {
   "cell_type": "code",
   "execution_count": 26,
   "metadata": {},
   "outputs": [],
   "source": [
    "aeff = irfs['aeff']"
   ]
  },
  {
   "cell_type": "code",
   "execution_count": 27,
   "metadata": {},
   "outputs": [],
   "source": [
    "aefffunc = lambda energy, offset: aeff.evaluate(energy_true = energy*u.TeV, offset=offset*u.deg).to(u.cm**2).value"
   ]
  },
  {
   "cell_type": "code",
   "execution_count": 28,
   "metadata": {},
   "outputs": [
    {
     "data": {
      "text/plain": [
       "(261, 36, 31)"
      ]
     },
     "execution_count": 28,
     "metadata": {},
     "output_type": "execute_result"
    }
   ],
   "source": [
    "lonmesh, energymesh, latmesh  = np.meshgrid(fermilonaxis, fermienergyvals, fermilataxis)\n",
    "\n",
    "lonmesh.shape"
   ]
  },
  {
   "cell_type": "code",
   "execution_count": 29,
   "metadata": {},
   "outputs": [
    {
     "data": {
      "text/plain": [
       "(261, 36, 31)"
      ]
     },
     "execution_count": 29,
     "metadata": {},
     "output_type": "execute_result"
    }
   ],
   "source": [
    "(lonmesh**2).shape"
   ]
  },
  {
   "cell_type": "code",
   "execution_count": 30,
   "metadata": {},
   "outputs": [],
   "source": [
    "aefftable = aefffunc(energymesh, np.sqrt((lonmesh**2)+(latmesh**2)))"
   ]
  },
  {
   "cell_type": "code",
   "execution_count": 31,
   "metadata": {},
   "outputs": [
    {
     "data": {
      "image/png": "[encoded data removed]",
      "text/plain": [
       "<Figure size 640x480 with 2 Axes>"
      ]
     },
     "metadata": {},
     "output_type": "display_data"
    }
   ],
   "source": [
    "plt.pcolormesh(fermilonaxis, fermilataxis, aefftable[0,:,:].T, vmin=1e8, vmax=2e9)\n",
    "plt.colorbar()\n",
    "plt.show()"
   ]
  },
  {
   "cell_type": "code",
   "execution_count": 32,
   "metadata": {},
   "outputs": [],
   "source": [
    "# aefftable[75,250,250]"
   ]
  },
  {
   "cell_type": "code",
   "execution_count": 33,
   "metadata": {},
   "outputs": [],
   "source": [
    "# fermilataxis[250]"
   ]
  },
  {
   "cell_type": "code",
   "execution_count": 34,
   "metadata": {},
   "outputs": [],
   "source": [
    "# aefffunc(fermienergyvals[75], np.sqrt(fermilonaxis[250]**2+fermilataxis[250]**2))"
   ]
  },
  {
   "cell_type": "code",
   "execution_count": 35,
   "metadata": {},
   "outputs": [
    {
     "data": {
      "text/plain": [
       "array([-5.6016708 , -5.57864495, -5.5556191 , -5.53259325, -5.50956739,\n",
       "       -5.48654154, -5.46351569, -5.44048984, -5.41746399, -5.39443814,\n",
       "       -5.37141229, -5.34838644, -5.32536059, -5.30233474, -5.27930889,\n",
       "       -5.25628303, -5.23325718, -5.21023133, -5.18720548, -5.16417963,\n",
       "       -5.14115378, -5.11812793, -5.09510208, -5.07207623, -5.04905038,\n",
       "       -5.02602453, -5.00299867, -4.97997282, -4.95694697, -4.93392112,\n",
       "       -4.91089527, -4.88786942, -4.86484357, -4.84181772, -4.81879187,\n",
       "       -4.79576602, -4.77274017, -4.74971431, -4.72668846, -4.70366261,\n",
       "       -4.68063676, -4.65761091, -4.63458506, -4.61155921, -4.58853336,\n",
       "       -4.56550751, -4.54248166, -4.5194558 , -4.49642995, -4.4734041 ,\n",
       "       -4.45037825, -4.4273524 , -4.40432655, -4.3813007 , -4.35827485,\n",
       "       -4.335249  , -4.31222315, -4.2891973 , -4.26617144, -4.24314559,\n",
       "       -4.22011974, -4.19709389, -4.17406804, -4.15104219, -4.12801634,\n",
       "       -4.10499049, -4.08196464, -4.05893879, -4.03591294, -4.01288708,\n",
       "       -3.98986123, -3.96683538, -3.94380953, -3.92078368, -3.89775783,\n",
       "       -3.87473198, -3.85170613, -3.82868028, -3.80565443, -3.78262858,\n",
       "       -3.75960272, -3.73657687, -3.71355102, -3.69052517, -3.66749932,\n",
       "       -3.64447347, -3.62144762, -3.59842177, -3.57539592, -3.55237007,\n",
       "       -3.52934421, -3.50631836, -3.48329251, -3.46026666, -3.43724081,\n",
       "       -3.41421496, -3.39118911, -3.36816326, -3.34513741, -3.32211156,\n",
       "       -3.29908571, -3.27605985, -3.253034  , -3.23000815, -3.2069823 ,\n",
       "       -3.18395645, -3.1609306 , -3.13790475, -3.1148789 , -3.09185305,\n",
       "       -3.0688272 , -3.04580135, -3.02277549, -2.99974964, -2.97672379,\n",
       "       -2.95369794, -2.93067209, -2.90764624, -2.88462039, -2.86159454,\n",
       "       -2.83856869, -2.81554284, -2.79251699, -2.76949113, -2.74646528,\n",
       "       -2.72343943, -2.70041358, -2.67738773, -2.65436188, -2.63133603,\n",
       "       -2.60831018, -2.58528433, -2.56225848, -2.53923262, -2.51620677,\n",
       "       -2.49318092, -2.47015507, -2.44712922, -2.42410337, -2.40107752,\n",
       "       -2.37805167, -2.35502582, -2.33199997, -2.30897412, -2.28594826,\n",
       "       -2.26292241, -2.23989656, -2.21687071, -2.19384486, -2.17081901,\n",
       "       -2.14779316, -2.12476731, -2.10174146, -2.07871561, -2.05568976,\n",
       "       -2.0326639 , -2.00963805, -1.9866122 , -1.96358635, -1.9405605 ,\n",
       "       -1.91753465, -1.8945088 , -1.87148295, -1.8484571 , -1.82543125,\n",
       "       -1.8024054 , -1.77937954, -1.75635369, -1.73332784, -1.71030199,\n",
       "       -1.68727614, -1.66425029, -1.64122444, -1.61819859, -1.59517274,\n",
       "       -1.57214689, -1.54912103, -1.52609518, -1.50306933, -1.48004348,\n",
       "       -1.45701763, -1.43399178, -1.41096593, -1.38794008, -1.36491423,\n",
       "       -1.34188838, -1.31886253, -1.29583667, -1.27281082, -1.24978497,\n",
       "       -1.22675912, -1.20373327, -1.18070742, -1.15768157, -1.13465572,\n",
       "       -1.11162987, -1.08860402, -1.06557817, -1.04255231, -1.01952646,\n",
       "       -0.99650061, -0.97347476, -0.95044891, -0.92742306, -0.90439721,\n",
       "       -0.88137136, -0.85834551, -0.83531966, -0.81229381, -0.78926795,\n",
       "       -0.7662421 , -0.74321625, -0.7201904 , -0.69716455, -0.6741387 ,\n",
       "       -0.65111285, -0.628087  , -0.60506115, -0.5820353 , -0.55900944,\n",
       "       -0.53598359, -0.51295774, -0.48993189, -0.46690604, -0.44388019,\n",
       "       -0.42085434, -0.39782849, -0.37480264, -0.35177679, -0.32875094,\n",
       "       -0.30572508, -0.28269923, -0.25967338, -0.23664753, -0.21362168,\n",
       "       -0.19059583, -0.16756998, -0.14454413, -0.12151828, -0.09849243,\n",
       "       -0.07546658, -0.05244072, -0.02941487, -0.00638902,  0.01663683,\n",
       "        0.03966268,  0.06268853,  0.08571438,  0.10874023,  0.13176608,\n",
       "        0.15479193,  0.17781778,  0.20084364,  0.22386949,  0.24689534,\n",
       "        0.26992119,  0.29294704,  0.31597289,  0.33899874,  0.36202459])"
      ]
     },
     "execution_count": 35,
     "metadata": {},
     "output_type": "execute_result"
    }
   ],
   "source": [
    "np.log(fermienergyvals[1:]-fermienergyvals[:-1])"
   ]
  },
  {
   "cell_type": "code",
   "execution_count": 36,
   "metadata": {},
   "outputs": [],
   "source": [
    "combinedplotmapwithaeff = aefftable*combinedplotmap\n",
    "combinedplotmapwithaeff = combinedplotmapwithaeff\n",
    "topbound=1e100\n",
    "combinedplotmapwithaeff[combinedplotmapwithaeff>topbound] = topbound\n",
    "normalisation = np.sum(combinedplotmapwithaeff.T*10**log10eaxistrue)\n",
    "# combinedplotmapwithaeff=combinedplotmapwithaeff/normalisation\n",
    "# modtopbound = topbound/normalisation\n",
    "spatialplotcombined = np.sum((combinedplotmapwithaeff.T*10**log10eaxistrue).T, axis=0)\n",
    "spatialplotcombinedmaxvalue = np.max(spatialplotcombined)"
   ]
  },
  {
   "cell_type": "code",
   "execution_count": 37,
   "metadata": {},
   "outputs": [
    {
     "data": {
      "image/png": "[encoded data removed]",
      "text/plain": [
       "<Figure size 640x480 with 2 Axes>"
      ]
     },
     "metadata": {},
     "output_type": "display_data"
    }
   ],
   "source": [
    "fig, ax = plt.subplots(1,1, dpi=100)\n",
    "plt.pcolormesh(fermilonaxis, fermilataxis, spatialplotcombined.T, vmax=spatialplotcombinedmaxvalue, vmin=spatialplotcombinedmaxvalue/1e4, cmap='afmhot')\n",
    "plt.xlabel(\"Galactic Longitude [deg]\")\n",
    "plt.ylabel(\"Galactic Latitude [deg]\")\n",
    "ax.invert_xaxis()\n",
    "plt.colorbar(label = r\"1/(TeV s sr)\")\n",
    "ax.set_aspect(1)\n",
    "\n",
    "plt.show()"
   ]
  },
  {
   "cell_type": "code",
   "execution_count": 38,
   "metadata": {},
   "outputs": [
    {
     "data": {
      "image/png": "[encoded data removed]",
      "text/plain": [
       "<Figure size 640x480 with 2 Axes>"
      ]
     },
     "metadata": {},
     "output_type": "display_data"
    }
   ],
   "source": [
    "fig, ax = plt.subplots(1,1, dpi=100)\n",
    "plt.pcolormesh(fermilonaxis, fermilataxis, spatialplotcombined.T/normalisation, norm=LogNorm(), cmap='afmhot')\n",
    "plt.xlabel(\"Galactic Longitude [deg]\")\n",
    "plt.ylabel(\"Galactic Latitude [deg]\")\n",
    "ax.invert_xaxis()\n",
    "plt.colorbar(label = r\"1/(TeV s sr)\")\n",
    "plt.show()"
   ]
  },
  {
   "cell_type": "code",
   "execution_count": 39,
   "metadata": {},
   "outputs": [
    {
     "data": {
      "image/png": "[encoded data removed]",
      "text/plain": [
       "<Figure size 640x480 with 2 Axes>"
      ]
     },
     "metadata": {},
     "output_type": "display_data"
    }
   ],
   "source": [
    "fig, ax = plt.subplots(1,1)\n",
    "plt.pcolormesh(fermilonaxis, fermilataxis, np.mean(combinedplotmapwithaeff, axis=0).T, norm=LogNorm(), cmap='inferno')\n",
    "plt.xlabel(\"Galactic Longitude [deg]\")\n",
    "plt.ylabel(\"Galactic Latitude [deg]\")\n",
    "ax.invert_xaxis()\n",
    "plt.colorbar(label = r\"1/(TeV s sr)\")\n",
    "plt.show()"
   ]
  },
  {
   "cell_type": "code",
   "execution_count": 40,
   "metadata": {},
   "outputs": [
    {
     "data": {
      "text/plain": [
       "1.6956726367231233e-202"
      ]
     },
     "execution_count": 40,
     "metadata": {},
     "output_type": "execute_result"
    }
   ],
   "source": [
    "np.min(combinedplotmapwithaeff)"
   ]
  },
  {
   "cell_type": "code",
   "execution_count": 41,
   "metadata": {},
   "outputs": [],
   "source": [
    "np.save(\"unnormalised_astrophysicalbackground.npy\", combinedplotmapwithaeff)"
   ]
  },
  {
   "cell_type": "code",
   "execution_count": 42,
   "metadata": {},
   "outputs": [
    {
     "data": {
      "text/plain": [
       "array([-3. , -2.8, -2.6, -2.4, -2.2, -2. , -1.8, -1.6, -1.4, -1.2, -1. ,\n",
       "       -0.8, -0.6, -0.4, -0.2,  0. ,  0.2,  0.4,  0.6,  0.8,  1. ,  1.2,\n",
       "        1.4,  1.6,  1.8,  2. ,  2.2,  2.4,  2.6,  2.8,  3. ])"
      ]
     },
     "execution_count": 42,
     "metadata": {},
     "output_type": "execute_result"
    }
   ],
   "source": [
    "latitudeaxistrue"
   ]
  },
  {
   "cell_type": "code",
   "execution_count": 43,
   "metadata": {},
   "outputs": [
    {
     "data": {
      "text/plain": [
       "array([-3. , -2.8, -2.6, -2.4, -2.2, -2. , -1.8, -1.6, -1.4, -1.2, -1. ,\n",
       "       -0.8, -0.6, -0.4, -0.2,  0. ,  0.2,  0.4,  0.6,  0.8,  1. ,  1.2,\n",
       "        1.4,  1.6,  1.8,  2. ,  2.2,  2.4,  2.6,  2.8,  3. ])"
      ]
     },
     "execution_count": 43,
     "metadata": {},
     "output_type": "execute_result"
    }
   ],
   "source": [
    "fermilataxis"
   ]
  },
  {
   "cell_type": "code",
   "execution_count": 44,
   "metadata": {},
   "outputs": [
    {
     "data": {
      "text/plain": [
       "array([-3.5, -3.3, -3.1, -2.9, -2.7, -2.5, -2.3, -2.1, -1.9, -1.7, -1.5,\n",
       "       -1.3, -1.1, -0.9, -0.7, -0.5, -0.3, -0.1,  0.1,  0.3,  0.5,  0.7,\n",
       "        0.9,  1.1,  1.3,  1.5,  1.7,  1.9,  2.1,  2.3,  2.5,  2.7,  2.9,\n",
       "        3.1,  3.3,  3.5])"
      ]
     },
     "execution_count": 44,
     "metadata": {},
     "output_type": "execute_result"
    }
   ],
   "source": [
    "fermilonaxis"
   ]
  },
  {
   "cell_type": "code",
   "execution_count": 45,
   "metadata": {},
   "outputs": [
    {
     "data": {
      "text/plain": [
       "(36,)"
      ]
     },
     "execution_count": 45,
     "metadata": {},
     "output_type": "execute_result"
    }
   ],
   "source": [
    "longitudeaxistrue.shape"
   ]
  },
  {
   "cell_type": "code",
   "execution_count": null,
   "metadata": {},
   "outputs": [],
   "source": []
  }
 ],
 "metadata": {
  "kernelspec": {
   "display_name": "please",
   "language": "python",
   "name": "python3"
  },
  "language_info": {
   "codemirror_mode": {
    "name": "ipython",
    "version": 3
   },
   "file_extension": ".py",
   "mimetype": "text/x-python",
   "name": "python",
   "nbconvert_exporter": "python",
   "pygments_lexer": "ipython3",
   "version": "3.9.16"
  },
  "orig_nbformat": 4
 },
 "nbformat": 4,
 "nbformat_minor": 2
}
