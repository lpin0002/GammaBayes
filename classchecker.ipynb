{
 "cells": [
  {
   "cell_type": "code",
   "execution_count": 1,
   "metadata": {},
   "outputs": [
    {
     "name": "stderr",
     "output_type": "stream",
     "text": [
      "/Users/lpin0002/anaconda3/envs/please/lib/python3.9/site-packages/tqdm/auto.py:21: TqdmWarning: IProgress not found. Please update jupyter and ipywidgets. See https://ipywidgets.readthedocs.io/en/stable/user_install.html\n",
      "  from .autonotebook import tqdm as notebook_tqdm\n"
     ]
    }
   ],
   "source": [
    "from likelihood import discrete_loglikelihood\n",
    "from SS_DM_Prior import SS_DM_dist_setup\n",
    "from prior import discrete_logprior\n",
    "import numpy as np\n",
    "from scipy.special import logsumexp\n",
    "from scipy import interpolate\n",
    "from matplotlib import pyplot as plt\n",
    "import pandas as pd\n",
    "from tqdm.auto import tqdm\n",
    "from time import perf_counter\n",
    "\n",
    "# disc_prior = discrete_logprior(logfunction=lambda x, y, z, w: np.log(np.abs(y+x-w)*z), name='test',\n",
    "#                                axes=(np.linspace(0,1,101), np.linspace(0,1,51),), axes_names=['energy', 'offset'],\n",
    "#                                default_hyperparameter_values=(1,1), hyperparameter_names=['h1', 'h2'])"
   ]
  },
  {
   "cell_type": "code",
   "execution_count": 2,
   "metadata": {},
   "outputs": [
    {
     "data": {
      "text/plain": [
       "4.046410125"
      ]
     },
     "execution_count": 2,
     "metadata": {},
     "output_type": "execute_result"
    }
   ],
   "source": [
    "start = perf_counter()\n",
    "start"
   ]
  },
  {
   "cell_type": "code",
   "execution_count": 3,
   "metadata": {},
   "outputs": [],
   "source": [
    "# disc_prior"
   ]
  },
  {
   "cell_type": "code",
   "execution_count": 4,
   "metadata": {},
   "outputs": [],
   "source": [
    "# plt.figure()\n",
    "# plt.hist2d(*disc_prior.sample(100000), bins=(50,50))\n",
    "# plt.show()"
   ]
  },
  {
   "cell_type": "code",
   "execution_count": 5,
   "metadata": {},
   "outputs": [],
   "source": [
    "numsamples = int(1e3)\n",
    "signalfraction = 1.0\n",
    "truelogmass = 1.0\n",
    "\n",
    "nsig = int(round(signalfraction*numsamples))\n",
    "nbkg = int(round((1-signalfraction)*numsamples))\n",
    "\n",
    "signalfraction = nsig/(nsig+nbkg)"
   ]
  },
  {
   "cell_type": "markdown",
   "metadata": {},
   "source": [
    "# Prior Sampling"
   ]
  },
  {
   "cell_type": "markdown",
   "metadata": {},
   "source": [
    "## Dark Matter Prior"
   ]
  },
  {
   "cell_type": "code",
   "execution_count": 6,
   "metadata": {},
   "outputs": [],
   "source": [
    "darkSUSY_to_Gammapy_converter = {\n",
    "    \"nuenue\":\"nu_e\",\n",
    "    \"e+e-\": \"e\",\n",
    "    \"numunumu\":\"nu_mu\",\n",
    "    \"mu+mu-\":\"mu\",\n",
    "    'nutaunutau':\"nu_tau\",\n",
    "    \"tau+tau-\":\"tau\",\n",
    "    \"cc\": \"c\",\n",
    "    \"bb\": \"b\",\n",
    "    \"tt\": \"t\",\n",
    "    \"W+W-\": \"W\",\n",
    "    \"ZZ\": \"Z\",\n",
    "    \"gg\": \"g\",\n",
    "    \"gammagamma\": \"gamma\",\n",
    "    \"HH\": \"h\",\n",
    "}\n",
    "\n",
    "darkSUSY_BFs_cleaned = pd.read_csv('BFCalc/darkSUSY_BFs/darkSUSY_BFs_cleaned.csv', delimiter=' ')\n",
    "\n",
    "darkSUSY_massvalues = darkSUSY_BFs_cleaned.iloc[:,1]/1e3\n",
    "\n",
    "darkSUSY_lambdavalues = darkSUSY_BFs_cleaned.iloc[:,2]\n",
    "\n",
    "channelfuncdictionary = {}\n",
    "\n",
    "modulefolderpath = 'BFCalc'\n",
    "log10xvals = np.load(modulefolderpath+f\"/griddata/log10xvals_massenergy_diffflux_grid.npy\")\n",
    "massvalues = np.load(modulefolderpath+f\"/griddata/massvals_massenergy_diffflux_grid.npy\")\n",
    "\n",
    "for darkSUSYchannel in list(darkSUSY_to_Gammapy_converter.keys()):\n",
    "    gammapychannel = darkSUSY_to_Gammapy_converter[darkSUSYchannel]\n",
    "    \n",
    "    tempspectragrid = np.load(modulefolderpath+f\"/griddata/channel={gammapychannel}_massenergy_diffflux_grid.npy\")\n",
    "    \n",
    "    channelfuncdictionary[darkSUSYchannel] = interpolate.RegularGridInterpolator((np.log10(massvalues/1e3), log10xvals), np.array(tempspectragrid), \n",
    "                                                                                 method='linear', bounds_error=False, fill_value=1e-3000)\n",
    "\n",
    "\n",
    "\n",
    "partial_sigmav_interpolator_dictionary = {channel: interpolate.LinearNDInterpolator((darkSUSY_massvalues, darkSUSY_lambdavalues),darkSUSY_BFs_cleaned.iloc[:,idx+3]) for idx, channel in enumerate(list(darkSUSY_to_Gammapy_converter.keys()))}\n",
    "\n",
    "\n",
    "\n",
    "def nontrivial_coupling(logmass, logenergy, coupling=0.1, partial_sigmav_interpolator_dictionary=partial_sigmav_interpolator_dictionary, channelfuncdictionary=channelfuncdictionary ):\n",
    "    \n",
    "    \n",
    "    logspectra = -np.inf\n",
    "    for channel in channelfuncdictionary.keys():\n",
    "        logspectra = np.logaddexp(logspectra, np.log(partial_sigmav_interpolator_dictionary[channel](10**logmass, coupling)*channelfuncdictionary[channel]((logmass, logenergy-logmass))))\n",
    "    \n",
    "    \n",
    "    return logspectra\n",
    "        "
   ]
  },
  {
   "cell_type": "code",
   "execution_count": 7,
   "metadata": {},
   "outputs": [],
   "source": [
    "from utils3d import longitudeaxistrue, latitudeaxistrue, log10eaxistrue\n",
    "\n",
    "logDMpriorfunc = SS_DM_dist_setup(nontrivial_coupling, longitudeaxistrue, latitudeaxistrue)"
   ]
  },
  {
   "cell_type": "code",
   "execution_count": 8,
   "metadata": {},
   "outputs": [],
   "source": [
    "logenergy_true_logjacob = np.meshgrid(np.log(10**log10eaxistrue), longitudeaxistrue, latitudeaxistrue, indexing='ij')[0]"
   ]
  },
  {
   "cell_type": "code",
   "execution_count": 9,
   "metadata": {},
   "outputs": [
    {
     "name": "stdout",
     "output_type": "stream",
     "text": [
      "(1.0,)\n"
     ]
    },
    {
     "data": {
      "text/plain": [
       "discrete log prior class\n",
       "----------------------------\n",
       "name = Scalar Singlet Dark Matter Prior\n",
       "logfunction type is <function SS_DM_dist_setup.<locals>.DM_signal_dist at 0x7f9643ced790>\n",
       "input units of None\n",
       "over axes ['energy', 'lon', 'lat']\n",
       "with hyperparameter(s) ['mass']"
      ]
     },
     "execution_count": 9,
     "metadata": {},
     "output_type": "execute_result"
    }
   ],
   "source": [
    "DM_prior = discrete_logprior(logfunction=logDMpriorfunc, name='Scalar Singlet Dark Matter Prior',\n",
    "                               axes=(log10eaxistrue, longitudeaxistrue, latitudeaxistrue,), axes_names=['energy', 'lon', 'lat'],\n",
    "                               default_hyperparameter_values=(truelogmass,), hyperparameter_names=['mass'], logjacob=logenergy_true_logjacob)\n",
    "DM_prior"
   ]
  },
  {
   "cell_type": "code",
   "execution_count": 10,
   "metadata": {},
   "outputs": [],
   "source": [
    "sig_samples = DM_prior.sample(nsig)"
   ]
  },
  {
   "cell_type": "code",
   "execution_count": 11,
   "metadata": {},
   "outputs": [],
   "source": [
    "sigpriorvalues = np.exp(logsumexp(DM_prior((*np.meshgrid(log10eaxistrue, longitudeaxistrue, latitudeaxistrue, indexing='ij'),), (truelogmass,))+logenergy_true_logjacob, axis=(1,2)))"
   ]
  },
  {
   "cell_type": "code",
   "execution_count": 12,
   "metadata": {},
   "outputs": [
    {
     "data": {
      "image/png": "[encoded data removed]",
      "text/plain": [
       "<Figure size 1300x500 with 3 Axes>"
      ]
     },
     "metadata": {},
     "output_type": "display_data"
    }
   ],
   "source": [
    "from matplotlib.colors import LogNorm\n",
    "\n",
    "plt.figure(figsize=(13,5))\n",
    "plt.subplot(1,2,1)\n",
    "plt.hist2d(sig_samples[1,:], sig_samples[2,:], bins=(longitudeaxistrue, latitudeaxistrue), norm=LogNorm())\n",
    "plt.colorbar()\n",
    "\n",
    "plt.subplot(1,2,2)\n",
    "sigtruehistvals = plt.hist(sig_samples[0,:], bins=log10eaxistrue,)\n",
    "plt.plot(log10eaxistrue, np.max(sigtruehistvals[0])*sigpriorvalues/np.max(sigpriorvalues))\n",
    "plt.yscale('log')\n",
    "\n",
    "plt.tight_layout()"
   ]
  },
  {
   "cell_type": "markdown",
   "metadata": {},
   "source": [
    "## Background Prior"
   ]
  },
  {
   "cell_type": "code",
   "execution_count": 13,
   "metadata": {},
   "outputs": [],
   "source": [
    "astrophysicalbackground = np.load(\"unnormalised_astrophysicalbackground.npy\")\n",
    "from utils3d import bkgdist\n",
    "\n",
    "nuisancemesh = np.meshgrid(log10eaxistrue, longitudeaxistrue, latitudeaxistrue, indexing='ij')\n",
    "\n",
    "# unnormed_logbkgpriorvalues = np.logaddexp(np.squeeze(bkgdist(*nuisancemesh)),np.log(astrophysicalbackground))\n",
    "unnormed_logbkgpriorvalues = np.squeeze(bkgdist(*nuisancemesh))\n",
    "\n",
    "\n",
    "logbkgfunc_annoying = interpolate.RegularGridInterpolator((log10eaxistrue, longitudeaxistrue, latitudeaxistrue), np.exp(unnormed_logbkgpriorvalues))\n",
    "logbkgfunc = lambda logenergy, longitude, latitude: np.log(logbkgfunc_annoying((logenergy, longitude, latitude)))\n",
    "\n",
    "\n",
    "bkg_prior = discrete_logprior(logfunction=logbkgfunc, name='Background Prior',\n",
    "                               axes=(log10eaxistrue, longitudeaxistrue, latitudeaxistrue,), \n",
    "                               axes_names=['energy', 'lon', 'lat'], logjacob=logenergy_true_logjacob)"
   ]
  },
  {
   "cell_type": "code",
   "execution_count": 14,
   "metadata": {},
   "outputs": [
    {
     "data": {
      "text/plain": [
       "2.916085249811148"
      ]
     },
     "execution_count": 14,
     "metadata": {},
     "output_type": "execute_result"
    }
   ],
   "source": [
    "bkg_prior((0.0,0.0,0.0))"
   ]
  },
  {
   "cell_type": "code",
   "execution_count": 15,
   "metadata": {},
   "outputs": [
    {
     "data": {
      "text/plain": [
       "[]"
      ]
     },
     "execution_count": 15,
     "metadata": {},
     "output_type": "execute_result"
    }
   ],
   "source": [
    "\n",
    "if nbkg>0:\n",
    "    bkg_samples = bkg_prior.sample(nbkg)\n",
    "else:\n",
    "    bkg_samples = []\n",
    "\n",
    "bkg_samples"
   ]
  },
  {
   "cell_type": "code",
   "execution_count": 16,
   "metadata": {},
   "outputs": [],
   "source": [
    "if nbkg>0:\n",
    "    plt.figure(figsize=(13,5))\n",
    "    logenergycutoff = 0.0\n",
    "    plt.subplot(1,2,1)\n",
    "    plt.hist2d(bkg_samples[:,bkg_samples[0]>logenergycutoff][1,:],\n",
    "            bkg_samples[:,bkg_samples[0]>logenergycutoff][2,:], \n",
    "            bins=[longitudeaxistrue-0.5*(longitudeaxistrue[1]-longitudeaxistrue[0]), latitudeaxistrue-0.5*(latitudeaxistrue[1]-latitudeaxistrue[0])])\n",
    "\n",
    "    plt.subplot(1,2,2)\n",
    "    plt.hist(bkg_samples[0,:])\n",
    "    plt.yscale('log')\n",
    "    plt.show()"
   ]
  },
  {
   "cell_type": "code",
   "execution_count": 17,
   "metadata": {},
   "outputs": [
    {
     "data": {
      "image/png": "[encoded data removed]",
      "text/plain": [
       "<Figure size 640x480 with 4 Axes>"
      ]
     },
     "metadata": {},
     "output_type": "display_data"
    }
   ],
   "source": [
    "\n",
    "plt.figure()\n",
    "\n",
    "plt.subplot(221)\n",
    "plt.plot(log10eaxistrue, bkg_prior((log10eaxistrue,0.0,0.0)))\n",
    "plt.subplot(222)\n",
    "plt.pcolormesh(longitudeaxistrue, latitudeaxistrue, bkg_prior((*np.meshgrid(log10eaxistrue, longitudeaxistrue, latitudeaxistrue, indexing='ij'),))[160,:,:].T)\n",
    "\n",
    "plt.subplot(223)\n",
    "plt.plot(log10eaxistrue, logDMpriorfunc(log10eaxistrue,0.0,0.0, 0.0))\n",
    "plt.subplot(224)\n",
    "plt.pcolormesh(longitudeaxistrue, latitudeaxistrue, logDMpriorfunc(0.0,*np.meshgrid(longitudeaxistrue, latitudeaxistrue, indexing='ij'), 0.0).T)\n",
    "plt.show()"
   ]
  },
  {
   "cell_type": "markdown",
   "metadata": {},
   "source": [
    "# Likelihood Sampling"
   ]
  },
  {
   "cell_type": "code",
   "execution_count": 18,
   "metadata": {},
   "outputs": [
    {
     "name": "stdout",
     "output_type": "stream",
     "text": [
      "Number of input dimensions 2\n",
      "beeeep\n",
      "Number of data dimensions 2\n",
      "Axes shape: (100, 100)\n"
     ]
    }
   ],
   "source": [
    "testfunc = lambda w, x, y, z: w*z+x*y\n",
    "disc_like = discrete_loglikelihood(logfunction=testfunc, \n",
    "                                   axes=(np.linspace(0,1,100),np.linspace(-1,1,100),), \n",
    "                                   dependent_axes=(np.linspace(1,2,100),np.linspace(-1,1,100),))\n"
   ]
  },
  {
   "cell_type": "code",
   "execution_count": 19,
   "metadata": {},
   "outputs": [],
   "source": [
    "testsamples = disc_like.sample((2.0,-1.0), int(1e5))"
   ]
  },
  {
   "cell_type": "code",
   "execution_count": 20,
   "metadata": {},
   "outputs": [
    {
     "data": {
      "text/plain": [
       "(100000, 2)"
      ]
     },
     "execution_count": 20,
     "metadata": {},
     "output_type": "execute_result"
    }
   ],
   "source": [
    "testsamples.shape"
   ]
  },
  {
   "cell_type": "code",
   "execution_count": 21,
   "metadata": {},
   "outputs": [
    {
     "data": {
      "image/png": "[encoded data removed]",
      "text/plain": [
       "<Figure size 640x480 with 2 Axes>"
      ]
     },
     "metadata": {},
     "output_type": "display_data"
    }
   ],
   "source": [
    "testaxis1, testaxis2 = np.linspace(0,1,100),np.linspace(-1,1,100)\n",
    "\n",
    "plt.figure()\n",
    "plt.subplot(121)\n",
    "plt.pcolormesh(testaxis1, testaxis2, testfunc(*np.meshgrid(testaxis1, testaxis2, indexing='ij'), 2.0, -1.0,))\n",
    "\n",
    "plt.subplot(122)\n",
    "plt.hist2d(testsamples[0], testsamples[1], bins=[100, 100])\n",
    "plt.show()"
   ]
  },
  {
   "cell_type": "markdown",
   "metadata": {},
   "source": [
    "## Energy Dispersion"
   ]
  },
  {
   "cell_type": "code",
   "execution_count": 22,
   "metadata": {},
   "outputs": [
    {
     "name": "stdout",
     "output_type": "stream",
     "text": [
      "Number of input dimensions 1\n",
      "boop\n",
      "Axes shape: (171,)\n"
     ]
    },
    {
     "data": {
      "text/plain": [
       "discrete log likelihood class\n",
       "---------------------------------\n",
       "name = energy dispersion\n",
       "logfunction type is <function edisp_test at 0x7f96007b9160>\n",
       "input units of None\n",
       "over axes log10E recon\n",
       "with dependent axes ['log10E true', 'lon', 'lat']"
      ]
     },
     "execution_count": 22,
     "metadata": {},
     "output_type": "execute_result"
    }
   ],
   "source": [
    "from utils3d import edisp_test, psf_test, log10eaxis, longitudeaxis, latitudeaxis\n",
    "logjacob_log10e_recon = np.log(10**log10eaxis)\n",
    "edisp_like = discrete_loglikelihood(logfunction=edisp_test, \n",
    "                                    axes=(log10eaxis,), axes_names='log10E recon',\n",
    "                                    name='energy dispersion',\n",
    "                                    dependent_axes=(log10eaxistrue, longitudeaxistrue, latitudeaxistrue,), logjacob=logjacob_log10e_recon,\n",
    "                                    dependent_axes_names = ['log10E true', 'lon', 'lat'])\n",
    "edisp_like"
   ]
  },
  {
   "cell_type": "code",
   "execution_count": 23,
   "metadata": {},
   "outputs": [
    {
     "name": "stderr",
     "output_type": "stream",
     "text": [
      "100%|██████████| 1000/1000 [00:00<00:00, 1433.94it/s]\n"
     ]
    }
   ],
   "source": [
    "sig_log10e_edisp_samples = [edisp_like.sample(signal_event_tuple, 1).tolist() for signal_event_tuple in tqdm(sig_samples.T)]"
   ]
  },
  {
   "cell_type": "code",
   "execution_count": 24,
   "metadata": {},
   "outputs": [],
   "source": [
    "signalpriorvals = np.exp(logsumexp(DM_prior((*np.meshgrid(log10eaxistrue, longitudeaxistrue, latitudeaxistrue, indexing='ij'),), (truelogmass,))+logenergy_true_logjacob, axis=(1,2)))"
   ]
  },
  {
   "cell_type": "code",
   "execution_count": 25,
   "metadata": {},
   "outputs": [
    {
     "data": {
      "image/png": "[encoded data removed]",
      "text/plain": [
       "<Figure size 640x480 with 1 Axes>"
      ]
     },
     "metadata": {},
     "output_type": "display_data"
    }
   ],
   "source": [
    "plt.figure()\n",
    "histvals = plt.hist(np.squeeze(sig_log10e_edisp_samples), bins=log10eaxis)\n",
    "plt.plot(log10eaxistrue, np.max(histvals[0])*signalpriorvals/np.max(signalpriorvals))\n",
    "plt.show()"
   ]
  },
  {
   "cell_type": "code",
   "execution_count": 26,
   "metadata": {},
   "outputs": [],
   "source": [
    "if nbkg>0:\n",
    "    bkg_log10e_edisp_samples = [edisp_like.sample(event_tuple, 1).tolist() for event_tuple in tqdm(bkg_samples.T)]\n",
    "else:\n",
    "    bkg_log10e_edisp_samples = np.array([])"
   ]
  },
  {
   "cell_type": "code",
   "execution_count": 27,
   "metadata": {},
   "outputs": [],
   "source": [
    "\n",
    "if nbkg>0:\n",
    "    bkgpriorvals = np.exp(logsumexp(bkg_prior((*np.meshgrid(log10eaxistrue, longitudeaxistrue, latitudeaxistrue, indexing='ij'),))+logenergy_true_logjacob, axis=(1,2)))\n",
    "\n",
    "    plt.figure()\n",
    "    histvals = plt.hist(np.squeeze(bkg_log10e_edisp_samples), bins=log10eaxis)\n",
    "    plt.plot(log10eaxistrue, np.max(histvals[0])*bkgpriorvals/np.max(bkgpriorvals))\n",
    "    plt.show()"
   ]
  },
  {
   "cell_type": "markdown",
   "metadata": {},
   "source": [
    "## Point spread function"
   ]
  },
  {
   "cell_type": "code",
   "execution_count": 28,
   "metadata": {},
   "outputs": [
    {
     "name": "stdout",
     "output_type": "stream",
     "text": [
      "Number of input dimensions 2\n",
      "beeeep\n",
      "Number of data dimensions 2\n",
      "Axes shape: (18, 15)\n"
     ]
    },
    {
     "data": {
      "text/plain": [
       "discrete log likelihood class\n",
       "---------------------------------\n",
       "name = point spread function \n",
       "logfunction type is <function psf_test at 0x7f96027ada60>\n",
       "input units of None\n",
       "over axes ['longitude recon', 'latitude recon']\n",
       "with dependent axes ['log10E true', 'lon', 'lat']"
      ]
     },
     "execution_count": 28,
     "metadata": {},
     "output_type": "execute_result"
    }
   ],
   "source": [
    "psf_like = discrete_loglikelihood(logfunction=psf_test, \n",
    "                                    axes=(longitudeaxis, latitudeaxis), axes_names=['longitude recon', 'latitude recon'],\n",
    "                                    name='point spread function ',\n",
    "                                    dependent_axes=(log10eaxistrue, longitudeaxistrue, latitudeaxistrue,),\n",
    "                                    dependent_axes_names = ['log10E true', 'lon', 'lat'])\n",
    "psf_like"
   ]
  },
  {
   "cell_type": "code",
   "execution_count": 29,
   "metadata": {},
   "outputs": [
    {
     "data": {
      "text/plain": [
       "array([4.70864182])"
      ]
     },
     "execution_count": 29,
     "metadata": {},
     "output_type": "execute_result"
    }
   ],
   "source": [
    "psf_like(0.0,0.0,0.0,0.0,0.0)"
   ]
  },
  {
   "cell_type": "code",
   "execution_count": 30,
   "metadata": {},
   "outputs": [
    {
     "name": "stderr",
     "output_type": "stream",
     "text": [
      "100%|██████████| 1000/1000 [00:06<00:00, 147.71it/s]\n"
     ]
    }
   ],
   "source": [
    "# sig_lonlat_psf_samples =  np.array([list(psf_like.sample(signal_event_tuple, 1) for signal_event_tuple in tqdm(sig_samples.T))]) \n",
    "\n",
    "\n",
    "sig_lon_psf_samples = []\n",
    "sig_lat_psf_samples = []\n",
    "\n",
    "if nsig>0:\n",
    "    \n",
    "    sig_lonlat_psf_samples =  [psf_like.sample(signal_event_tuple, 1).tolist() for signal_event_tuple in tqdm(sig_samples.T)]\n",
    "    \n",
    "    for sig_lonlat_psf_sample in sig_lonlat_psf_samples:\n",
    "        sig_lon_psf_samples.append(sig_lonlat_psf_sample[0])\n",
    "        sig_lat_psf_samples.append(sig_lonlat_psf_sample[1])"
   ]
  },
  {
   "cell_type": "code",
   "execution_count": 31,
   "metadata": {},
   "outputs": [
    {
     "data": {
      "image/png": "[encoded data removed]",
      "text/plain": [
       "<Figure size 1400x500 with 4 Axes>"
      ]
     },
     "metadata": {},
     "output_type": "display_data"
    }
   ],
   "source": [
    "plt.figure(figsize=(14,5))\n",
    "\n",
    "plt.subplot(121)\n",
    "plt.hist2d(sig_lon_psf_samples, sig_lat_psf_samples, bins=[longitudeaxis, latitudeaxis])\n",
    "plt.colorbar()\n",
    "\n",
    "\n",
    "\n",
    "plt.subplot(122)\n",
    "signalpriorvals = np.exp(logsumexp(DM_prior((*np.meshgrid(log10eaxistrue, longitudeaxistrue, latitudeaxistrue, indexing='ij'),), (1.0,))+logenergy_true_logjacob, axis=0))\n",
    "plt.pcolormesh(longitudeaxistrue, latitudeaxistrue, signalpriorvals.T)\n",
    "plt.colorbar()\n",
    "plt.show()"
   ]
  },
  {
   "cell_type": "code",
   "execution_count": 32,
   "metadata": {},
   "outputs": [],
   "source": [
    "bkg_lon_psf_samples = []\n",
    "bkg_lat_psf_samples = []\n",
    "\n",
    "if nbkg>0:\n",
    "    \n",
    "    bkg_lonlat_psf_samples =  [psf_like.sample(event_tuple, 1).tolist() for event_tuple in tqdm(bkg_samples.T)]\n",
    "    \n",
    "    for bkg_lonlat_psf_sample in bkg_lonlat_psf_samples:\n",
    "        bkg_lon_psf_samples.append(bkg_lonlat_psf_sample[0])\n",
    "        bkg_lat_psf_samples.append(bkg_lonlat_psf_sample[1])\n",
    "else:\n",
    "    bkg_lonlat_psf_samples = []\n",
    "    \n"
   ]
  },
  {
   "cell_type": "code",
   "execution_count": 33,
   "metadata": {},
   "outputs": [],
   "source": [
    "if nbkg>0:\n",
    "    plt.figure(figsize=(14,5))\n",
    "\n",
    "    plt.subplot(121)\n",
    "    plt.hist2d(bkg_lon_psf_samples, bkg_lat_psf_samples, bins=[longitudeaxis, latitudeaxis])\n",
    "    plt.colorbar()\n",
    "\n",
    "\n",
    "\n",
    "    plt.subplot(122)\n",
    "    bkgpriorvals = np.exp(logsumexp(bkg_prior((*np.meshgrid(log10eaxistrue, longitudeaxistrue, latitudeaxistrue, indexing='ij'),),)+logenergy_true_logjacob, axis=0))\n",
    "    plt.pcolormesh(longitudeaxistrue, latitudeaxistrue, bkgpriorvals.T)\n",
    "    plt.colorbar()\n",
    "    plt.show()"
   ]
  },
  {
   "cell_type": "code",
   "execution_count": 34,
   "metadata": {},
   "outputs": [],
   "source": [
    "end = perf_counter()"
   ]
  },
  {
   "cell_type": "code",
   "execution_count": 35,
   "metadata": {},
   "outputs": [
    {
     "data": {
      "text/plain": [
       "'It took 26.464257208 seconds for 1000 events'"
      ]
     },
     "execution_count": 35,
     "metadata": {},
     "output_type": "execute_result"
    }
   ],
   "source": [
    "f'It took {end-start} seconds for {numsamples} events'"
   ]
  },
  {
   "cell_type": "code",
   "execution_count": 36,
   "metadata": {},
   "outputs": [
    {
     "data": {
      "text/plain": [
       "3"
      ]
     },
     "execution_count": 36,
     "metadata": {},
     "output_type": "execute_result"
    }
   ],
   "source": [
    "log10e_edisp_samples = np.array(list(sig_log10e_edisp_samples)+list(bkg_log10e_edisp_samples)).flatten()\n",
    "lon_psf_samples = np.array(list(sig_lon_psf_samples) + list(bkg_lon_psf_samples)).flatten()\n",
    "lat_psf_samples = np.array(list(sig_lat_psf_samples) + list(bkg_lat_psf_samples)).flatten()\n",
    "\n",
    "measuredvals = (log10e_edisp_samples, lon_psf_samples, lat_psf_samples)\n",
    "\n",
    "len(measuredvals)"
   ]
  },
  {
   "cell_type": "markdown",
   "metadata": {},
   "source": [
    "# True Value Marginalisation"
   ]
  },
  {
   "cell_type": "code",
   "execution_count": 45,
   "metadata": {},
   "outputs": [],
   "source": [
    "import warnings\n",
    "\n",
    "\n",
    "def marginalise(likelihoods, priors, axisvals=np.array([]), axes=None, dependent_axes=None, hyperparameter_axes=None, logjacob=0):\n",
    "    \n",
    "    numpriors = len(priors)\n",
    "    \n",
    "    if axes is None:\n",
    "        axes = likelihoods[0].axes\n",
    "    if dependent_axes is None:\n",
    "        dependent_axes = priors[0].axes\n",
    "        \n",
    "        \n",
    "    if hyperparameter_axes is None:\n",
    "    \n",
    "        hyperparameter_axes = ((None,) for idx in range(numpriors))\n",
    "        \n",
    "        warnings.warn(f'''No hyperparameter values given. \\nAssuming axes given by {hyperparameter_axes}''')\n",
    "\n",
    "    \n",
    "    num_hyperparameter_axes = len(hyperparameter_axes)\n",
    "\n",
    "\n",
    "    if numpriors!=num_hyperparameter_axes:\n",
    "        warnings.warn('''Number of prior objects does not match the number of hyperparameter_axes.\n",
    "It is presumed that the hyperparameter axes are given in the same order as the respective prior objects.''')\n",
    "    \n",
    "    \n",
    "    prior_logjacob = priors[0].logjacob\n",
    "    \n",
    "    dependentaxes_mesh = np.meshgrid(*dependent_axes, indexing='ij')\n",
    "    priorarrays = []\n",
    "    for idx in range(numpriors):\n",
    "        prior = priors[idx]\n",
    "        single_prior_arrays = []\n",
    "        if hyperparameter_axes[idx]!=None:\n",
    "            for hyper_index, hyper_parameter_values in tqdm(enumerate(np.array(hyperparameter_axes[idx]).T), total=len(list(hyperparameter_axes))):\n",
    "                print(hyper_parameter_values)\n",
    "                hyper_mesh = []\n",
    "                \n",
    "                for hyper_parameter_value in hyper_parameter_values:\n",
    "                    hyper_mesh.append(dependentaxes_mesh[0]*0+hyper_parameter_value)\n",
    "                \n",
    "                single_prior_array = prior.logfunction(*dependentaxes_mesh, *hyper_mesh)\n",
    "                single_prior_arrays.append(single_prior_array-logsumexp(single_prior_array+logjacob))\n",
    "        else:\n",
    "            single_prior_array = prior.logfunction(*dependentaxes_mesh)\n",
    "            single_prior_arrays = [single_prior_array-logsumexp(single_prior_array+logjacob)]\n",
    "            print(len(single_prior_arrays))\n",
    "            \n",
    "        priorarrays.append(single_prior_arrays)\n",
    "        \n",
    "    \n",
    "    \n",
    "    \n",
    "    margvals = []\n",
    "    for axisval in tqdm(zip(*axisvals), total=len(list(axisvals[0]))):\n",
    "        single_measured_log10e, single_measured_lon, single_measured_lat = axisval\n",
    "\n",
    "        measured_logemesh, measured_longitudemesh, measured_latitudemesh, nuisance_logemesh, nuisance_longitudemesh, nuisance_latitudemesh = np.meshgrid(single_measured_log10e, \n",
    "                                                                                                                                                          single_measured_lon, \n",
    "                                                                                                                                                          single_measured_lat,\n",
    "                                                                                                                                                          log10eaxistrue,\n",
    "                                                                                                                                                          longitudeaxistrue,\n",
    "                                                                                                                                                          latitudeaxistrue,\n",
    "                                                                                                                                                          indexing='ij')\n",
    "\n",
    "\n",
    "        psfvalues = np.squeeze(psf_test(measured_longitudemesh.flatten(), \n",
    "                                        measured_latitudemesh.flatten(), \n",
    "                                        nuisance_logemesh.flatten(), \n",
    "                                        nuisance_longitudemesh.flatten(), \n",
    "                                        nuisance_latitudemesh.flatten()).reshape(nuisance_logemesh.shape)) \n",
    "\n",
    "        edispvalues = np.squeeze(edisp_test(measured_logemesh,\n",
    "                                            nuisance_logemesh, \n",
    "                                            nuisance_longitudemesh, \n",
    "                                            nuisance_latitudemesh).reshape(nuisance_logemesh.shape))\n",
    "\n",
    "\n",
    "\n",
    "            \n",
    "        singleevent_margvals = []\n",
    "        for prior_array_type in priorarrays:\n",
    "            prior_type_marg_results = []\n",
    "            for prior_array in prior_array_type:\n",
    "                output = logsumexp(prior_array+logjacob+psfvalues+edispvalues)\n",
    "                prior_type_marg_results.append(output)\n",
    "                \n",
    "            if len(prior_type_marg_results)==1:\n",
    "                prior_type_marg_results = prior_type_marg_results[0]\n",
    "                singleevent_margvals.append(prior_type_marg_results)\n",
    "            else:\n",
    "                singleevent_margvals.append(prior_type_marg_results)\n",
    "            \n",
    "        margvals.append(singleevent_margvals)\n",
    "\n",
    "    fullresult = list(range(numpriors))\n",
    "    \n",
    "    firstresult = margvals[0]\n",
    "    singleevent_result = []\n",
    "    for idx, singleprior_result in enumerate(firstresult):\n",
    "        fullresult[idx] = [singleprior_result]\n",
    "        \n",
    "    for result in margvals[1:]:\n",
    "        singleevent_result = []\n",
    "        for idx, singleprior_result in enumerate(result):\n",
    "            fullresult[idx] = fullresult[idx]+[singleprior_result]\n",
    "        \n",
    "    for idx, result in enumerate(fullresult):\n",
    "        fullresult[idx] = np.array(result)\n",
    "    return fullresult"
   ]
  },
  {
   "cell_type": "code",
   "execution_count": 46,
   "metadata": {},
   "outputs": [
    {
     "name": "stdout",
     "output_type": "stream",
     "text": [
      "[0.81026334 0.81785281 0.82544227 0.83303174 0.84062121 0.84821067\n",
      " 0.85580014 0.86338961 0.87097907 0.87856854 0.886158   0.89374747\n",
      " 0.90133694 0.9089264  0.91651587 0.92410534 0.9316948  0.93928427\n",
      " 0.94687374 0.9544632  0.96205267 0.96964213 0.9772316  0.98482107\n",
      " 0.99241053 1.         1.00758947 1.01517893 1.0227684  1.03035787\n",
      " 1.03794733 1.0455368  1.05312626 1.06071573 1.0683052  1.07589466\n",
      " 1.08348413 1.0910736  1.09866306 1.10625253 1.113842   1.12143146\n",
      " 1.12902093 1.13661039 1.14419986 1.15178933 1.15937879 1.16696826\n",
      " 1.17455773 1.18214719 1.18973666]\n"
     ]
    },
    {
     "name": "stderr",
     "output_type": "stream",
     "text": [
      "  0%|          | 0/1 [00:00<?, ?it/s]"
     ]
    },
    {
     "name": "stdout",
     "output_type": "stream",
     "text": [
      "[0.81026334]\n"
     ]
    },
    {
     "name": "stderr",
     "output_type": "stream",
     "text": [
      "100%|██████████| 1/1 [00:01<00:00,  1.08s/it]"
     ]
    },
    {
     "name": "stdout",
     "output_type": "stream",
     "text": [
      "[0.81785281]\n"
     ]
    },
    {
     "name": "stderr",
     "output_type": "stream",
     "text": [
      "2it [00:02,  1.02s/it]                       "
     ]
    },
    {
     "name": "stdout",
     "output_type": "stream",
     "text": [
      "[0.82544227]\n"
     ]
    },
    {
     "name": "stderr",
     "output_type": "stream",
     "text": [
      "3it [00:03,  1.01it/s]"
     ]
    },
    {
     "name": "stdout",
     "output_type": "stream",
     "text": [
      "[0.83303174]\n"
     ]
    },
    {
     "name": "stderr",
     "output_type": "stream",
     "text": [
      "4it [00:03,  1.02it/s]"
     ]
    },
    {
     "name": "stdout",
     "output_type": "stream",
     "text": [
      "[0.84062121]\n"
     ]
    },
    {
     "name": "stderr",
     "output_type": "stream",
     "text": [
      "5it [00:04,  1.03it/s]"
     ]
    },
    {
     "name": "stdout",
     "output_type": "stream",
     "text": [
      "[0.84821067]\n"
     ]
    },
    {
     "name": "stderr",
     "output_type": "stream",
     "text": [
      "6it [00:05,  1.02it/s]"
     ]
    },
    {
     "name": "stdout",
     "output_type": "stream",
     "text": [
      "[0.85580014]\n"
     ]
    },
    {
     "name": "stderr",
     "output_type": "stream",
     "text": [
      "7it [00:06,  1.02it/s]"
     ]
    },
    {
     "name": "stdout",
     "output_type": "stream",
     "text": [
      "[0.86338961]\n"
     ]
    },
    {
     "name": "stderr",
     "output_type": "stream",
     "text": [
      "8it [00:07,  1.02it/s]"
     ]
    },
    {
     "name": "stdout",
     "output_type": "stream",
     "text": [
      "[0.87097907]\n"
     ]
    },
    {
     "name": "stderr",
     "output_type": "stream",
     "text": [
      "9it [00:08,  1.02it/s]"
     ]
    },
    {
     "name": "stdout",
     "output_type": "stream",
     "text": [
      "[0.87856854]\n"
     ]
    },
    {
     "name": "stderr",
     "output_type": "stream",
     "text": [
      "10it [00:09,  1.03it/s]"
     ]
    },
    {
     "name": "stdout",
     "output_type": "stream",
     "text": [
      "[0.886158]\n"
     ]
    },
    {
     "name": "stderr",
     "output_type": "stream",
     "text": [
      "11it [00:10,  1.03it/s]"
     ]
    },
    {
     "name": "stdout",
     "output_type": "stream",
     "text": [
      "[0.89374747]\n"
     ]
    },
    {
     "name": "stderr",
     "output_type": "stream",
     "text": [
      "12it [00:11,  1.03it/s]"
     ]
    },
    {
     "name": "stdout",
     "output_type": "stream",
     "text": [
      "[0.90133694]\n"
     ]
    },
    {
     "name": "stderr",
     "output_type": "stream",
     "text": [
      "13it [00:12,  1.03it/s]"
     ]
    },
    {
     "name": "stdout",
     "output_type": "stream",
     "text": [
      "[0.9089264]\n"
     ]
    },
    {
     "name": "stderr",
     "output_type": "stream",
     "text": [
      "14it [00:13,  1.04it/s]"
     ]
    },
    {
     "name": "stdout",
     "output_type": "stream",
     "text": [
      "[0.91651587]\n"
     ]
    },
    {
     "name": "stderr",
     "output_type": "stream",
     "text": [
      "15it [00:14,  1.04it/s]"
     ]
    },
    {
     "name": "stdout",
     "output_type": "stream",
     "text": [
      "[0.92410534]\n"
     ]
    },
    {
     "name": "stderr",
     "output_type": "stream",
     "text": [
      "16it [00:15,  1.04it/s]"
     ]
    },
    {
     "name": "stdout",
     "output_type": "stream",
     "text": [
      "[0.9316948]\n"
     ]
    },
    {
     "name": "stderr",
     "output_type": "stream",
     "text": [
      "17it [00:16,  1.04it/s]"
     ]
    },
    {
     "name": "stdout",
     "output_type": "stream",
     "text": [
      "[0.93928427]\n"
     ]
    },
    {
     "name": "stderr",
     "output_type": "stream",
     "text": [
      "18it [00:17,  1.04it/s]"
     ]
    },
    {
     "name": "stdout",
     "output_type": "stream",
     "text": [
      "[0.94687374]\n"
     ]
    },
    {
     "name": "stderr",
     "output_type": "stream",
     "text": [
      "19it [00:18,  1.04it/s]"
     ]
    },
    {
     "name": "stdout",
     "output_type": "stream",
     "text": [
      "[0.9544632]\n"
     ]
    },
    {
     "name": "stderr",
     "output_type": "stream",
     "text": [
      "20it [00:19,  1.04it/s]"
     ]
    },
    {
     "name": "stdout",
     "output_type": "stream",
     "text": [
      "[0.96205267]\n"
     ]
    },
    {
     "name": "stderr",
     "output_type": "stream",
     "text": [
      "21it [00:20,  1.04it/s]"
     ]
    },
    {
     "name": "stdout",
     "output_type": "stream",
     "text": [
      "[0.96964213]\n"
     ]
    },
    {
     "name": "stderr",
     "output_type": "stream",
     "text": [
      "22it [00:21,  1.04it/s]"
     ]
    },
    {
     "name": "stdout",
     "output_type": "stream",
     "text": [
      "[0.9772316]\n"
     ]
    },
    {
     "name": "stderr",
     "output_type": "stream",
     "text": [
      "23it [00:22,  1.04it/s]"
     ]
    },
    {
     "name": "stdout",
     "output_type": "stream",
     "text": [
      "[0.98482107]\n"
     ]
    },
    {
     "name": "stderr",
     "output_type": "stream",
     "text": [
      "24it [00:23,  1.04it/s]"
     ]
    },
    {
     "name": "stdout",
     "output_type": "stream",
     "text": [
      "[0.99241053]\n"
     ]
    },
    {
     "name": "stderr",
     "output_type": "stream",
     "text": [
      "25it [00:24,  1.03it/s]"
     ]
    },
    {
     "name": "stdout",
     "output_type": "stream",
     "text": [
      "[1.]\n"
     ]
    }
   ],
   "source": [
    "log10masswindowsize = 6/np.sqrt(nsig)\n",
    "log10masslowerbound = truelogmass-log10masswindowsize\n",
    "log10massupperbound = truelogmass+log10masswindowsize\n",
    "if log10masslowerbound<log10eaxistrue[0]:\n",
    "    log10masslowerbound = log10eaxistrue[0]\n",
    "if log10massupperbound>2:\n",
    "    log10massupperbound = 2\n",
    "log10massaxis = np.linspace(log10masslowerbound,log10massupperbound,51)\n",
    "print(log10massaxis)\n",
    "marginalised_values = marginalise((edisp_like, psf_like,), (DM_prior, bkg_prior), axisvals=measuredvals,\n",
    "                                  hyperparameter_axes=((log10massaxis,),None), logjacob=logenergy_true_logjacob)"
   ]
  },
  {
   "cell_type": "code",
   "execution_count": null,
   "metadata": {},
   "outputs": [],
   "source": [
    "\n",
    "xilowerbound, xiupperbound = signalfraction-3/np.sqrt(numsamples),signalfraction+3/np.sqrt(numsamples)\n",
    "if xilowerbound<0:\n",
    "    xilowerbound = 0\n",
    "    \n",
    "if xiupperbound>1:\n",
    "    xiupperbound=1\n",
    "xiaxis = np.linspace(xilowerbound, xiupperbound, 100)"
   ]
  },
  {
   "cell_type": "code",
   "execution_count": null,
   "metadata": {},
   "outputs": [
    {
     "data": {
      "text/plain": [
       "array([[-4.67277032, -4.6690904 , -4.66542749, ..., -4.57634016,\n",
       "        -4.57576903, -4.57520038],\n",
       "       [-4.49952553, -4.49868343, -4.49789922, ..., -4.51526935,\n",
       "        -4.51646922, -4.51765689],\n",
       "       [-4.39456276, -4.39468205, -4.39485648, ..., -4.45003117,\n",
       "        -4.45182687, -4.45364174],\n",
       "       ...,\n",
       "       [-3.41855143, -3.41832504, -3.41818288, ..., -3.46031387,\n",
       "        -3.46191207, -3.46348325],\n",
       "       [-2.41857684, -2.42055277, -2.42260167, ..., -2.54529031,\n",
       "        -2.54828669, -2.55126613],\n",
       "       [-4.07186963, -4.07419879, -4.07657519, ..., -4.21098385,\n",
       "        -4.2142121 , -4.21744502]])"
      ]
     },
     "execution_count": 42,
     "metadata": {},
     "output_type": "execute_result"
    }
   ],
   "source": [
    "marginalised_values[0]"
   ]
  },
  {
   "cell_type": "code",
   "execution_count": null,
   "metadata": {},
   "outputs": [],
   "source": [
    "log_hyperparameter_posterior = [np.sum(np.logaddexp(np.log(xival)+np.array(marginalised_values[0]), np.log(1-xival)+np.squeeze(np.array(marginalised_values[1]))[:, np.newaxis]), axis=0) for xival in xiaxis]\n",
    "# hyperparameter_posterior = [np.sum(np.logaddexp(np.log(xival)+np.array(marginalised_values[:,0]),\n",
    "#                                                 np.log(1-xival)+np.array(marginalised_values[:,1])), axis=0) for xival in xiaxis]\n",
    "log_hyperparameter_posterior = log_hyperparameter_posterior - logsumexp(log_hyperparameter_posterior)\n",
    "hyperparameter_posterior = np.exp(log_hyperparameter_posterior)"
   ]
  },
  {
   "cell_type": "code",
   "execution_count": null,
   "metadata": {},
   "outputs": [
    {
     "data": {
      "text/plain": [
       "(0.0, 0.02468314211235128)"
      ]
     },
     "execution_count": 44,
     "metadata": {},
     "output_type": "execute_result"
    },
    {
     "data": {
      "image/png": "[encoded data removed]",
      "text/plain": [
       "<Figure size 640x480 with 3 Axes>"
      ]
     },
     "metadata": {},
     "output_type": "display_data"
    }
   ],
   "source": [
    "plt.figure()\n",
    "\n",
    "plt.suptitle(f'Nevents = {numsamples}')\n",
    "\n",
    "plt.subplot(221)\n",
    "plt.plot(log10massaxis, np.sum(hyperparameter_posterior, axis=0))\n",
    "plt.ylim([0,None])\n",
    "plt.axvline(truelogmass, c='tab:orange')\n",
    "\n",
    "\n",
    "plt.subplot(223)\n",
    "plt.pcolormesh(log10massaxis, xiaxis, hyperparameter_posterior)\n",
    "plt.axhline(signalfraction, c='tab:orange')\n",
    "plt.axvline(truelogmass, c='tab:orange')\n",
    "\n",
    "plt.subplot(224)\n",
    "plt.plot(xiaxis, np.sum(hyperparameter_posterior, axis=1))\n",
    "plt.axvline(signalfraction, c='tab:orange')\n",
    "plt.ylim([0,None])\n"
   ]
  },
  {
   "cell_type": "code",
   "execution_count": null,
   "metadata": {},
   "outputs": [],
   "source": [
    "\n",
    "# plt.plot(log10eaxistrue, special.logsumexp(logDMpriorfunc(*inputmesh), axis=(1,2)))"
   ]
  },
  {
   "cell_type": "code",
   "execution_count": null,
   "metadata": {},
   "outputs": [
    {
     "data": {
      "text/plain": [
       "[array([-1.  , -0.75, -0.5 , -0.25,  0.  ,  0.25,  0.5 ,  0.75,  1.  ,\n",
       "         1.25,  1.5 ,  1.75,  2.  ])]"
      ]
     },
     "execution_count": 44,
     "metadata": {},
     "output_type": "execute_result"
    }
   ],
   "source": [
    "inputmesh = np.meshgrid(log10eaxistrue, longitudeaxistrue, latitudeaxistrue, indexing='ij')\n",
    "hyperparameter_axes = (*np.meshgrid(np.linspace(-1,1,3), np.logspace(-1,1,3), indexing='ij'),)\n",
    "hyperparameter_axes = (np.linspace(-1,2.,13),)\n",
    "flattened_hyperparameter_axes = [hyperparameter_axis.flatten() for hyperparameter_axis in hyperparameter_axes]\n",
    "flattened_hyperparameter_axes"
   ]
  },
  {
   "cell_type": "code",
   "execution_count": null,
   "metadata": {},
   "outputs": [
    {
     "data": {
      "text/plain": [
       "(0, 1, 2)"
      ]
     },
     "execution_count": 45,
     "metadata": {},
     "output_type": "execute_result"
    }
   ],
   "source": [
    "(*np.arange(3),)"
   ]
  },
  {
   "cell_type": "code",
   "execution_count": null,
   "metadata": {},
   "outputs": [],
   "source": []
  }
 ],
 "metadata": {
  "kernelspec": {
   "display_name": "please",
   "language": "python",
   "name": "python3"
  },
  "language_info": {
   "codemirror_mode": {
    "name": "ipython",
    "version": 3
   },
   "file_extension": ".py",
   "mimetype": "text/x-python",
   "name": "python",
   "nbconvert_exporter": "python",
   "pygments_lexer": "ipython3",
   "version": "3.9.16"
  },
  "orig_nbformat": 4
 },
 "nbformat": 4,
 "nbformat_minor": 2
}
