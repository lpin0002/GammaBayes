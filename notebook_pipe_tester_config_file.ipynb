{
 "cells": [
  {
   "cell_type": "markdown",
   "metadata": {},
   "source": [
    "# <h1><b><I> General Setup"
   ]
  },
  {
   "cell_type": "markdown",
   "metadata": {},
   "source": [
    "## Imports and general setup"
   ]
  },
  {
   "cell_type": "code",
   "execution_count": 1,
   "metadata": {
    "tags": []
   },
   "outputs": [
    {
     "name": "stderr",
     "output_type": "stream",
     "text": [
      "/Users/lpin0002/anaconda3/envs/please/lib/python3.9/site-packages/tqdm/auto.py:21: TqdmWarning: IProgress not found. Please update jupyter and ipywidgets. See https://ipywidgets.readthedocs.io/en/stable/user_install.html\n",
      "  from .autonotebook import tqdm as notebook_tqdm\n"
     ]
    }
   ],
   "source": [
    "import os, sys\n",
    "sys.path.append(\"gammabayes/BFCalc/\")\n",
    "sys.path.append(\"gammabayes\")\n",
    "\n",
    "from gammabayes.BFCalc.createspectragrids import singlechannel_diffflux, getspectrafunc, darkmatterdoubleinput, energymassinputspectralfunc\n",
    "from gammabayes.utils.utils import log10eaxistrue, longitudeaxistrue, latitudeaxistrue, log10eaxis, longitudeaxis, latitudeaxis, time,psf, edisp, bkgdist, interpolate, special, integrate\n",
    "from gammabayes.utils.utils  import SkyCoord, WcsGeom, inverse_transform_sampling, tqdm#, setup_full_fake_signal_dist_copy_vers#, setup_full_fake_signal_dist, diff_irf_marg\n",
    "from gammabayes.hyperparameter_likelihood import hyperparameter_likelihood\n",
    "from gammabayes.prior import discrete_logprior\n",
    "from gammabayes.likelihood import discrete_loglikelihood\n",
    "from gammabayes.utils.utils  import edisp_test, psf_test, log10eaxis, longitudeaxis, latitudeaxis\n",
    "from gammabayes.utils.utils  import psf_efficient, edisp_efficient, edisp_test, psf_test, single_likelihood, read_config_file\n",
    "from gammabayes.SS_DM_Prior import SS_DM_dist\n",
    "import warnings\n",
    "\n",
    "import numpy as np\n",
    "import matplotlib.pyplot as plt\n",
    "import matplotlib as mpl\n",
    "from matplotlib.colors import LogNorm\n",
    "from astropy import units as u\n",
    "from scipy import special,stats\n",
    "from scipy.integrate import simps\n",
    "from matplotlib import cm\n",
    "from tqdm.autonotebook import tqdm as notebook_tqdm\n",
    "\n",
    "import functools\n",
    "from multiprocessing import Pool, freeze_support\n",
    "import multiprocessing\n",
    "import pandas as pd\n",
    "\n",
    "\n",
    "# For later in the notebook\n",
    "from gammabayes.utils.utils import confidence_ellipse\n",
    "from scipy.stats import norm\n",
    "\n",
    "import time, pickle\n"
   ]
  },
  {
   "cell_type": "code",
   "execution_count": 2,
   "metadata": {
    "tags": []
   },
   "outputs": [],
   "source": [
    "astrophysicalbackground = np.load(\"gammabayes/package_data/unnormalised_astrophysicalbackground.npy\")\n",
    "psfnormalisationvalues = np.load(\"gammabayes/package_data/psfnormalisation.npy\")\n",
    "edispnormalisationvalues = np.load(\"gammabayes/package_data/edispnormalisation.npy\")\n"
   ]
  },
  {
   "cell_type": "code",
   "execution_count": 3,
   "metadata": {
    "tags": []
   },
   "outputs": [
    {
     "name": "stdout",
     "output_type": "stream",
     "text": [
      "(601, 35, 30) (18, 15)\n"
     ]
    }
   ],
   "source": [
    "log10emeshtrue, lonmeshtrue, latmeshtrue = np.meshgrid(log10eaxistrue, longitudeaxistrue, latitudeaxistrue, indexing='ij')\n",
    "lonmeshrecon, latmeshrecon = np.meshgrid(longitudeaxis, latitudeaxis, indexing='ij')\n",
    "\n",
    "logjacobtrue = np.meshgrid(np.log(10**log10eaxistrue), longitudeaxistrue, latitudeaxistrue, indexing='ij')[0]\n",
    "\n",
    "\n",
    "print(lonmeshtrue.shape, lonmeshrecon.shape)"
   ]
  },
  {
   "cell_type": "markdown",
   "metadata": {},
   "source": [
    "## Script Parameter Setup"
   ]
  },
  {
   "cell_type": "code",
   "execution_count": 4,
   "metadata": {
    "tags": []
   },
   "outputs": [
    {
     "name": "stdout",
     "output_type": "stream",
     "text": [
      "file path: example_run_script.yaml\n",
      "3.364463833\n"
     ]
    }
   ],
   "source": [
    "inputs = read_config_file('example_run_script.yaml')\n",
    "\n",
    "nsig = int(round(inputs['Nevents']*inputs['xi']))\n",
    "nbkg = int(round(inputs['Nevents']*(1-inputs['xi'])))\n",
    "\n",
    "startertimer = time.perf_counter()\n",
    "print(startertimer)"
   ]
  },
  {
   "cell_type": "markdown",
   "metadata": {
    "tags": []
   },
   "source": [
    "# <h1><b>Simulation"
   ]
  },
  {
   "cell_type": "markdown",
   "metadata": {},
   "source": [
    "## Setup"
   ]
  },
  {
   "cell_type": "markdown",
   "metadata": {},
   "source": [
    "### Background setup"
   ]
  },
  {
   "cell_type": "code",
   "execution_count": 5,
   "metadata": {
    "tags": []
   },
   "outputs": [],
   "source": [
    "nuisancemesh = np.meshgrid(log10eaxistrue, longitudeaxistrue, latitudeaxistrue, indexing='ij')\n",
    "\n",
    "\n",
    "# unnormed_logbkgpriorvalues = np.logaddexp(np.squeeze(bkgdist(log10emeshtrue, lonmeshtrue,latmeshtrue)),np.log(astrophysicalbackground))\n",
    "unnormed_logbkgpriorvalues = np.squeeze(bkgdist(*nuisancemesh))\n",
    "\n",
    "logbkgpriorvalues = unnormed_logbkgpriorvalues - special.logsumexp(unnormed_logbkgpriorvalues+logjacobtrue)\n",
    "\n",
    "logbkgpriorvalues.shape\n",
    "\n",
    "\n",
    "\n",
    "# unnormed_logbkgpriorvalues = np.logaddexp(np.squeeze(bkgdist(*nuisancemesh)),np.log(astrophysicalbackground))\n",
    "unnormed_logbkgpriorvalues = np.squeeze(bkgdist(*nuisancemesh))\n",
    "\n",
    "\n",
    "logbkgfunc_annoying = interpolate.RegularGridInterpolator((log10eaxistrue, longitudeaxistrue, latitudeaxistrue), np.exp(unnormed_logbkgpriorvalues))\n",
    "logbkgfunc = lambda logenergy, longitude, latitude: np.log(logbkgfunc_annoying((logenergy, longitude, latitude)))\n",
    "\n",
    "\n",
    "bkg_prior = discrete_logprior(logfunction=logbkgfunc, name='Background Prior',\n",
    "                               axes=(log10eaxistrue, longitudeaxistrue, latitudeaxistrue,), \n",
    "                               axes_names=['energy', 'lon', 'lat'], logjacob=logjacobtrue)"
   ]
  },
  {
   "cell_type": "markdown",
   "metadata": {},
   "source": [
    "### Signal Setup"
   ]
  },
  {
   "cell_type": "code",
   "execution_count": 6,
   "metadata": {
    "tags": []
   },
   "outputs": [],
   "source": [
    "SS_DM_dist_instance= SS_DM_dist(longitudeaxistrue, latitudeaxistrue)\n",
    "logDMpriorfunc = SS_DM_dist_instance.func_setup()"
   ]
  },
  {
   "cell_type": "code",
   "execution_count": 7,
   "metadata": {
    "tags": []
   },
   "outputs": [
    {
     "data": {
      "text/plain": [
       "discrete log prior class\n",
       "----------------------------\n",
       "name = Scalar Singlet Dark Matter Prior\n",
       "logfunction type is <function SS_DM_dist.func_setup.<locals>.DM_signal_dist at 0x7f91586dee50>\n",
       "input units of None\n",
       "over axes ['energy', 'lon', 'lat']\n",
       "with hyperparameter(s) ['mass']"
      ]
     },
     "execution_count": 7,
     "metadata": {},
     "output_type": "execute_result"
    }
   ],
   "source": [
    "DM_prior = discrete_logprior(logfunction=logDMpriorfunc, name='Scalar Singlet Dark Matter Prior',\n",
    "                               axes=(log10eaxistrue, longitudeaxistrue, latitudeaxistrue,), axes_names=['energy', 'lon', 'lat'],\n",
    "                               default_hyperparameter_values=(inputs[\"logmass\"],), hyperparameter_names=['mass'], logjacob=logjacobtrue)\n",
    "DM_prior"
   ]
  },
  {
   "cell_type": "code",
   "execution_count": 8,
   "metadata": {},
   "outputs": [
    {
     "data": {
      "text/plain": [
       "[<matplotlib.lines.Line2D at 0x7f9128976a00>]"
      ]
     },
     "execution_count": 8,
     "metadata": {},
     "output_type": "execute_result"
    },
    {
     "data": {
      "image/png": "[encoded data removed]",
      "text/plain": [
       "<Figure size 640x480 with 1 Axes>"
      ]
     },
     "metadata": {},
     "output_type": "display_data"
    }
   ],
   "source": [
    "plotmesh = np.meshgrid(np.linspace(-1,2,51), 1.2, indexing='ij')\n",
    "\n",
    "plt.plot(np.linspace(-1,2,51), \n",
    "         DM_prior.logfunction(plotmesh[0].flatten(), plotmesh[0].flatten()*0, plotmesh[0].flatten()*0, plotmesh[1].flatten()))"
   ]
  },
  {
   "cell_type": "markdown",
   "metadata": {},
   "source": [
    "## True Value Simulation"
   ]
  },
  {
   "cell_type": "code",
   "execution_count": 9,
   "metadata": {
    "tags": []
   },
   "outputs": [],
   "source": [
    "if inputs['xi']!=0.0:\n",
    "    siglogevals,siglonvals,siglatvals  = DM_prior.sample(nsig)\n",
    "else:\n",
    "    siglogevals = np.asarray([])\n",
    "    siglonvals = np.asarray([])\n",
    "    siglatvals = np.asarray([])"
   ]
  },
  {
   "cell_type": "code",
   "execution_count": 10,
   "metadata": {
    "tags": []
   },
   "outputs": [],
   "source": [
    "\n",
    "if inputs['xi']!=1.0:\n",
    "    bkglogevals,bkglonvals,bkglatvals  = bkg_prior.sample(nbkg)\n",
    "else:\n",
    "    bkglogevals = np.asarray([])\n",
    "    bkglonvals = np.asarray([])\n",
    "    bkglatvals = np.asarray([])"
   ]
  },
  {
   "cell_type": "markdown",
   "metadata": {},
   "source": [
    "## Reconstructed Value Simulation"
   ]
  },
  {
   "cell_type": "code",
   "execution_count": 11,
   "metadata": {
    "tags": []
   },
   "outputs": [],
   "source": [
    "logjacob = np.meshgrid(np.log(10**log10eaxis), longitudeaxis, latitudeaxis, indexing='ij')[0]"
   ]
  },
  {
   "cell_type": "code",
   "execution_count": 12,
   "metadata": {
    "tags": []
   },
   "outputs": [
    {
     "name": "stdout",
     "output_type": "stream",
     "text": [
      "Number of input dimensions 1\n",
      "Number of dependent dimensions 1\n",
      "Axes shape: (151,)\n"
     ]
    }
   ],
   "source": [
    "logjacob = np.log(10**log10eaxis)\n",
    "edisp_like = discrete_loglikelihood(logfunction=edisp_test, \n",
    "                                    axes=(log10eaxis,), axes_names='log10E recon',\n",
    "                                    name='energy dispersion',\n",
    "                                    dependent_axes=(log10eaxistrue, longitudeaxistrue, latitudeaxistrue,), logjacob=logjacob,\n",
    "                                    dependent_axes_names = ['log10E true', 'lon', 'lat'])"
   ]
  },
  {
   "cell_type": "code",
   "execution_count": 13,
   "metadata": {
    "tags": []
   },
   "outputs": [
    {
     "name": "stdout",
     "output_type": "stream",
     "text": [
      "Number of input dimensions 2\n",
      "Number of dependent dimensions 2\n"
     ]
    },
    {
     "name": "stdout",
     "output_type": "stream",
     "text": [
      "Axes shape: (18, 15)\n"
     ]
    },
    {
     "data": {
      "text/plain": [
       "discrete log likelihood class\n",
       "---------------------------------\n",
       "name = point spread function \n",
       "logfunction type is <function psf_test at 0x7f915b337e50>\n",
       "input units of None\n",
       "over axes ['longitude recon', 'latitude recon']\n",
       "with dependent axes ['log10E true', 'lon', 'lat']"
      ]
     },
     "execution_count": 13,
     "metadata": {},
     "output_type": "execute_result"
    }
   ],
   "source": [
    "psf_like = discrete_loglikelihood(logfunction=psf_test, \n",
    "                                    axes=(longitudeaxis, latitudeaxis), axes_names=['longitude recon', 'latitude recon'],\n",
    "                                    name='point spread function ',\n",
    "                                    dependent_axes=(log10eaxistrue, longitudeaxistrue, latitudeaxistrue,),\n",
    "                                    dependent_axes_names = ['log10E true', 'lon', 'lat'])\n",
    "psf_like"
   ]
  },
  {
   "cell_type": "markdown",
   "metadata": {},
   "source": [
    "### Signal"
   ]
  },
  {
   "cell_type": "code",
   "execution_count": 14,
   "metadata": {
    "tags": []
   },
   "outputs": [
    {
     "name": "stderr",
     "output_type": "stream",
     "text": [
      "100%|██████████| 60/60 [00:00<00:00, 1147.74it/s]\n"
     ]
    }
   ],
   "source": [
    "\n",
    "if inputs['xi']!=0.0:\n",
    "    # sig_log10e_edisp_samples = [edisp_like.sample(signal_event_tuple, 1).tolist() for signal_event_tuple in tqdm(sig_samples.T)]\n",
    "    signal_log10e_measured = [np.squeeze(edisp_like.sample((logeval,*coord,), numsamples=1)) for logeval,coord  in notebook_tqdm(zip(siglogevals, np.array([siglonvals, siglatvals]).T), total=nsig)]\n",
    "else:\n",
    "    signal_log10e_measured = np.asarray([])"
   ]
  },
  {
   "cell_type": "code",
   "execution_count": 15,
   "metadata": {
    "tags": []
   },
   "outputs": [
    {
     "name": "stderr",
     "output_type": "stream",
     "text": [
      "100%|██████████| 60/60 [00:00<00:00, 159.83it/s]\n"
     ]
    }
   ],
   "source": [
    "\n",
    "signal_lon_measured = []\n",
    "signal_lat_measured = []\n",
    "\n",
    "if inputs['xi']!=0:\n",
    "    \n",
    "    sig_lonlat_psf_samples =  [psf_like.sample((logeval,*coord,), 1) for logeval,coord  in notebook_tqdm(zip(siglogevals, np.array([siglonvals, siglatvals]).T), total=nsig)]\n",
    "    \n",
    "    for sig_lonlat_psf_sample in sig_lonlat_psf_samples:\n",
    "        signal_lon_measured.append(sig_lonlat_psf_sample[0])\n",
    "        signal_lat_measured.append(sig_lonlat_psf_sample[1])"
   ]
  },
  {
   "cell_type": "markdown",
   "metadata": {},
   "source": [
    "### Background"
   ]
  },
  {
   "cell_type": "code",
   "execution_count": 16,
   "metadata": {
    "tags": []
   },
   "outputs": [
    {
     "name": "stderr",
     "output_type": "stream",
     "text": [
      "100%|██████████| 40/40 [00:00<00:00, 1342.86it/s]\n"
     ]
    }
   ],
   "source": [
    "if inputs['xi']!=1.0:\n",
    "    # sig_log10e_edisp_samples = [edisp_like.sample(signal_event_tuple, 1).tolist() for signal_event_tuple in tqdm(sig_samples.T)]\n",
    "    bkg_log10e_measured = [np.squeeze(edisp_like.sample((logeval,*coord,), numsamples=1)) for logeval,coord  in notebook_tqdm(zip(bkglogevals, np.array([bkglonvals, bkglatvals]).T), total=nbkg)]\n",
    "else:\n",
    "    bkg_log10e_measured = np.asarray([])"
   ]
  },
  {
   "cell_type": "code",
   "execution_count": 17,
   "metadata": {
    "tags": []
   },
   "outputs": [
    {
     "name": "stderr",
     "output_type": "stream",
     "text": [
      "100%|██████████| 40/40 [00:00<00:00, 159.23it/s]\n"
     ]
    }
   ],
   "source": [
    "bkg_lon_measured = []\n",
    "bkg_lat_measured = []\n",
    "\n",
    "if inputs['xi']!=1.0:\n",
    "    \n",
    "    bkg_lonlat_psf_samples =  [psf_like.sample((logeval,*coord,), 1) for logeval,coord  in notebook_tqdm(zip(bkglogevals, np.array([bkglonvals, bkglatvals]).T), total=nbkg)]\n",
    "    \n",
    "    for bkg_lonlat_psf_sample in bkg_lonlat_psf_samples:\n",
    "        bkg_lon_measured.append(bkg_lonlat_psf_sample[0])\n",
    "        bkg_lat_measured.append(bkg_lonlat_psf_sample[1])\n"
   ]
  },
  {
   "cell_type": "markdown",
   "metadata": {},
   "source": [
    "## Final simulation output"
   ]
  },
  {
   "cell_type": "code",
   "execution_count": 18,
   "metadata": {
    "tags": []
   },
   "outputs": [],
   "source": [
    "\n",
    "\n",
    "try:\n",
    "    measured_log10e = list(signal_log10e_measured)+list(bkg_log10e_measured)\n",
    "    measured_lon = list(signal_lon_measured)+list(bkg_lon_measured)\n",
    "    measured_lat = list(signal_lat_measured)+list(bkg_lat_measured)\n",
    "    \n",
    "except:\n",
    "    if type(bkg_log10e_measured)==np.float64:\n",
    "        measured_log10e = list(signal_log10e_measured)\n",
    "        measured_lon = list(signal_lon_measured)\n",
    "        measured_lat = list(signal_lat_measured)\n",
    "        measured_log10e.append(bkg_log10e_measured)\n",
    "        measured_lon.append(bkg_lon_measured)\n",
    "        measured_lat.append(bkg_lat_measured)\n",
    "        \n",
    "    elif type(signal_log10e_measured)==np.float64:\n",
    "        measured_log10e = list(bkg_log10e_measured)\n",
    "        measured_lon = list(bkg_lon_measured)\n",
    "        measured_lat = list(bkg_lat_measured)\n",
    "        measured_log10e.append(signal_log10e_measured)\n",
    "        measured_lon.append(signal_lon_measured)\n",
    "        measured_lat.append(signal_lat_measured)\n",
    "    else:\n",
    "        print('what')"
   ]
  },
  {
   "cell_type": "markdown",
   "metadata": {},
   "source": [
    "# <h1><b>Analysis"
   ]
  },
  {
   "cell_type": "markdown",
   "metadata": {},
   "source": [
    "## Marginalisation"
   ]
  },
  {
   "cell_type": "code",
   "execution_count": 19,
   "metadata": {
    "tags": []
   },
   "outputs": [],
   "source": [
    "\n",
    "\n",
    "logmasswindowwidth      = 7/np.sqrt(nsig)\n",
    "\n",
    "logmasslowerbound       = inputs['logmass']-logmasswindowwidth\n",
    "logmassupperbound       = inputs['logmass']+logmasswindowwidth\n",
    "\n",
    "# if 1:\n",
    "if logmasslowerbound<log10eaxis[0]:\n",
    "    logmasslowerbound = log10eaxis[0]\n",
    "# if 1:\n",
    "if logmassupperbound>2:\n",
    "    logmassupperbound = 2\n",
    "\n",
    "\n",
    "logmassrange            = np.linspace(logmasslowerbound, logmassupperbound, inputs['nbins_logmass']) "
   ]
  },
  {
   "cell_type": "code",
   "execution_count": 20,
   "metadata": {
    "tags": []
   },
   "outputs": [
    {
     "name": "stderr",
     "output_type": "stream",
     "text": [
      "Setting up prior matrices: 100%|██████████████████| 2/2 [02:22<00:00, 71.40s/it]\n"
     ]
    },
    {
     "name": "stdout",
     "output_type": "stream",
     "text": [
      "Starting nuisance parameter marginalisation\n",
      "Sorry no progress bar for this step yet.\n"
     ]
    },
    {
     "name": "stderr",
     "output_type": "stream",
     "text": [
      "/Users/lpin0002/Desktop/temporaryfolder/GammaBayes/gammabayes/utils/utils.py:145: RuntimeWarning: divide by zero encountered in log\n",
      "  output = np.log(psffull.evaluate(energy_true=10**logetrue*u.TeV,\n",
      "/Users/lpin0002/Desktop/temporaryfolder/GammaBayes/gammabayes/utils/utils.py:149: RuntimeWarning: divide by zero encountered in log\n",
      "  output+=np.log(edispfull.evaluate(energy_true=10**logetrue*u.TeV,\n"
     ]
    },
    {
     "name": "stdout",
     "output_type": "stream",
     "text": [
      "Nuisance parameter marginalisation finished\n"
     ]
    }
   ],
   "source": [
    "hyperparameter_likelihood_instance = hyperparameter_likelihood(priors=(DM_prior, bkg_prior,), likelihood=single_likelihood, \n",
    "                                                               dependent_axes=(log10eaxistrue,  longitudeaxistrue, latitudeaxistrue), \n",
    "                                                               dependent_logjacob=logjacobtrue,\n",
    "                                                               hyperparameter_axes_tuple = ((logmassrange,), (None,)), \n",
    "                                                               numcores=inputs['numcores'], \n",
    "                                                               likelihoodnormalisation = psfnormalisationvalues+edispnormalisationvalues)\n",
    "\n",
    "measured_log10e = [float(measured_log10e_val) for measured_log10e_val in measured_log10e]\n",
    "margresults = hyperparameter_likelihood_instance.full_obs_marginalisation(axisvals= (measured_log10e, measured_lon, measured_lat))"
   ]
  },
  {
   "cell_type": "code",
   "execution_count": 21,
   "metadata": {
    "tags": []
   },
   "outputs": [
    {
     "name": "stderr",
     "output_type": "stream",
     "text": [
      "/var/folders/xr/793vfd394l701z7tfh27tbj9q0x4gd/T/ipykernel_52161/3449869552.py:1: VisibleDeprecationWarning: Creating an ndarray from ragged nested sequences (which is a list-or-tuple of lists-or-tuples-or ndarrays with different lengths or shapes) is deprecated. If you meant to do this, you must specify 'dtype=object' when creating the ndarray.\n",
      "  margresultsarray = np.asarray(hyperparameter_likelihood_instance.log_margresults).T\n"
     ]
    },
    {
     "data": {
      "text/plain": [
       "(101, 100)"
      ]
     },
     "execution_count": 21,
     "metadata": {},
     "output_type": "execute_result"
    }
   ],
   "source": [
    "margresultsarray = np.asarray(hyperparameter_likelihood_instance.log_margresults).T\n",
    "sigmargresults = np.vstack(margresultsarray[0,:]).T\n",
    "bkgmargresults = np.vstack(margresultsarray[1,:])\n",
    "sigmargresults.shape"
   ]
  },
  {
   "cell_type": "code",
   "execution_count": 27,
   "metadata": {
    "tags": []
   },
   "outputs": [
    {
     "data": {
      "image/png": "[encoded data removed]",
      "text/plain": [
       "<Figure size 2000x300 with 2 Axes>"
      ]
     },
     "metadata": {},
     "output_type": "display_data"
    }
   ],
   "source": [
    "fig, ax = plt.subplots(figsize=(20,3))\n",
    "plt.pcolormesh(list(range(inputs['Nevents'])), logmassrange, \n",
    "               (sigmargresults-special.logsumexp(sigmargresults, axis=0)), \n",
    "               cmap='viridis', vmin=-10)\n",
    "plt.ylabel(r'$log_{10}m_\\chi$ [TeV]')\n",
    "plt.axhline(inputs['logmass'], c='tab:orange')\n",
    "plt.colorbar()\n",
    "plt.show()"
   ]
  },
  {
   "cell_type": "markdown",
   "metadata": {},
   "source": [
    "## Calculating posterior"
   ]
  },
  {
   "cell_type": "code",
   "execution_count": null,
   "metadata": {
    "tags": []
   },
   "outputs": [
    {
     "name": "stdout",
     "output_type": "stream",
     "text": [
      "0 (101,) (1000, 41)\n",
      "1 (101,) (1000, 1)\n",
      "prioraxes:  [[0, 1, 2], [0, 1, 3]]\n",
      "hyper_idx:  2\n",
      "final_output_shape:  [(101,), 1000, 41, 1]\n",
      "prior_idx:  0\n",
      "axis: (3,)\n",
      "mixture_array shape: (101, 1000, 41, 1)\n",
      "\n",
      "\n",
      "prior_idx:  1\n",
      "axis: (2,)\n",
      "mixture_array shape: (101, 1000, 1, 1)\n",
      "\n",
      "\n",
      "combined_mixture shape: (101, 1000, 41, 1)\n",
      "final check: (101, 41, 1)\n",
      "1806.785621708\n"
     ]
    }
   ],
   "source": [
    "\n",
    "nbinslambda            = inputs['nbins_xi']\n",
    "xi_windowwidth      = 9/np.sqrt(inputs['totalevents'])\n",
    "\n",
    "\n",
    "xi_lowerbound       = inputs['xi']-xi_windowwidth\n",
    "xi_upperbound       = inputs['xi']+xi_windowwidth\n",
    "\n",
    "\n",
    "\n",
    "if xi_lowerbound<0:\n",
    "    xi_lowerbound = 0\n",
    "if xi_upperbound>1:\n",
    "    xi_upperbound = 1\n",
    "\n",
    "\n",
    "xi_range            = np.linspace(xi_lowerbound, xi_upperbound, inputs['nbins_xi']) \n",
    "\n",
    "# log_posterior = []\n",
    "\n",
    "# for lambdaval in notebook_tqdm(lambdarange, total=lambdarange.shape[0]):\n",
    "#     log_posterior.append([np.sum(np.logaddexp(np.log(lambdaval)+sigmargresults[logmassindex,:], np.log(1-lambdaval)+bkgmargresults)) for logmassindex in range(len(list(logmassrange)))])\n",
    "\n",
    "# log_posterior = np.array(log_posterior)-special.logsumexp(log_posterior)\n",
    "\n",
    "mixture_output = hyperparameter_likelihood_instance.create_mixture_log_posterior(mixture_axes = (xi_range, 1-xi_range,))\n",
    "\n",
    "\n",
    "hyperparameter_likelihood_instance.combine_results(mixture_output)\n",
    "\n",
    "\n",
    "log_posterior = np.squeeze(hyperparameter_likelihood_instance.unnormed_log_posterior)\n",
    "endertimer = time.perf_counter()\n",
    "print(endertimer-startertimer)"
   ]
  },
  {
   "cell_type": "markdown",
   "metadata": {},
   "source": [
    "# <h1><b>Plotting"
   ]
  },
  {
   "cell_type": "code",
   "execution_count": null,
   "metadata": {
    "tags": []
   },
   "outputs": [
    {
     "name": "stderr",
     "output_type": "stream",
     "text": [
      "/var/folders/xr/793vfd394l701z7tfh27tbj9q0x4gd/T/ipykernel_5031/2217560427.py:3: MatplotlibDeprecationWarning: The get_cmap function was deprecated in Matplotlib 3.7 and will be removed two minor releases later. Use ``matplotlib.colormaps[name]`` or ``matplotlib.colormaps.get_cmap(obj)`` instead.\n",
      "  colormap = cm.get_cmap('Blues_r', 4)\n"
     ]
    },
    {
     "name": "stdout",
     "output_type": "stream",
     "text": [
      "0.00505710325571113\n",
      "0.0033714021704740853\n",
      "0.0016857010852370444\n",
      "0.0015324555320336748\n",
      "0.0030649110640673495\n",
      "0.004444121042897658\n"
     ]
    },
    {
     "data": {
      "image/png": "[encoded data removed]",
      "text/plain": [
       "<Figure size 1000x800 with 4 Axes>"
      ]
     },
     "metadata": {},
     "output_type": "display_data"
    }
   ],
   "source": [
    "log_posterior = log_posterior-special.logsumexp(log_posterior)\n",
    "\n",
    "colormap = cm.get_cmap('Blues_r', 4)\n",
    "\n",
    "fig, ax = plt.subplots(2,2, dpi=100, figsize=(10,8))\n",
    "plt.suptitle(f\"Nevents= {inputs['totalevents']}\", size=24)\n",
    "\n",
    "# Upper left plot\n",
    "logmass_logposterior = special.logsumexp(log_posterior, axis=0)\n",
    "\n",
    "normalisedlogmassposterior = np.exp(logmass_logposterior-special.logsumexp(logmass_logposterior))\n",
    "\n",
    "cdflogmassposterior = np.cumsum(normalisedlogmassposterior)\n",
    "mean = logmassrange[np.abs(norm.cdf(0)-cdflogmassposterior).argmin()]\n",
    "zscores = [-3, -2,-1,1,2, 3]\n",
    "logmasspercentiles = []\n",
    "for zscore in zscores:\n",
    "    logmasspercentiles.append(logmassrange[np.abs(norm.cdf(zscore)-cdflogmassposterior).argmin()])\n",
    "\n",
    "\n",
    "ax[0,0].plot(logmassrange,normalisedlogmassposterior, c='tab:green')\n",
    "\n",
    "ax[0,0].axvline(mean, c='tab:green', ls=':')\n",
    "\n",
    "\n",
    "for o, percentile in enumerate(logmasspercentiles):\n",
    "            color = colormap(np.abs(zscores[o])/4-0.01)\n",
    "\n",
    "            ax[0,0].axvline(percentile, c=color, ls=':')\n",
    "ax[0,0].axvline(inputs['logmass'], ls='--', color=\"tab:orange\")\n",
    "\n",
    "\n",
    "if min(mean - logmasspercentiles)>log10eaxistrue[1]-log10eaxistrue[0]:\n",
    "    for logetrueval in log10eaxistrue:\n",
    "        ax[0,0].axvline(logetrueval, c='forestgreen', alpha=0.3)\n",
    "ax[0,0].set_ylim([0, None])\n",
    "ax[0,0].set_xlim([logmassrange[0], logmassrange[-1]])\n",
    "\n",
    "# Upper right plot\n",
    "ax[0,1].axis('off')\n",
    "\n",
    "\n",
    "# Lower left plot\n",
    "# ax[1,0].pcolormesh(logmassrange, lambdarange, np.exp(normalisedlogposterior).T, cmap='Blues')\n",
    "ax[1,0].pcolormesh(logmassrange, lambdarange, np.exp(log_posterior), vmin=0)\n",
    "ax[1,0].axvline(inputs['logmass'], c='tab:orange')\n",
    "ax[1,0].axhline(inputs['xi'], c='tab:orange')\n",
    "ax[1,0].set_xlabel(r'$log_{10}$ mass [TeV]')\n",
    "ax[1,0].set_ylabel(r'$\\xi$')\n",
    "\n",
    "ax[1,0].set_ylim([lambdarange[0], lambdarange[-1]])\n",
    "ax[1,0].set_xlim([logmassrange[0], logmassrange[-1]])\n",
    "\n",
    "########################################################################################################################\n",
    "########################################################################################################################\n",
    "# I have no clue how this works but I've checked it against some standard distributions and it seems correct\n",
    "try:\n",
    "    normed_posterior = np.exp(log_posterior)/np.exp(log_posterior).sum()\n",
    "    n = 100000\n",
    "    t = np.linspace(0, normed_posterior.max(), n)\n",
    "    integral = ((normed_posterior >= t[:, None, None]) * normed_posterior).sum(axis=(1,2))\n",
    "\n",
    "    from scipy import interpolate\n",
    "    f = interpolate.interp1d(integral, t)\n",
    "    t_contours = f(np.array([1-np.exp(-4.5),1-np.exp(-2.0),1-np.exp(-0.5)]))\n",
    "    ax[1,0].contour(normed_posterior, t_contours, extent=[logmassrange[0],logmassrange[-1], lambdarange[0],lambdarange[-1]], colors='white', linewidths=0.5)\n",
    "except:\n",
    "    warnings.warn(\"Couldn't create contour lines for posterior.\")\n",
    "########################################################################################################################\n",
    "########################################################################################################################\n",
    "\n",
    "\n",
    "lambda_logposterior = special.logsumexp(log_posterior, axis=1)\n",
    "\n",
    "normalisedlambdaposterior = np.exp(lambda_logposterior-special.logsumexp(lambda_logposterior))\n",
    "\n",
    "cdflambdaposterior = np.cumsum(normalisedlambdaposterior)\n",
    "meanlambda = lambdarange[np.abs(norm.cdf(0)-cdflambdaposterior).argmin()]\n",
    "lambdapercentiles = []\n",
    "for zscore in zscores:\n",
    "    lambdapercentile = lambdarange[np.abs(norm.cdf(zscore)-cdflambdaposterior).argmin()]\n",
    "    lambdapercentiles.append(lambdapercentile)\n",
    "    print(np.sqrt(1e5/1e8)*np.abs(lambdapercentile - meanlambda))\n",
    "\n",
    "\n",
    "\n",
    "\n",
    "\n",
    "ax[1,1].plot(lambdarange,normalisedlambdaposterior, c='tab:green')\n",
    "\n",
    "ax[1,1].axvline(meanlambda, c='tab:green', ls=':')\n",
    "\n",
    "\n",
    "for o, percentile in enumerate(lambdapercentiles):\n",
    "            color = colormap(np.abs(zscores[o])/4-0.01)\n",
    "\n",
    "            ax[1,1].axvline(percentile, c=color, ls=':')\n",
    "ax[1,1].axvline(inputs['xi'], ls='--', color=\"tab:orange\")\n",
    "ax[1,1].set_xlabel(r'$\\xi$')\n",
    "ax[1,1].set_ylim([0, None])\n",
    "\n",
    "\n",
    "# plt.savefig(time.strftime(f\"Figures/TestFigures/{Nsamples}events_lm{truelogmass}_l{truelambda}_%m%d_%H%M.pdf\"))\n",
    "plt.show()"
   ]
  },
  {
   "cell_type": "code",
   "execution_count": null,
   "metadata": {
    "tags": []
   },
   "outputs": [],
   "source": [
    "# hyperparameter_likelihood_instance.save_data()"
   ]
  },
  {
   "cell_type": "code",
   "execution_count": null,
   "metadata": {
    "tags": []
   },
   "outputs": [
    {
     "data": {
      "text/plain": [
       "0"
      ]
     },
     "execution_count": 25,
     "metadata": {},
     "output_type": "execute_result"
    }
   ],
   "source": [
    "os.system('say Your code is finished.')\n"
   ]
  },
  {
   "cell_type": "code",
   "execution_count": null,
   "metadata": {
    "tags": []
   },
   "outputs": [],
   "source": [
    "import pickle"
   ]
  },
  {
   "cell_type": "code",
   "execution_count": null,
   "metadata": {
    "tags": []
   },
   "outputs": [],
   "source": [
    "testarray1 = np.array([-1, 2, 3, 4 , 5])\n",
    "testarray2 = np.array([0.0, -1.25, -0.25, 0.4, 1.0])\n",
    "testarray3 = np.array([0.0, 0.25, -0.3, -0.4, -0.7])\n"
   ]
  },
  {
   "cell_type": "code",
   "execution_count": null,
   "metadata": {
    "tags": []
   },
   "outputs": [
    {
     "name": "stdout",
     "output_type": "stream",
     "text": [
      "(-1, 0.0, 0.0)\n",
      "(2, -1.25, 0.25)\n",
      "(3, -0.25, -0.3)\n",
      "(4, 0.4, -0.4)\n",
      "(5, 1.0, -0.7)\n"
     ]
    },
    {
     "data": {
      "text/plain": [
       "[None, None, None, None, None]"
      ]
     },
     "execution_count": 28,
     "metadata": {},
     "output_type": "execute_result"
    }
   ],
   "source": [
    "[print(item) for item in zip(testarray1.tolist(), testarray2.tolist(), testarray3.tolist())]"
   ]
  },
  {
   "cell_type": "code",
   "execution_count": null,
   "metadata": {
    "tags": []
   },
   "outputs": [
    {
     "ename": "SyntaxError",
     "evalue": "invalid syntax (3999739441.py, line 8)",
     "output_type": "error",
     "traceback": [
      "\u001b[0;36m  Cell \u001b[0;32mIn[29], line 8\u001b[0;36m\u001b[0m\n\u001b[0;31m    print(-3:3:100j)\u001b[0m\n\u001b[0m            ^\u001b[0m\n\u001b[0;31mSyntaxError\u001b[0m\u001b[0;31m:\u001b[0m invalid syntax\n"
     ]
    }
   ],
   "source": [
    "import matplotlib\n",
    "import matplotlib.pyplot as plt\n",
    "import numpy as np\n",
    "from scipy import stats\n",
    "\n",
    "X, Y = np.mgrid[-3:3:100j, -3:3:100j]\n",
    "\n",
    "z1 = stats.multivariate_normal([0., 0.], [[.5, 0.], [0., .5]])\n",
    "Z1 = z1.pdf(np.dstack((X, Y)))\n",
    "\n",
    "z2 = stats.multivariate_normal([0.5, 0.5], [[.4, 0.], [0., .4]])\n",
    "Z2 = z2.pdf(np.dstack((X, Y)))\n",
    "\n",
    "z3 = stats.multivariate_normal([-1.5, 0.], [[.6, 0.], [0., .2]])\n",
    "Z3 = z3.pdf(np.dstack((X, Y)))\n",
    "\n",
    "z = Z1 + Z2 + Z3\n",
    "z = z / z.sum()\n",
    "\n",
    "n = 1000\n",
    "t = np.linspace(0, z.max(), n)\n",
    "integral = ((z >= t[:, None, None]) * z).sum(axis=(1,2))\n",
    "integral = []\n",
    "for t_val in t:\n",
    "    result = (z >= t_val) \n",
    "    print(result)\n",
    "    integral.append((result*z).sum())\n",
    "\n",
    "from scipy import interpolate\n",
    "f = interpolate.interp1d(integral, t)\n",
    "t_contours = f([1.0 - np.exp(-0.5 * 2.0) ** 2, 1.0 - np.exp(-0.5 * 1.5) ** 2, 1.0 - np.exp(-0.5 * 1.0) ** 2,1.0 - np.exp(-0.5 * 0.5) ** 2])\n",
    "plt.imshow(z.T, origin='lower', extent=[-3,3,-3,3], cmap=\"GnBu\")\n",
    "plt.contour(z.T, t_contours, extent=[-3,3,-3,3], cmap='Dark2')\n",
    "plt.show()"
   ]
  },
  {
   "cell_type": "code",
   "execution_count": null,
   "metadata": {},
   "outputs": [],
   "source": []
  },
  {
   "cell_type": "code",
   "execution_count": null,
   "metadata": {},
   "outputs": [],
   "source": []
  },
  {
   "cell_type": "code",
   "execution_count": null,
   "metadata": {},
   "outputs": [],
   "source": []
  },
  {
   "cell_type": "code",
   "execution_count": null,
   "metadata": {},
   "outputs": [],
   "source": []
  }
 ],
 "metadata": {
  "kernelspec": {
   "display_name": "Python 3 (ipykernel)",
   "language": "python",
   "name": "python3"
  },
  "language_info": {
   "codemirror_mode": {
    "name": "ipython",
    "version": 3
   },
   "file_extension": ".py",
   "mimetype": "text/x-python",
   "name": "python",
   "nbconvert_exporter": "python",
   "pygments_lexer": "ipython3",
   "version": "3.9.16"
  }
 },
 "nbformat": 4,
 "nbformat_minor": 4
}
