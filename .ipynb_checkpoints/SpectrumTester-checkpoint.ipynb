{
 "cells": [
  {
   "cell_type": "code",
   "execution_count": 1,
   "id": "ef60b381-a306-4b95-8817-c0d600d5978a",
   "metadata": {
    "tags": []
   },
   "outputs": [
    {
     "name": "stderr",
     "output_type": "stream",
     "text": [
      "/Users/lpin0002/anaconda3/envs/please/lib/python3.9/site-packages/tqdm/auto.py:21: TqdmWarning: IProgress not found. Please update jupyter and ipywidgets. See https://ipywidgets.readthedocs.io/en/stable/user_install.html\n",
      "  from .autonotebook import tqdm as notebook_tqdm\n"
     ]
    }
   ],
   "source": [
    "from BFCalc.BFInterp import DM_spectrum_setup\n",
    "from utils import log10eaxis\n",
    "import numpy as np\n",
    "import matplotlib.pyplot as plt\n",
    "\n",
    "from matplotlib import cm\n",
    "from tqdm.autonotebook import tqdm as notebook_tqdm"
   ]
  },
  {
   "cell_type": "code",
   "execution_count": 4,
   "id": "83e8894d-de09-4d22-bb2e-1ab0b9ab0b9a",
   "metadata": {
    "tags": []
   },
   "outputs": [
    {
     "name": "stderr",
     "output_type": "stream",
     "text": [
      "/var/folders/xr/793vfd394l701z7tfh27tbj9q0x4gd/T/ipykernel_70848/1467002715.py:2: MatplotlibDeprecationWarning: The get_cmap function was deprecated in Matplotlib 3.7 and will be removed two minor releases later. Use ``matplotlib.colormaps[name]`` or ``matplotlib.colormaps.get_cmap(obj)`` instead.\n",
      "  colormap = cm.get_cmap('rainbow')\n"
     ]
    }
   ],
   "source": [
    "logmassaxis = np.linspace(-3,3,601)\n",
    "colormap = cm.get_cmap('rainbow')"
   ]
  },
  {
   "cell_type": "code",
   "execution_count": 5,
   "id": "03696506-514e-4b46-867e-e9ca3d406498",
   "metadata": {
    "tags": []
   },
   "outputs": [
    {
     "name": "stderr",
     "output_type": "stream",
     "text": [
      "  5%|███████████▎                                                                                                                                                                                                 | 33/601 [00:16<04:39,  2.03it/s]\n",
      "\n",
      "KeyboardInterrupt\n",
      "\n"
     ]
    }
   ],
   "source": [
    "spectravals = []\n",
    "for logmass in notebook_tqdm(logmassaxis):\n",
    "    tempfunc = DM_spectrum_setup(logmass, eaxis=10**log10eaxis)\n",
    "    \n",
    "    singlerowspecvals = tempfunc(log10eaxis)\n",
    "    \n",
    "    spectravals.append(singlerowspecvals)\n",
    "spectravals = np.array(spectravals)"
   ]
  },
  {
   "cell_type": "code",
   "execution_count": null,
   "id": "fe59515c-b678-4453-91b6-f6da33f495db",
   "metadata": {
    "tags": []
   },
   "outputs": [],
   "source": [
    "plt.figure(dpi=2000)\n",
    "\n",
    "plt.pcolormesh(log10eaxis, logmassaxis, spectravals, label=logmass, lw=0.8)\n",
    "# for logmass in logmassaxis:\n",
    "#     plt.axvline(logmass, c=colormap(np.where(logmassaxis==logmass)[0]/logmassaxis.shape[0]), lw=0.5, linestyle='-')\n",
    "    \n",
    "# plt.legend()\n",
    "plt.show()"
   ]
  },
  {
   "cell_type": "code",
   "execution_count": 10,
   "id": "e80d7bf2-8af4-4d61-9853-1bd4d4fd2a7e",
   "metadata": {
    "tags": []
   },
   "outputs": [
    {
     "data": {
      "text/plain": [
       "array([2.])"
      ]
     },
     "execution_count": 10,
     "metadata": {},
     "output_type": "execute_result"
    }
   ],
   "source": [
    "logmassaxis[logmassaxis==logmass]"
   ]
  },
  {
   "cell_type": "code",
   "execution_count": 35,
   "id": "5a6ab904-5f21-44a1-82f3-c8ffd166a0bd",
   "metadata": {
    "tags": []
   },
   "outputs": [
    {
     "data": {
      "text/plain": [
       "(22, 209)"
      ]
     },
     "execution_count": 35,
     "metadata": {},
     "output_type": "execute_result"
    }
   ],
   "source": [
    "spectravals.shape"
   ]
  },
  {
   "cell_type": "code",
   "execution_count": 36,
   "id": "05e4ddb5-909d-466c-be16-346a1ddc01fe",
   "metadata": {
    "tags": []
   },
   "outputs": [
    {
     "data": {
      "text/plain": [
       "(11,)"
      ]
     },
     "execution_count": 36,
     "metadata": {},
     "output_type": "execute_result"
    }
   ],
   "source": [
    "logmassaxis.shape"
   ]
  },
  {
   "cell_type": "code",
   "execution_count": 5,
   "id": "92d136e9-288c-4f32-95f6-e77c96088515",
   "metadata": {
    "tags": []
   },
   "outputs": [
    {
     "data": {
      "text/plain": [
       "4"
      ]
     },
     "execution_count": 5,
     "metadata": {},
     "output_type": "execute_result"
    }
   ],
   "source": [
    "np.where(logmassaxis==logmass-3)[0][0]"
   ]
  },
  {
   "cell_type": "code",
   "execution_count": null,
   "id": "b203d843-0dc3-4f1c-888f-69be8f309176",
   "metadata": {},
   "outputs": [],
   "source": []
  }
 ],
 "metadata": {
  "kernelspec": {
   "display_name": "Python 3 (ipykernel)",
   "language": "python",
   "name": "python3"
  },
  "language_info": {
   "codemirror_mode": {
    "name": "ipython",
    "version": 3
   },
   "file_extension": ".py",
   "mimetype": "text/x-python",
   "name": "python",
   "nbconvert_exporter": "python",
   "pygments_lexer": "ipython3",
   "version": "3.9.16"
  }
 },
 "nbformat": 4,
 "nbformat_minor": 5
}
