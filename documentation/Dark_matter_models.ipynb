{
 "cells": [
  {
   "cell_type": "markdown",
   "metadata": {},
   "source": [
    "# Dark Matter Model Creation/Implementation"
   ]
  },
  {
   "cell_type": "markdown",
   "metadata": {},
   "source": [
    "## Intro"
   ]
  },
  {
   "cell_type": "markdown",
   "metadata": {},
   "source": [
    "This script details the files needed to construct the dark matter models used within this package. We will start with extracting the default branching fractions/annihilation ratios for the Z2 dark matter (scalar singlet), then looking at the individual final state spectra and then finally how these are combined. "
   ]
  },
  {
   "cell_type": "markdown",
   "metadata": {},
   "source": [
    "## Needed Imports"
   ]
  },
  {
   "cell_type": "code",
   "execution_count": null,
   "metadata": {},
   "outputs": [],
   "source": [
    "import pandas as pd\n",
    "import numpy as np\n",
    "import matplotlib.pyplot as plt\n",
    "from matplotlib.colors import LogNorm\n",
    "from scipy.interpolate import griddata\n",
    "from scipy import interpolate, integrate\n",
    "import pkg_resources\n",
    "from gammabayes.utils.utils import log10eaxistrue, longitudeaxistrue, latitudeaxistrue\n",
    "plt.rc('text', usetex=True)\n",
    "plt.rc('font', family='serif')\n",
    "\n",
    "ratios=True\n"
   ]
  },
  {
   "cell_type": "code",
   "execution_count": null,
   "metadata": {},
   "outputs": [],
   "source": [
    "darkSUSY_to_PPPC_converter = {\n",
    "            \"nuenue\":\"nu_e\",\n",
    "            \"e+e-\": \"e\",\n",
    "            \"numunumu\":\"nu_mu\",\n",
    "            \"mu+mu-\":\"mu\",\n",
    "            'nutaunutau':\"nu_tau\",\n",
    "            \"tau+tau-\":\"tau\",\n",
    "            \"cc\": \"c\",\n",
    "            \"bb\": \"b\",\n",
    "            \"tt\": \"t\",\n",
    "            \"W+W-\": \"W\",\n",
    "            \"ZZ\": \"Z\",\n",
    "            \"HH\": \"h\",\n",
    "        }"
   ]
  },
  {
   "cell_type": "markdown",
   "metadata": {},
   "source": [
    "# Extracting Annihilation Ratios"
   ]
  },
  {
   "cell_type": "code",
   "execution_count": null,
   "metadata": {},
   "outputs": [],
   "source": [
    "darkSUSY_BFs_cleaned = pd.read_csv('../gammabayes/BFCalc/darkSUSY_BFs/darkSUSY_BFs_cleaned.csv', delimiter=' ')\n"
   ]
  },
  {
   "cell_type": "code",
   "execution_count": null,
   "metadata": {},
   "outputs": [],
   "source": [
    "darkSUSY_massvalues = darkSUSY_BFs_cleaned.iloc[:,1]/1e3\n",
    "\n",
    "darkSUSY_lambdavalues = darkSUSY_BFs_cleaned.iloc[:,2]\n",
    "\n",
    "channelfuncdictionary = {}\n",
    "\n",
    "\n",
    "log10xvals = np.load(f\"../gammabayes/BFCalc/griddata/log10xvals_massenergy_diffflux_grid.npy\")\n",
    "massvalues = np.load(f\"../gammabayes/BFCalc/griddata/massvals_massenergy_diffflux_grid.npy\")\n",
    "\n",
    "for darkSUSYchannel in list(darkSUSY_to_PPPC_converter.keys()):\n",
    "    try:\n",
    "        gammapychannel = darkSUSY_to_PPPC_converter[darkSUSYchannel]\n",
    "        \n",
    "        tempspectragrid = np.load(f\"../gammabayes/BFCalc/griddata/channel={gammapychannel}_massenergy_diffflux_grid.npy\")\n",
    "        \n",
    "        channelfuncdictionary[darkSUSYchannel] = interpolate.RegularGridInterpolator((np.log10(massvalues/1e3), log10xvals), np.array(tempspectragrid), \n",
    "                                                                                method='linear', bounds_error=False, fill_value=1e-3000)\n",
    "    except:\n",
    "        channelfuncdictionary[darkSUSYchannel] = lambda logmass, log10x: log10x*0\n",
    "\n",
    "darkSUSY_BFs_cleaned_vals = darkSUSY_BFs_cleaned.to_numpy()[:,3:]\n",
    "if ratios:\n",
    "    darkSUSY_BFs_cleaned_vals = darkSUSY_BFs_cleaned_vals/np.sum(darkSUSY_BFs_cleaned_vals, axis=1)[:, np.newaxis]\n",
    "        \n",
    "partial_sigmav_interpolator_dictionary = {channel: interpolate.LinearNDInterpolator((darkSUSY_massvalues, darkSUSY_lambdavalues),darkSUSY_BFs_cleaned_vals[:,idx]) for idx, channel in enumerate(list(darkSUSY_to_PPPC_converter.keys()))}\n",
    "\n"
   ]
  },
  {
   "cell_type": "code",
   "execution_count": null,
   "metadata": {},
   "outputs": [
    {
     "data": {
      "image/png": "[encoded data removed]",
      "text/plain": [
       "<Figure size 640x480 with 1 Axes>"
      ]
     },
     "metadata": {},
     "output_type": "display_data"
    }
   ],
   "source": [
    "plt.figure()\n",
    "\n",
    "for channel_name, partial_sigma_v_func in partial_sigmav_interpolator_dictionary.items():\n",
    "    plt.plot(np.logspace(-1,2,51), partial_sigma_v_func((np.logspace(-1,2, 51), 0.1)), label=channel_name)\n",
    "plt.xscale('log')\n",
    "plt.show()"
   ]
  },
  {
   "cell_type": "code",
   "execution_count": null,
   "metadata": {},
   "outputs": [
    {
     "data": {
      "text/plain": [
       "array([1.00000000e-02, 1.04693645e-02, 1.09607592e-02, ...,\n",
       "       9.55167817e+02, 1.00000000e+03, 1.04693645e+03])"
      ]
     },
     "execution_count": 18,
     "metadata": {},
     "output_type": "execute_result"
    }
   ],
   "source": [
    "darkSUSY_massvalues.to_numpy()"
   ]
  },
  {
   "cell_type": "code",
   "execution_count": null,
   "metadata": {},
   "outputs": [],
   "source": []
  },
  {
   "cell_type": "code",
   "execution_count": null,
   "metadata": {},
   "outputs": [],
   "source": []
  }
 ],
 "metadata": {
  "kernelspec": {
   "display_name": "please",
   "language": "python",
   "name": "python3"
  },
  "language_info": {
   "codemirror_mode": {
    "name": "ipython",
    "version": 3
   },
   "file_extension": ".py",
   "mimetype": "text/x-python",
   "name": "python",
   "nbconvert_exporter": "python",
   "pygments_lexer": "ipython3",
   "version": "3.11.5"
  },
  "orig_nbformat": 4
 },
 "nbformat": 4,
 "nbformat_minor": 2
}
