{
 "cells": [
  {
   "cell_type": "markdown",
   "metadata": {},
   "source": [
    "# Simulations"
   ]
  },
  {
   "cell_type": "markdown",
   "metadata": {},
   "source": [
    "In this notebook we detail how simulations to generate measured events that can be analysed with GammaBayes. \n",
    "\n",
    "There are essentially three steps to these simulations.\n",
    "\n",
    "1. Setup: Create the relevant priors and likelihoods that describe your astrophysical sources and instrumental noise (there is a more detailed explanation on these in the relevant notebooks)\n",
    "\n",
    "2. True Value Sampling: Sample the priors to obtain the \"true values\" that correspond to what a perfect instrument would see\n",
    "\n",
    "3. Measured Value Sampling: With the true value samples, sample the likelihoods to add noise to the measurements to obtain events similar to what the CTA would see"
   ]
  },
  {
   "cell_type": "markdown",
   "metadata": {},
   "source": [
    "## 1. Setup"
   ]
  },
  {
   "cell_type": "markdown",
   "metadata": {},
   "source": [
    "Within the docs folder containing this file is a file named `example_run_script.yaml` which works as a configuration file. We generally advise the use of these files although the format is mostly not enforced within `GammaBayes`."
   ]
  },
  {
   "cell_type": "code",
   "execution_count": 1,
   "metadata": {},
   "outputs": [
    {
     "name": "stdout",
     "output_type": "stream",
     "text": [
      "file path: example_run_script.yaml\n"
     ]
    },
    {
     "name": "stderr",
     "output_type": "stream",
     "text": [
      "/Users/lpin0002/anaconda3/envs/testofwest/lib/python3.12/site-packages/tqdm/auto.py:21: TqdmWarning: IProgress not found. Please update jupyter and ipywidgets. See https://ipywidgets.readthedocs.io/en/stable/user_install.html\n",
      "  from .autonotebook import tqdm as notebook_tqdm\n"
     ]
    }
   ],
   "source": [
    "import sys, numpy as np, random\n",
    "from gammabayes.utils.config_utils import read_config_file\n",
    "random.seed(1)\n",
    "\n",
    "config_inputs = read_config_file('example_run_script.yaml')\n",
    "\n",
    "nsig                = int(round(config_inputs['signal_fraction']*config_inputs['Nevents']))\n",
    "nbkg                = int(round((1-config_inputs['signal_fraction'])*config_inputs['Nevents']))"
   ]
  },
  {
   "cell_type": "markdown",
   "metadata": {},
   "source": [
    "### Axes"
   ]
  },
  {
   "cell_type": "markdown",
   "metadata": {},
   "source": [
    "We will first create the our priors. For this we will need to set up the axes over which the true values can be made in `Energy`, `galactic longitude` and `galactic latitude`.\n",
    "\n",
    "For now we will let there be 100 bins per decade in energy from 0.1 TeV to 100 TeV. The bounds in all cases mostly being defined by where the Instruments Response Functions (our likelihoods) are well-defined.\n",
    "\n",
    "Our Galactic Latitude will have the bounds of -3.5 to 3.5 (our 356.5 to 3.5 if you prefer, but the math is easier with symmetry) with a resolution of 0.4. This is not what one would want to use in a full-blown simulation, but any increase in particularly the spatial axes can significantly increase computation time for later stages of analysis.\n",
    "\n",
    "Our Galactic Longitude will then have bounds of -3.0 to 3.0 also with a resolution of 0.4. This is mostly to show you don't need a completely symmetry observation window here and can use whatever you wish.\n",
    "\n",
    "These axes are named `log10_eaxis_true`, `longitude_axis_true` and `latitude_axis_true` respectively."
   ]
  },
  {
   "cell_type": "code",
   "execution_count": 2,
   "metadata": {},
   "outputs": [
    {
     "name": "stdout",
     "output_type": "stream",
     "text": [
      "0.1 100 150 0.2 -3.1 3.1 -3.0 3.0\n"
     ]
    }
   ],
   "source": [
    "from gammabayes.utils.config_utils import create_recon_axes_from_config, create_true_axes_from_config\n",
    "\n",
    "\n",
    "energy_axis_true, longitude_axis_true, latitude_axis_true = create_true_axes_from_config(config_inputs)\n",
    "true_mass = config_inputs['mass']"
   ]
  },
  {
   "cell_type": "markdown",
   "metadata": {},
   "source": [
    "Let's have a quick look at the shapes, so that it is easier to keep track of each axes for the oncoming steps."
   ]
  },
  {
   "cell_type": "code",
   "execution_count": 3,
   "metadata": {},
   "outputs": [
    {
     "name": "stdout",
     "output_type": "stream",
     "text": [
      "(451,) (32,) (31,)\n"
     ]
    }
   ],
   "source": [
    "print(energy_axis_true.shape, longitude_axis_true.shape, latitude_axis_true.shape)"
   ]
  },
  {
   "cell_type": "markdown",
   "metadata": {},
   "source": [
    "We will also need the axes of the values that actual CTA measurements can take."
   ]
  },
  {
   "cell_type": "code",
   "execution_count": 4,
   "metadata": {},
   "outputs": [
    {
     "name": "stdout",
     "output_type": "stream",
     "text": [
      "0.1 100 50 0.4 -3.1 3.1 -3.0 3.0\n"
     ]
    }
   ],
   "source": [
    "energy_axis, longitude_axis, latitude_axis = create_recon_axes_from_config(config_inputs)"
   ]
  },
  {
   "cell_type": "markdown",
   "metadata": {},
   "source": [
    "### Creating priors"
   ]
  },
  {
   "cell_type": "markdown",
   "metadata": {},
   "source": [
    "And now we can get start on creating the priors that we will need. We will import the `discrete_prior` class from GammaBayes."
   ]
  },
  {
   "cell_type": "code",
   "execution_count": 5,
   "metadata": {},
   "outputs": [],
   "source": [
    "from gammabayes.priors import discrete_logprior\n"
   ]
  },
  {
   "cell_type": "markdown",
   "metadata": {},
   "source": [
    "To create the relevant dark matter spectra we will use the `SS_DM_dist` class from GammaBayes. Initial creation of the function should take less than 10 seconds."
   ]
  },
  {
   "cell_type": "code",
   "execution_count": 6,
   "metadata": {},
   "outputs": [],
   "source": [
    "from gammabayes.dark_matter import SS_DM_dist\n",
    "\n",
    "SS_DM_dist_instance= SS_DM_dist(longitude_axis_true, latitude_axis_true, density_profile=config_inputs['dmdensity_profile'])\n",
    "logDMpriorfunc = SS_DM_dist_instance.func_setup()"
   ]
  },
  {
   "cell_type": "markdown",
   "metadata": {},
   "source": [
    "Now let's initiate the prior class for our signal and have a look at what it contains."
   ]
  },
  {
   "cell_type": "code",
   "execution_count": 7,
   "metadata": {},
   "outputs": [
    {
     "data": {
      "text/plain": [
       "discrete log prior class\n",
       "----------------------------\n",
       "name = Scalar Singlet Dark Matter Prior\n",
       "logfunction type is <function SS_DM_dist.func_setup.<locals>.DM_signal_dist at 0x1555a5940>\n",
       "input units of None\n",
       "over axes ['energy [TeV]', 'lon', 'lat']\n",
       "with hyperparameter(s) ['mass']"
      ]
     },
     "execution_count": 7,
     "metadata": {},
     "output_type": "execute_result"
    }
   ],
   "source": [
    "DM_prior = discrete_logprior(logfunction=logDMpriorfunc, name='Scalar Singlet Dark Matter Prior',\n",
    "                               axes=(energy_axis_true, longitude_axis_true, latitude_axis_true,), \n",
    "                               axes_names=['energy [TeV]', 'lon', 'lat'],\n",
    "                               default_hyperparameter_values=(true_mass,), \n",
    "                               hyperparameter_names=['mass'],)\n",
    "DM_prior"
   ]
  },
  {
   "cell_type": "markdown",
   "metadata": {},
   "source": [
    "So we have a signal, we next need a background. This is more thoroughly detailed in the `prior_class` jupyter notebook."
   ]
  },
  {
   "cell_type": "code",
   "execution_count": 8,
   "metadata": {},
   "outputs": [
    {
     "name": "stderr",
     "output_type": "stream",
     "text": [
      "/Users/lpin0002/anaconda3/envs/testofwest/lib/python3.12/site-packages/gammapy/modeling/models/spatial.py:554: RuntimeWarning: invalid value encountered in multiply\n",
      "  return u.Quantity(norm * np.exp(exponent).value, \"sr-1\", copy=False)\n"
     ]
    },
    {
     "data": {
      "text/plain": [
       "discrete log prior class\n",
       "----------------------------\n",
       "name = Background Prior\n",
       "logfunction type is <function <lambda> at 0x155735940>\n",
       "input units of None\n",
       "over axes ['energy', 'lon', 'lat']\n",
       "with hyperparameter(s) ['None']"
      ]
     },
     "execution_count": 8,
     "metadata": {},
     "output_type": "execute_result"
    }
   ],
   "source": [
    "from gammabayes.priors import log_bkg_CCR_dist\n",
    "from gammabayes.priors.astro_sources import construct_fermi_gaggero_matrix, construct_hess_source_map\n",
    "from scipy import special, interpolate\n",
    "\n",
    "nuisancemesh = np.meshgrid(energy_axis_true, longitude_axis_true, latitude_axis_true, indexing='ij')\n",
    "\n",
    "from gammabayes.priors.astro_sources import construct_hess_source_map, construct_fermi_gaggero_matrix\n",
    "\n",
    "\n",
    "astrophysicalbackground = construct_hess_source_map(energy_axis_true, longitude_axis_true, latitude_axis_true)+construct_fermi_gaggero_matrix(energy_axis_true, longitude_axis_true, latitude_axis_true)\n",
    "\n",
    "log_misidentification_rate = np.squeeze(log_bkg_CCR_dist(*nuisancemesh))\n",
    "\n",
    "unnormed_logbkgpriorvalues = np.logaddexp(log_misidentification_rate,np.log(astrophysicalbackground))\n",
    "\n",
    "\n",
    "logbkgfunc_tuple_input = interpolate.RegularGridInterpolator((energy_axis_true, longitude_axis_true, latitude_axis_true,), np.exp(unnormed_logbkgpriorvalues))\n",
    "logbkgfunc = lambda energy, longitude, latitude: np.log(logbkgfunc_tuple_input((energy, longitude, latitude)))\n",
    "\n",
    "\n",
    "bkg_prior = discrete_logprior(logfunction=logbkgfunc, name='Background Prior',\n",
    "                               axes=(energy_axis_true, longitude_axis_true, latitude_axis_true,), \n",
    "                               axes_names=['energy', 'lon', 'lat'],)\n",
    "\n",
    "bkg_prior"
   ]
  },
  {
   "cell_type": "markdown",
   "metadata": {},
   "source": [
    "### Creating Likelihoods"
   ]
  },
  {
   "cell_type": "markdown",
   "metadata": {},
   "source": [
    "Within the `gammabayes.likelihoods.irfs` there is a class called `irf_loglikelihood` which is mentioned at the end of the `likelihood_classes` tutorial. This class allows very easy use of standard IRFs produced by the CTA."
   ]
  },
  {
   "cell_type": "code",
   "execution_count": 9,
   "metadata": {},
   "outputs": [],
   "source": [
    "from gammabayes.likelihoods.irfs import irf_loglikelihood"
   ]
  },
  {
   "cell_type": "markdown",
   "metadata": {},
   "source": [
    "We then instantiate the IRF log-likelihood like so."
   ]
  },
  {
   "cell_type": "code",
   "execution_count": 10,
   "metadata": {},
   "outputs": [
    {
     "name": "stdout",
     "output_type": "stream",
     "text": [
      "\n",
      "Path to irf fits file: /Users/lpin0002/anaconda3/envs/testofwest/lib/python3.12/site-packages/gammabayes/utils/../package_data/irf_fits_files/prod5/CTA-Performance-prod5-v0.1-South-20deg.FITS/Prod5-South-20deg-AverageAz-14MSTs37SSTs.180000s-v0.1.fits.gz\n",
      "\n",
      "Number of input dimensions 3\n"
     ]
    },
    {
     "data": {
      "text/plain": [
       "discrete log likelihood class\n",
       "---------------------------------\n",
       "name = IRF loglikelihood\n",
       "logfunction type is <bound method irf_extractor.single_loglikelihood of <gammabayes.likelihoods.irfs.irf_extractor_class.irf_extractor object at 0x15572bec0>>\n",
       "input units of ['None']\n",
       "over axes E recon\n",
       "with dependent axes ['E true', 'lon', 'lat']"
      ]
     },
     "execution_count": 10,
     "metadata": {},
     "output_type": "execute_result"
    }
   ],
   "source": [
    "irf_like = irf_loglikelihood(zenith=20, hemisphere='S', prod_vers=5,\n",
    "                               axes=(energy_axis, longitude_axis, latitude_axis), axes_names='E recon',\n",
    "                               name='IRF loglikelihood',\n",
    "                               dependent_axes=(energy_axis_true, longitude_axis_true, latitude_axis_true,),\n",
    "                               dependent_axes_names = ['E true', 'lon', 'lat'])\n",
    "irf_like"
   ]
  },
  {
   "cell_type": "markdown",
   "metadata": {},
   "source": [
    "The `Number of input dimesions` parameter describes the dimensionality of the axes that the likelihood is normalised with respect to. Here the IRF log-likelihood is with respect to the 1 energy dimension and 2 angular/sky position dimensions so the number of total input dimensions is 3."
   ]
  },
  {
   "cell_type": "markdown",
   "metadata": {},
   "source": [
    "## 2. True Value Sampling"
   ]
  },
  {
   "cell_type": "markdown",
   "metadata": {},
   "source": [
    "Now that we have completed all the setup we can use the in-built methods and attributes of the classes we have set up to do the rest of the heavy lifting. \n",
    "\n",
    "We will set the fraction of signal events to total events to 0.6 (for illustrative purposes) and the total number of events to be measured to 5000. This means there will be 3000 signal events and 2000 background events."
   ]
  },
  {
   "cell_type": "code",
   "execution_count": 11,
   "metadata": {},
   "outputs": [],
   "source": [
    "signal_fraction = config_inputs['signal_fraction']\n",
    "total_events = config_inputs['totalevents']"
   ]
  },
  {
   "cell_type": "markdown",
   "metadata": {},
   "source": [
    "To sample the priors we can then use the `sample` method with the number of samples we want. The output will be a tuple of the values in each of the dependent axes of the priors."
   ]
  },
  {
   "cell_type": "code",
   "execution_count": 12,
   "metadata": {},
   "outputs": [],
   "source": [
    "sig_energy_vals,siglonvals,siglatvals  = DM_prior.sample(nsig)\n",
    "\n",
    "bkg_energy_vals,bkglonvals,bkglatvals  = bkg_prior.sample(nbkg)"
   ]
  },
  {
   "cell_type": "markdown",
   "metadata": {},
   "source": [
    "Let's plot the functions for these priors (with the proper jacobians) along the energy axis and compare them to the samples that we generated."
   ]
  },
  {
   "cell_type": "code",
   "execution_count": 13,
   "metadata": {},
   "outputs": [
    {
     "data": {
      "image/png": "[encoded data removed]",
      "text/plain": [
       "<Figure size 1000x400 with 2 Axes>"
      ]
     },
     "metadata": {},
     "output_type": "display_data"
    }
   ],
   "source": [
    "import matplotlib.pyplot as plt\n",
    "from gammabayes.utils import bin_centres_to_edges\n",
    "from gammabayes.utils.event_axes import makelogjacob\n",
    "plt.figure(figsize=(10,4))\n",
    "plt.subplot(121)\n",
    "plt.title('Signal')\n",
    "logjacob_true = np.meshgrid(makelogjacob(energy_axis_true), longitude_axis_true, latitude_axis_true, indexing='ij')[0]\n",
    "signal_plot_vals = np.sum(np.exp(DM_prior.logfunction(*[mesh.flatten() for mesh in np.meshgrid(energy_axis_true, longitude_axis_true, latitude_axis_true, true_mass, indexing='ij')], ).reshape(logjacob_true.shape)+logjacob_true), axis=(1,2))\n",
    "sig_true_histvals, sig_true_hist_bins, _ = plt.hist(sig_energy_vals, bins=bin_centres_to_edges(energy_axis_true), label='binned samples')\n",
    "\n",
    "plt.plot(energy_axis_true, signal_plot_vals/np.max(signal_plot_vals)*np.max(sig_true_histvals), lw=1, label=\"Scaled Prior\", alpha=0.7)\n",
    "\n",
    "plt.loglog()\n",
    "plt.ylim([0.01,None])\n",
    "\n",
    "plt.xlabel(r'E$_{\\rm{true}}$')\n",
    "\n",
    "plt.subplot(122)\n",
    "plt.title('Background')\n",
    "\n",
    "\n",
    "background_plot_vals = np.sum(np.exp(bkg_prior.logfunction(*np.meshgrid(energy_axis_true, longitude_axis_true, latitude_axis_true, indexing='ij'),)+logjacob_true), \n",
    "                              axis=(1,2))\n",
    "background_true_histvals, background_true_hist_bins, _ = plt.hist(bkg_energy_vals, bins=bin_centres_to_edges(energy_axis_true), label='binned samples')\n",
    "\n",
    "\n",
    "plt.plot(energy_axis_true, background_plot_vals/np.max(background_plot_vals)*np.max(background_true_histvals), lw=1, label=\"Scaled Priors\", alpha=0.7)\n",
    "\n",
    "plt.loglog()\n",
    "plt.ylim([0.01,None])\n",
    "plt.legend(bbox_to_anchor=(1.55,0.6))\n",
    "plt.xlabel(r'E$_{\\rm{true}}$')\n",
    "plt.show()\n"
   ]
  },
  {
   "cell_type": "markdown",
   "metadata": {},
   "source": [
    "With a change in the overall normalisation for the prior functions, the histograms should roughly match the plotted priorvalues."
   ]
  },
  {
   "cell_type": "markdown",
   "metadata": {},
   "source": [
    "And then we'll just have a quick look at the sky position sampling."
   ]
  },
  {
   "cell_type": "code",
   "execution_count": 14,
   "metadata": {},
   "outputs": [
    {
     "data": {
      "image/png": "[encoded data removed]",
      "text/plain": [
       "<Figure size 1400x600 with 4 Axes>"
      ]
     },
     "metadata": {},
     "output_type": "display_data"
    }
   ],
   "source": [
    "from matplotlib.colors import LogNorm\n",
    "\n",
    "\n",
    "plt.figure(figsize=(14,6))\n",
    "plt.subplot(121)\n",
    "plt.hist2d(siglonvals,siglatvals, \n",
    "           bins=(bin_centres_to_edges(longitude_axis_true), bin_centres_to_edges(latitude_axis_true)))#, norm=LogNorm(vmin=1))\n",
    "plt.colorbar()\n",
    "\n",
    "plt.subplot(122)\n",
    "plt.hist2d(bkglonvals,bkglatvals, \n",
    "           bins=(bin_centres_to_edges(longitude_axis_true), bin_centres_to_edges(latitude_axis_true)))\n",
    "plt.colorbar()\n",
    "\n",
    "plt.show()"
   ]
  },
  {
   "cell_type": "markdown",
   "metadata": {},
   "source": [
    "## 3. Measured Value Sampling"
   ]
  },
  {
   "cell_type": "markdown",
   "metadata": {},
   "source": [
    "Now that we have our \"true values\" we can create our \"measured\" or \"reconstructed\" values by sampling the likelihoods given the true values."
   ]
  },
  {
   "cell_type": "code",
   "execution_count": 15,
   "metadata": {},
   "outputs": [
    {
     "name": "stderr",
     "output_type": "stream",
     "text": [
      "100%|██████████| 100/100 [00:03<00:00, 30.10it/s]\n",
      "100%|██████████| 900/900 [00:27<00:00, 32.22it/s]\n"
     ]
    }
   ],
   "source": [
    "from tqdm.autonotebook import tqdm as notebook_tqdm\n",
    "\n",
    "signal_energy_measured, signal_lon_measured, signal_lat_measured = np.asarray([np.squeeze(irf_like.sample((energy_val,*coord,), numsamples=1)) for energy_val,coord  in notebook_tqdm(zip(sig_energy_vals, np.array([siglonvals, siglatvals]).T), total=nsig)]).T\n",
    "\n",
    "bkg_energy_measured, bkg_lon_measured, bkg_lat_measured = np.asarray([np.squeeze(irf_like.sample((energy_val,*coord,), numsamples=1)) for energy_val,coord  in notebook_tqdm(zip(bkg_energy_vals, np.array([bkglonvals, bkglatvals]).T), total=nbkg)]).T\n"
   ]
  },
  {
   "cell_type": "markdown",
   "metadata": {},
   "source": [
    "Now let's have a thorough look at our outputs."
   ]
  },
  {
   "cell_type": "code",
   "execution_count": 16,
   "metadata": {},
   "outputs": [
    {
     "data": {
      "image/png": "[encoded data removed]",
      "text/plain": [
       "<Figure size 1400x600 with 3 Axes>"
      ]
     },
     "metadata": {},
     "output_type": "display_data"
    }
   ],
   "source": [
    "alpha=0.7\n",
    "plt.figure(figsize=(14,6))\n",
    "plt.subplot(131)\n",
    "plt.hist(signal_energy_measured, bins=bin_centres_to_edges(energy_axis), color='tab:blue', alpha=alpha, label='Signal')\n",
    "plt.hist(bkg_energy_measured,   bins=bin_centres_to_edges(energy_axis), color='tab:orange', alpha=alpha, label='Background')\n",
    "plt.loglog()\n",
    "plt.xlabel('Energy [TeV]')\n",
    "\n",
    "plt.legend()\n",
    "\n",
    "plt.subplot(132)\n",
    "\n",
    "plt.hist(signal_lon_measured, bins=bin_centres_to_edges(longitude_axis), color='tab:blue', alpha=alpha, label='Signal')\n",
    "plt.hist(bkg_lon_measured, bins=bin_centres_to_edges(longitude_axis), color='tab:orange', alpha=alpha, label='Background')\n",
    "plt.xlabel('Longitude [deg]')\n",
    "\n",
    "plt.legend()\n",
    "\n",
    "\n",
    "\n",
    "plt.subplot(133)\n",
    "\n",
    "plt.hist(signal_lon_measured, bins= bin_centres_to_edges(latitude_axis), color='tab:blue', alpha=alpha, label='Signal')\n",
    "plt.hist(bkg_lat_measured, bins= bin_centres_to_edges(latitude_axis), color='tab:orange', alpha=alpha, label='Background')\n",
    "plt.legend()\n",
    "plt.xlabel('Latitude [deg]')\n",
    "\n",
    "\n",
    "plt.show()"
   ]
  },
  {
   "cell_type": "markdown",
   "metadata": {},
   "source": [
    "The next recommended notebook to follow is called `hyperparameter_inference.ipynb` which analyses the simulations found here to reconstruct the $log_{10}$ mass value and fraction of events that come from the signal."
   ]
  },
  {
   "cell_type": "code",
   "execution_count": 17,
   "metadata": {},
   "outputs": [],
   "source": [
    "import os\n",
    "os.makedirs('tutorial_data', exist_ok=True)\n",
    "\n",
    "\n",
    "np.save(f'tutorial_data/recon_bkg_samples.npy', np.array([bkg_energy_measured, bkg_lon_measured, bkg_lat_measured]))\n",
    "np.save(f'tutorial_data/recon_sig_samples.npy', np.array([signal_energy_measured, signal_lon_measured, signal_lat_measured]))"
   ]
  }
 ],
 "metadata": {
  "kernelspec": {
   "display_name": "please",
   "language": "python",
   "name": "python3"
  },
  "language_info": {
   "codemirror_mode": {
    "name": "ipython",
    "version": 3
   },
   "file_extension": ".py",
   "mimetype": "text/x-python",
   "name": "python",
   "nbconvert_exporter": "python",
   "pygments_lexer": "ipython3",
   "version": "3.12.0"
  }
 },
 "nbformat": 4,
 "nbformat_minor": 2
}
