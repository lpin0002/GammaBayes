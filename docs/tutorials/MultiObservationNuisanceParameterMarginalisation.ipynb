{
 "cells": [
  {
   "cell_type": "markdown",
   "metadata": {},
   "source": [
    "# Multi-observation inference"
   ]
  },
  {
   "cell_type": "markdown",
   "metadata": {},
   "source": [
    "___....Currently undergoing remodelling, sorry for the inconvenience....___"
   ]
  },
  {
   "cell_type": "markdown",
   "metadata": {},
   "source": []
  }
 ],
 "metadata": {
  "language_info": {
   "name": "python"
  }
 },
 "nbformat": 4,
 "nbformat_minor": 2
}
