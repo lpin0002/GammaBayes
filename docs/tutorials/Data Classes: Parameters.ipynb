{
 "cells": [
  {
   "cell_type": "markdown",
   "metadata": {},
   "source": [
    "# GammaBayes Data Classes"
   ]
  },
  {
   "cell_type": "markdown",
   "metadata": {},
   "source": [
    "One of the more fundamental things within `GammaBayes` is the use of three data classes: `EventData`, `Parameter`, and `ParameterSet`. Here we will go over `Parameter` and `ParameterSet`."
   ]
  },
  {
   "cell_type": "markdown",
   "metadata": {},
   "source": [
    "# `Parameter`"
   ]
  },
  {
   "cell_type": "markdown",
   "metadata": {},
   "source": [
    "The `Parameter` class is a nice wrapper (sensing a theme?) for important values involved when performing analysis on a parameter. This class provides less help in the way of keyword arguments as it is meant to act more like a dictionary of common keys than a class almost. Two example inputs are below."
   ]
  },
  {
   "cell_type": "code",
   "execution_count": 1,
   "metadata": {},
   "outputs": [],
   "source": [
    "import numpy as np\n",
    "\n",
    "example_discrete_parameter_dict = {\n",
    "    'discrete': True,\n",
    "    'name': 'mass',\n",
    "    'parameter_type': 'spectral',\n",
    "    'scaling': 'log10',\n",
    "    'bounds': [1e-1, 1e2],\n",
    "    'default_value': 1.0,\n",
    "    'bins': 31,\n",
    "}\n",
    "\n",
    "example_continuous_parameter_dict = {\n",
    "    'discrete': False,\n",
    "    'name': 'sig|total',\n",
    "    'scaling': 'linear',\n",
    "    'bounds': [0,1],\n",
    "}"
   ]
  },
  {
   "cell_type": "markdown",
   "metadata": {},
   "source": [
    "So when we have two types of parameters continuous and discrete. \n",
    "\n",
    "When we analyse discrete parameters we need to have the range of values that the parameter can take. In the case of the mass parameter, based on the information provided, we would construct an axis of values like so."
   ]
  },
  {
   "cell_type": "code",
   "execution_count": 2,
   "metadata": {},
   "outputs": [],
   "source": [
    "mass_axis = np.logspace(np.log10(1e-1), np.log10(1e2), 31)"
   ]
  },
  {
   "cell_type": "markdown",
   "metadata": {},
   "source": [
    "We also need to obviously keep track of some identifier for each parameter, e.g. mass. "
   ]
  },
  {
   "cell_type": "markdown",
   "metadata": {},
   "source": [
    "If we may also want to keep track of a default value or standard value for a parameter (e.g. 0.17 for the alpha parameter in the Einasto dark matter density profile)."
   ]
  },
  {
   "cell_type": "markdown",
   "metadata": {},
   "source": [
    "And if we plug this parameter into some sort of MC sampler (e.g. nested sampling) we would want a nice way to keep track of the inverse cdf to turn a unit cube into a value of said parameter."
   ]
  },
  {
   "cell_type": "markdown",
   "metadata": {},
   "source": [
    "To make my, and your, lives each easier, this class is just meant to put all of this into a single semi-standardised object."
   ]
  },
  {
   "cell_type": "code",
   "execution_count": 3,
   "metadata": {},
   "outputs": [],
   "source": [
    "from gammabayes import Parameter\n",
    "\n",
    "mass_parameter = Parameter(example_discrete_parameter_dict)"
   ]
  },
  {
   "cell_type": "markdown",
   "metadata": {},
   "source": [
    "And we can access all these attributes like a dictionary."
   ]
  },
  {
   "cell_type": "code",
   "execution_count": 4,
   "metadata": {},
   "outputs": [
    {
     "data": {
      "text/plain": [
       "'mass'"
      ]
     },
     "execution_count": 4,
     "metadata": {},
     "output_type": "execute_result"
    }
   ],
   "source": [
    "mass_parameter['name']"
   ]
  },
  {
   "cell_type": "markdown",
   "metadata": {},
   "source": [
    "Or you can access them as attributes of the class."
   ]
  },
  {
   "cell_type": "code",
   "execution_count": 5,
   "metadata": {},
   "outputs": [
    {
     "data": {
      "text/plain": [
       "'mass'"
      ]
     },
     "execution_count": 5,
     "metadata": {},
     "output_type": "execute_result"
    }
   ],
   "source": [
    "mass_parameter.name"
   ]
  },
  {
   "cell_type": "markdown",
   "metadata": {},
   "source": [
    "And derivatives of these values as attributes/properties"
   ]
  },
  {
   "cell_type": "code",
   "execution_count": 6,
   "metadata": {},
   "outputs": [
    {
     "data": {
      "text/plain": [
       "array([  0.1       ,   0.12589254,   0.15848932,   0.19952623,\n",
       "         0.25118864,   0.31622777,   0.39810717,   0.50118723,\n",
       "         0.63095734,   0.79432823,   1.        ,   1.25892541,\n",
       "         1.58489319,   1.99526231,   2.51188643,   3.16227766,\n",
       "         3.98107171,   5.01187234,   6.30957344,   7.94328235,\n",
       "        10.        ,  12.58925412,  15.84893192,  19.95262315,\n",
       "        25.11886432,  31.6227766 ,  39.81071706,  50.11872336,\n",
       "        63.09573445,  79.43282347, 100.        ])"
      ]
     },
     "execution_count": 6,
     "metadata": {},
     "output_type": "execute_result"
    }
   ],
   "source": [
    "mass_parameter.axis"
   ]
  },
  {
   "cell_type": "markdown",
   "metadata": {},
   "source": [
    "And based on the input parameters we create an inverse cumulative distribution function that can be used within a sampler within the 'transform' method. This is pretty much the main reason the class exists."
   ]
  },
  {
   "cell_type": "code",
   "execution_count": 7,
   "metadata": {},
   "outputs": [
    {
     "data": {
      "text/plain": [
       "0.19952623149688797"
      ]
     },
     "execution_count": 7,
     "metadata": {},
     "output_type": "execute_result"
    }
   ],
   "source": [
    "mass_parameter.transform(0.1)"
   ]
  },
  {
   "cell_type": "markdown",
   "metadata": {},
   "source": [
    "This also allows one to specify all needed information from a yaml file, as the class just takes in a dictionary, and you can store other information about the parameter as well as it is essentially just a dictionary."
   ]
  },
  {
   "cell_type": "code",
   "execution_count": 8,
   "metadata": {},
   "outputs": [],
   "source": [
    "mass_parameter['physics_is_cool'] = True"
   ]
  },
  {
   "cell_type": "code",
   "execution_count": 9,
   "metadata": {},
   "outputs": [
    {
     "data": {
      "text/plain": [
       "True"
      ]
     },
     "execution_count": 9,
     "metadata": {},
     "output_type": "execute_result"
    }
   ],
   "source": [
    "mass_parameter.physics_is_cool"
   ]
  },
  {
   "cell_type": "markdown",
   "metadata": {},
   "source": [
    "We also note that we generally keep track of a parameter called `parameter_type` which currently takes values of `spectral` or `spatial`. This is because most parameters can be put into one of these two categories, and many models treat them independently (e.g. dark matter's angular vs spectral distributions). So to decrease the number of unneeded computations (which is one of the main focuses of this code) one can read in the relevant parameters to each component without any checks as they are already stored in a formatted manner."
   ]
  },
  {
   "cell_type": "markdown",
   "metadata": {},
   "source": [
    "## Scaling"
   ]
  },
  {
   "cell_type": "markdown",
   "metadata": {},
   "source": [
    "The `scaling` parameter can either take the value of `linear` or `log10`. Which for discrete parameters means either using `np.linspace` or `np.logspace` and for continuous parameters different transform functions are used of the kind,"
   ]
  },
  {
   "cell_type": "markdown",
   "metadata": {},
   "source": [
    "`u * transform_scale + bounds[0]`\n"
   ]
  },
  {
   "cell_type": "markdown",
   "metadata": {},
   "source": [
    "or"
   ]
  },
  {
   "cell_type": "markdown",
   "metadata": {},
   "source": [
    "`10**(u * transform_scale + np.log10(bounds[0]))`\n"
   ]
  },
  {
   "cell_type": "markdown",
   "metadata": {},
   "source": [
    "And `transform_scale` is either `np.diff(bounds)` or `np.log10(bounds)` depending on which scale is chosen."
   ]
  },
  {
   "cell_type": "markdown",
   "metadata": {},
   "source": [
    "## Prior ID/Likelihood ID"
   ]
  },
  {
   "cell_type": "markdown",
   "metadata": {},
   "source": [
    "Another parameter that the class keeps track of are identifiers for the prior or likelihood that the parameter belong to. This is typically just a string, but helps keep track of where the parameter belongs within the analysis.\n",
    "\n",
    "And just a note, likelihood parameter analysis is not inherently supported within the code yet. Currently the focys of the code is to optimise the evaluation of the priors. Later updates may include this functionality.\n",
    "\n",
    "And if you're interested in doing this yourself or want to help out, please email me at `Liam.Pinchbeck@monash.edu`."
   ]
  },
  {
   "cell_type": "markdown",
   "metadata": {},
   "source": [
    "## Save/Load"
   ]
  },
  {
   "cell_type": "markdown",
   "metadata": {},
   "source": [
    "And just like most classes in this package, you can save and/or load."
   ]
  },
  {
   "cell_type": "code",
   "execution_count": 10,
   "metadata": {},
   "outputs": [],
   "source": [
    "mass_parameter.save('mass_param.h5')"
   ]
  },
  {
   "cell_type": "code",
   "execution_count": 11,
   "metadata": {},
   "outputs": [
    {
     "name": "stdout",
     "output_type": "stream",
     "text": [
      "{'bins': 31, 'default_value': 1.0, 'discrete': True, 'likelihood_id': nan, 'name': 'mass', 'parameter_type': 'spectral', 'physics_is_cool': True, 'prior_id': nan, 'prob_model': '<scipy.stats._distn_infrastructure.rv_continuous_frozen object at 0x118030800>', 'scaling': 'log10', 'transform_scale': 31, 'axis': array([  0.1       ,   0.12589254,   0.15848932,   0.19952623,\n",
      "         0.25118864,   0.31622777,   0.39810717,   0.50118723,\n",
      "         0.63095734,   0.79432823,   1.        ,   1.25892541,\n",
      "         1.58489319,   1.99526231,   2.51188643,   3.16227766,\n",
      "         3.98107171,   5.01187234,   6.30957344,   7.94328235,\n",
      "        10.        ,  12.58925412,  15.84893192,  19.95262315,\n",
      "        25.11886432,  31.6227766 ,  39.81071706,  50.11872336,\n",
      "        63.09573445,  79.43282347, 100.        ]), 'bounds': array([  0.1, 100. ])}\n"
     ]
    }
   ],
   "source": [
    "loaded_mass_parameter = Parameter.load('mass_param.h5')"
   ]
  },
  {
   "cell_type": "code",
   "execution_count": 12,
   "metadata": {},
   "outputs": [
    {
     "data": {
      "text/plain": [
       "array([  0.1       ,   0.12589254,   0.15848932,   0.19952623,\n",
       "         0.25118864,   0.31622777,   0.39810717,   0.50118723,\n",
       "         0.63095734,   0.79432823,   1.        ,   1.25892541,\n",
       "         1.58489319,   1.99526231,   2.51188643,   3.16227766,\n",
       "         3.98107171,   5.01187234,   6.30957344,   7.94328235,\n",
       "        10.        ,  12.58925412,  15.84893192,  19.95262315,\n",
       "        25.11886432,  31.6227766 ,  39.81071706,  50.11872336,\n",
       "        63.09573445,  79.43282347, 100.        ])"
      ]
     },
     "execution_count": 12,
     "metadata": {},
     "output_type": "execute_result"
    }
   ],
   "source": [
    "loaded_mass_parameter.axis"
   ]
  },
  {
   "cell_type": "code",
   "execution_count": 13,
   "metadata": {},
   "outputs": [
    {
     "data": {
      "text/plain": [
       "0"
      ]
     },
     "execution_count": 13,
     "metadata": {},
     "output_type": "execute_result"
    }
   ],
   "source": [
    "import os\n",
    "\n",
    "os.system(\"rm -rf mass_param.h5\")"
   ]
  },
  {
   "cell_type": "markdown",
   "metadata": {},
   "source": [
    "If in particular you need to save a `Parameter` class instance with a custom transform function, which you can specify via the `custom_parameter_transform` value of the given dictionary or setting the method explicitly like I have done below, you will need to use the `save_to_pickle` and `load_from_pickle` methods, or pickle the class instance yourself.\n",
    "\n",
    "We recommend to save to `h5` format to save space, but you do you."
   ]
  },
  {
   "cell_type": "code",
   "execution_count": 14,
   "metadata": {},
   "outputs": [
    {
     "data": {
      "text/plain": [
       "0"
      ]
     },
     "execution_count": 14,
     "metadata": {},
     "output_type": "execute_result"
    }
   ],
   "source": [
    "def times2(x):\n",
    "    return x*2\n",
    "\n",
    "mass_parameter.transform = times2\n",
    "\n",
    "mass_parameter.save_to_pickle('pickled_mass.pkl')\n",
    "\n",
    "loaded_mass_parameter = Parameter.load_from_pickle('pickled_mass.pkl')\n",
    "\n",
    "os.system(\"rm -rf pickled_mass.pkl\")"
   ]
  },
  {
   "cell_type": "code",
   "execution_count": 15,
   "metadata": {},
   "outputs": [
    {
     "name": "stdout",
     "output_type": "stream",
     "text": [
      "times2\n",
      "2.0\n"
     ]
    }
   ],
   "source": [
    "print(loaded_mass_parameter.transform.__name__)\n",
    "print(loaded_mass_parameter.transform(1.0))\n"
   ]
  },
  {
   "cell_type": "markdown",
   "metadata": {},
   "source": [
    "# `ParameterSet`"
   ]
  },
  {
   "cell_type": "markdown",
   "metadata": {},
   "source": [
    "This class is a little more self-explanatory, it contains a set of the `Parameter` classes."
   ]
  },
  {
   "cell_type": "markdown",
   "metadata": {},
   "source": [
    "The inputs to this class are made to be really flexible to support whatever your use case is. I will give most/all of them below, the `ParameterSet` instances that come from them are all equivalent."
   ]
  },
  {
   "cell_type": "markdown",
   "metadata": {},
   "source": [
    "## Example Inputs"
   ]
  },
  {
   "cell_type": "markdown",
   "metadata": {},
   "source": [
    "### Nested Dictionary Parameter Specifications "
   ]
  },
  {
   "cell_type": "markdown",
   "metadata": {},
   "source": [
    "Use case for this one, despite the disgusting syntax, is the fully specify parameters from a config file with near no effort. This is essentially how the parameters are stored within the configuration files for these tutorials."
   ]
  },
  {
   "cell_type": "code",
   "execution_count": 16,
   "metadata": {},
   "outputs": [],
   "source": [
    "# Why do I condone this behaviour...\n",
    "\n",
    "nested_input_dict = {\n",
    "        'Z2 dark matter':{\n",
    "            'spectral_parameters':{\n",
    "                'mass':{\n",
    "                    'discrete': True,\n",
    "                    'scaling': 'log10',\n",
    "                    # event_dynamic means the range of values \n",
    "                        # tested around the default value becomes\n",
    "                        # smaller i.e. effective bounds become closer\n",
    "                        # to the default\n",
    "                    'bounds': 'event_dynamic', \n",
    "                    'absolute_bounds': [1e-1, 1e2],\n",
    "                    'num_events': 1e2,\n",
    "                    'dynamic_multiplier': 3,\n",
    "                    'default_value': 1.0,\n",
    "                    'bins': 31},},\n",
    "            'spatial_parameters':{\n",
    "                'alpha':{\n",
    "                    'discrete': True,\n",
    "                    'scaling': 'log10',\n",
    "                    'bounds': 'event_dynamic',\n",
    "                    'num_events': 1e2,\n",
    "                    'dynamic_multiplier': 3,\n",
    "                    'absolute_bounds': [1e-2, 1e1],\n",
    "                    'bins': 31,\n",
    "                    'default_value': 0.17},},\n",
    "                    }\n",
    "    }\n"
   ]
  },
  {
   "cell_type": "code",
   "execution_count": 17,
   "metadata": {},
   "outputs": [
    {
     "data": {
      "text/plain": [
       "['mass', 'alpha']"
      ]
     },
     "execution_count": 17,
     "metadata": {},
     "output_type": "execute_result"
    }
   ],
   "source": [
    "from gammabayes import ParameterSet\n",
    "\n",
    "nested_input_dict_parameter_set = ParameterSet(nested_input_dict)\n",
    "list(nested_input_dict_parameter_set.keys())"
   ]
  },
  {
   "cell_type": "markdown",
   "metadata": {},
   "source": [
    "### List of dictionary specifications"
   ]
  },
  {
   "cell_type": "markdown",
   "metadata": {},
   "source": [
    "This is a more syntax friendly way you can store the parameters within the config file, however it required you to re-specify many parameters like the parameter_type and the `prior_id`."
   ]
  },
  {
   "cell_type": "code",
   "execution_count": 18,
   "metadata": {},
   "outputs": [],
   "source": [
    "list_of_dict_input = [{\n",
    "        'discrete': True,\n",
    "        'scaling': 'log10',\n",
    "        'bounds': 'event_dynamic',\n",
    "        'absolute_bounds': [1e-1, 1e2],\n",
    "        'num_events': 1e2,\n",
    "        'dynamic_multiplier': 3,\n",
    "        'default_value': 1.0,\n",
    "        'name':'mass',\n",
    "        'parameter_type':'spectral',\n",
    "        'bins': 31},\n",
    "\n",
    "        \n",
    "        {'name':'alpha',\n",
    "        'parameter_type':'spatial',\n",
    "        'discrete': True,\n",
    "        'scaling': 'log10',\n",
    "        'bounds': 'event_dynamic',\n",
    "        'num_events': 1e2,\n",
    "        'dynamic_multiplier': 3,\n",
    "        'absolute_bounds': [1e-2, 1e1],\n",
    "        'bins': 31,\n",
    "        'default_value': 0.17},\n",
    "        ]\n",
    "    "
   ]
  },
  {
   "cell_type": "code",
   "execution_count": 19,
   "metadata": {},
   "outputs": [
    {
     "data": {
      "text/plain": [
       "[array([0.50118723, 0.52480746, 0.54954087, 0.57543994, 0.60255959,\n",
       "        0.63095734, 0.66069345, 0.69183097, 0.72443596, 0.75857758,\n",
       "        0.79432823, 0.83176377, 0.87096359, 0.91201084, 0.95499259,\n",
       "        1.        , 1.04712855, 1.0964782 , 1.14815362, 1.20226443,\n",
       "        1.25892541, 1.31825674, 1.38038426, 1.44543977, 1.51356125,\n",
       "        1.58489319, 1.65958691, 1.73780083, 1.81970086, 1.90546072,\n",
       "        1.99526231]),\n",
       " array([0.08520183, 0.08921727, 0.09342195, 0.09782479, 0.10243513,\n",
       "        0.10726275, 0.11231789, 0.11761127, 0.12315411, 0.12895819,\n",
       "        0.1350358 , 0.14139984, 0.14806381, 0.15504184, 0.16234874,\n",
       "        0.17      , 0.17801185, 0.18640129, 0.19518612, 0.20438495,\n",
       "        0.21401732, 0.22410365, 0.23466532, 0.24572476, 0.25730541,\n",
       "        0.26943184, 0.28212977, 0.29542614, 0.30934915, 0.32392832,\n",
       "        0.33919459])]"
      ]
     },
     "execution_count": 19,
     "metadata": {},
     "output_type": "execute_result"
    }
   ],
   "source": [
    "list_of_dict_input_parameter_set = ParameterSet(list_of_dict_input)\n",
    "list_of_dict_input_parameter_set.axes"
   ]
  },
  {
   "cell_type": "markdown",
   "metadata": {},
   "source": [
    "### List of `Parameter` class instances"
   ]
  },
  {
   "cell_type": "code",
   "execution_count": 20,
   "metadata": {},
   "outputs": [],
   "source": [
    "list_of_Parameters_input = [Parameter({\n",
    "        'discrete': True,\n",
    "        'scaling': 'log10',\n",
    "        'bounds': 'event_dynamic',\n",
    "        'absolute_bounds': [1e-1, 1e2],\n",
    "        'num_events': 1e2,\n",
    "        'dynamic_multiplier': 3,\n",
    "        'default_value': 1.0,\n",
    "        'name':'mass',\n",
    "        'parameter_type':'spectral',\n",
    "        'bins': 31}),\n",
    "\n",
    "        \n",
    "        Parameter({'name':'alpha',\n",
    "        'parameter_type':'spatial',\n",
    "        'discrete': True,\n",
    "        'scaling': 'log10',\n",
    "        'bounds': 'event_dynamic',\n",
    "        'num_events': 1e2,\n",
    "        'dynamic_multiplier': 3,\n",
    "        'absolute_bounds': [1e-2, 1e1],\n",
    "        'bins': 31,\n",
    "        'default_value': 0.17}),\n",
    "        ]"
   ]
  },
  {
   "cell_type": "code",
   "execution_count": 21,
   "metadata": {},
   "outputs": [
    {
     "name": "stdout",
     "output_type": "stream",
     "text": [
      "[[0.5011872336272722, 1.9952623149688795], [0.08520182971663631, 0.3391945935447096]]\n",
      "dict_keys(['mass', 'alpha'])\n"
     ]
    }
   ],
   "source": [
    "list_of_Parameters_input_parameter_set = ParameterSet(list_of_Parameters_input)\n",
    "print(list_of_Parameters_input_parameter_set.bounds)\n",
    "print(list_of_Parameters_input_parameter_set.keys())"
   ]
  },
  {
   "cell_type": "markdown",
   "metadata": {},
   "source": [
    "### Dict of Parameters"
   ]
  },
  {
   "cell_type": "code",
   "execution_count": 22,
   "metadata": {},
   "outputs": [],
   "source": [
    "dict_of_Parameters_input = {\n",
    "        'mass': Parameter({'discrete': True,\n",
    "                    'scaling': 'log10',\n",
    "                    'bounds': 'event_dynamic',\n",
    "                    'absolute_bounds': [1e-1, 1e2],\n",
    "                    'num_events': 1e2,\n",
    "                    'dynamic_multiplier': 3,\n",
    "                    'default_value': 1.0,\n",
    "                    'bins': 31}),\n",
    "        'alpha': Parameter({\n",
    "                    'discrete': True,\n",
    "                    'scaling': 'log10',\n",
    "                    'bounds': 'event_dynamic', \n",
    "                    'num_events': 1e2,\n",
    "                    'dynamic_multiplier': 3,\n",
    "                    'absolute_bounds': [1e-2, 1e1],\n",
    "                    'bins': 31,\n",
    "                    'default_value': 0.17},)\n",
    "                    \n",
    "    }"
   ]
  },
  {
   "cell_type": "code",
   "execution_count": 23,
   "metadata": {},
   "outputs": [
    {
     "name": "stdout",
     "output_type": "stream",
     "text": [
      "[[0.5011872336272722, 1.9952623149688795], [0.08520182971663631, 0.3391945935447096]]\n",
      "dict_keys(['mass', 'alpha'])\n"
     ]
    }
   ],
   "source": [
    "dict_of_Parameters_input_parameter_set = ParameterSet(dict_of_Parameters_input)\n",
    "print(dict_of_Parameters_input_parameter_set.bounds)\n",
    "print(dict_of_Parameters_input_parameter_set.keys())"
   ]
  },
  {
   "cell_type": "markdown",
   "metadata": {},
   "source": [
    "## Methods/Attributes"
   ]
  },
  {
   "cell_type": "markdown",
   "metadata": {},
   "source": [
    "### `dict_of_parameters_by_name` and `axes_by_type`"
   ]
  },
  {
   "cell_type": "markdown",
   "metadata": {},
   "source": [
    "The analysis classes within this package take two different roots, either a 'scan' or 'sample'. \n",
    "\n",
    "Each of these require different information about the parameters.  \n",
    "\n",
    "The 'scan' requiring the inputs to be in the format similar to that of the nested dictionaries above. \n",
    "\n",
    "The 'sample' needs the parameter information simply by the name of the parameter. \n",
    "\n",
    "To help with this, the `ParameterSet` class has properties/attributes that output these required formats."
   ]
  },
  {
   "cell_type": "markdown",
   "metadata": {},
   "source": [
    "#### Scan format"
   ]
  },
  {
   "cell_type": "code",
   "execution_count": 24,
   "metadata": {},
   "outputs": [
    {
     "data": {
      "text/plain": [
       "{'spectral_parameters': {'mass': array([0.50118723, 0.52480746, 0.54954087, 0.57543994, 0.60255959,\n",
       "         0.63095734, 0.66069345, 0.69183097, 0.72443596, 0.75857758,\n",
       "         0.79432823, 0.83176377, 0.87096359, 0.91201084, 0.95499259,\n",
       "         1.        , 1.04712855, 1.0964782 , 1.14815362, 1.20226443,\n",
       "         1.25892541, 1.31825674, 1.38038426, 1.44543977, 1.51356125,\n",
       "         1.58489319, 1.65958691, 1.73780083, 1.81970086, 1.90546072,\n",
       "         1.99526231])},\n",
       " 'spatial_parameters': {'alpha': array([0.08520183, 0.08921727, 0.09342195, 0.09782479, 0.10243513,\n",
       "         0.10726275, 0.11231789, 0.11761127, 0.12315411, 0.12895819,\n",
       "         0.1350358 , 0.14139984, 0.14806381, 0.15504184, 0.16234874,\n",
       "         0.17      , 0.17801185, 0.18640129, 0.19518612, 0.20438495,\n",
       "         0.21401732, 0.22410365, 0.23466532, 0.24572476, 0.25730541,\n",
       "         0.26943184, 0.28212977, 0.29542614, 0.30934915, 0.32392832,\n",
       "         0.33919459])}}"
      ]
     },
     "execution_count": 24,
     "metadata": {},
     "output_type": "execute_result"
    }
   ],
   "source": [
    "nested_input_dict_parameter_set.axes_by_type"
   ]
  },
  {
   "cell_type": "markdown",
   "metadata": {},
   "source": [
    "Or you can for straightforwardly call"
   ]
  },
  {
   "cell_type": "code",
   "execution_count": 25,
   "metadata": {},
   "outputs": [
    {
     "data": {
      "text/plain": [
       "{'spectral_parameters': {'mass': array([0.50118723, 0.52480746, 0.54954087, 0.57543994, 0.60255959,\n",
       "         0.63095734, 0.66069345, 0.69183097, 0.72443596, 0.75857758,\n",
       "         0.79432823, 0.83176377, 0.87096359, 0.91201084, 0.95499259,\n",
       "         1.        , 1.04712855, 1.0964782 , 1.14815362, 1.20226443,\n",
       "         1.25892541, 1.31825674, 1.38038426, 1.44543977, 1.51356125,\n",
       "         1.58489319, 1.65958691, 1.73780083, 1.81970086, 1.90546072,\n",
       "         1.99526231])},\n",
       " 'spatial_parameters': {'alpha': array([0.08520183, 0.08921727, 0.09342195, 0.09782479, 0.10243513,\n",
       "         0.10726275, 0.11231789, 0.11761127, 0.12315411, 0.12895819,\n",
       "         0.1350358 , 0.14139984, 0.14806381, 0.15504184, 0.16234874,\n",
       "         0.17      , 0.17801185, 0.18640129, 0.19518612, 0.20438495,\n",
       "         0.21401732, 0.22410365, 0.23466532, 0.24572476, 0.25730541,\n",
       "         0.26943184, 0.28212977, 0.29542614, 0.30934915, 0.32392832,\n",
       "         0.33919459])}}"
      ]
     },
     "execution_count": 25,
     "metadata": {},
     "output_type": "execute_result"
    }
   ],
   "source": [
    "nested_input_dict_parameter_set.scan_format"
   ]
  },
  {
   "cell_type": "markdown",
   "metadata": {},
   "source": [
    "### sampling format"
   ]
  },
  {
   "cell_type": "code",
   "execution_count": 26,
   "metadata": {},
   "outputs": [
    {
     "data": {
      "text/plain": [
       "{'mass': {'discrete': True,\n",
       "  'scaling': 'log10',\n",
       "  'bounds': [0.5011872336272722, 1.9952623149688795],\n",
       "  'absolute_bounds': [0.1, 100.0],\n",
       "  'num_events': 100.0,\n",
       "  'dynamic_multiplier': 3.0,\n",
       "  'default_value': 1.0,\n",
       "  'bins': 31,\n",
       "  'prob_model': <scipy.stats._distn_infrastructure.rv_continuous_frozen at 0x11175b410>,\n",
       "  'axis': array([0.50118723, 0.52480746, 0.54954087, 0.57543994, 0.60255959,\n",
       "         0.63095734, 0.66069345, 0.69183097, 0.72443596, 0.75857758,\n",
       "         0.79432823, 0.83176377, 0.87096359, 0.91201084, 0.95499259,\n",
       "         1.        , 1.04712855, 1.0964782 , 1.14815362, 1.20226443,\n",
       "         1.25892541, 1.31825674, 1.38038426, 1.44543977, 1.51356125,\n",
       "         1.58489319, 1.65958691, 1.73780083, 1.81970086, 1.90546072,\n",
       "         1.99526231]),\n",
       "  'transform_scale': 31,\n",
       "  'transform': <bound method Parameter.discrete_parameter_transform of {'discrete': True, 'scaling': 'log10', 'bounds': [0.5011872336272722, 1.9952623149688795], 'absolute_bounds': [0.1, 100.0], 'num_events': 100.0, 'dynamic_multiplier': 3.0, 'default_value': 1.0, 'bins': 31, 'prob_model': <scipy.stats._distn_infrastructure.rv_continuous_frozen object at 0x11175b410>, 'axis': array([0.50118723, 0.52480746, 0.54954087, 0.57543994, 0.60255959,\n",
       "         0.63095734, 0.66069345, 0.69183097, 0.72443596, 0.75857758,\n",
       "         0.79432823, 0.83176377, 0.87096359, 0.91201084, 0.95499259,\n",
       "         1.        , 1.04712855, 1.0964782 , 1.14815362, 1.20226443,\n",
       "         1.25892541, 1.31825674, 1.38038426, 1.44543977, 1.51356125,\n",
       "         1.58489319, 1.65958691, 1.73780083, 1.81970086, 1.90546072,\n",
       "         1.99526231]), 'transform_scale': 31, 'transform': <bound method Parameter.discrete_parameter_transform of {...}>, 'prior_id': 'Z2 dark matter', 'likelihood_id': nan, 'parameter_type': 'spectral_parameters', 'name': 'mass'}>,\n",
       "  'prior_id': 'Z2 dark matter',\n",
       "  'likelihood_id': nan,\n",
       "  'parameter_type': 'spectral_parameters',\n",
       "  'name': 'mass'},\n",
       " 'alpha': {'discrete': True,\n",
       "  'scaling': 'log10',\n",
       "  'bounds': [0.08520182971663631, 0.3391945935447096],\n",
       "  'num_events': 100.0,\n",
       "  'dynamic_multiplier': 3.0,\n",
       "  'absolute_bounds': [0.01, 10.0],\n",
       "  'bins': 31,\n",
       "  'default_value': 0.17,\n",
       "  'prob_model': <scipy.stats._distn_infrastructure.rv_continuous_frozen at 0x199247230>,\n",
       "  'axis': array([0.08520183, 0.08921727, 0.09342195, 0.09782479, 0.10243513,\n",
       "         0.10726275, 0.11231789, 0.11761127, 0.12315411, 0.12895819,\n",
       "         0.1350358 , 0.14139984, 0.14806381, 0.15504184, 0.16234874,\n",
       "         0.17      , 0.17801185, 0.18640129, 0.19518612, 0.20438495,\n",
       "         0.21401732, 0.22410365, 0.23466532, 0.24572476, 0.25730541,\n",
       "         0.26943184, 0.28212977, 0.29542614, 0.30934915, 0.32392832,\n",
       "         0.33919459]),\n",
       "  'transform_scale': 31,\n",
       "  'transform': <bound method Parameter.discrete_parameter_transform of {'discrete': True, 'scaling': 'log10', 'bounds': [0.08520182971663631, 0.3391945935447096], 'num_events': 100.0, 'dynamic_multiplier': 3.0, 'absolute_bounds': [0.01, 10.0], 'bins': 31, 'default_value': 0.17, 'prob_model': <scipy.stats._distn_infrastructure.rv_continuous_frozen object at 0x199247230>, 'axis': array([0.08520183, 0.08921727, 0.09342195, 0.09782479, 0.10243513,\n",
       "         0.10726275, 0.11231789, 0.11761127, 0.12315411, 0.12895819,\n",
       "         0.1350358 , 0.14139984, 0.14806381, 0.15504184, 0.16234874,\n",
       "         0.17      , 0.17801185, 0.18640129, 0.19518612, 0.20438495,\n",
       "         0.21401732, 0.22410365, 0.23466532, 0.24572476, 0.25730541,\n",
       "         0.26943184, 0.28212977, 0.29542614, 0.30934915, 0.32392832,\n",
       "         0.33919459]), 'transform_scale': 31, 'transform': <bound method Parameter.discrete_parameter_transform of {...}>, 'prior_id': 'Z2 dark matter', 'likelihood_id': nan, 'parameter_type': 'spatial_parameters', 'name': 'alpha'}>,\n",
       "  'prior_id': 'Z2 dark matter',\n",
       "  'likelihood_id': nan,\n",
       "  'parameter_type': 'spatial_parameters',\n",
       "  'name': 'alpha'}}"
      ]
     },
     "execution_count": 26,
     "metadata": {},
     "output_type": "execute_result"
    }
   ],
   "source": [
    "nested_input_dict_parameter_set.dict_of_parameters_by_name"
   ]
  },
  {
   "cell_type": "markdown",
   "metadata": {},
   "source": [
    "Or more straightforwardly"
   ]
  },
  {
   "cell_type": "code",
   "execution_count": 27,
   "metadata": {},
   "outputs": [
    {
     "data": {
      "text/plain": [
       "{'mass': {'discrete': True,\n",
       "  'scaling': 'log10',\n",
       "  'bounds': [0.5011872336272722, 1.9952623149688795],\n",
       "  'absolute_bounds': [0.1, 100.0],\n",
       "  'num_events': 100.0,\n",
       "  'dynamic_multiplier': 3.0,\n",
       "  'default_value': 1.0,\n",
       "  'bins': 31,\n",
       "  'prob_model': <scipy.stats._distn_infrastructure.rv_continuous_frozen at 0x11175b410>,\n",
       "  'axis': array([0.50118723, 0.52480746, 0.54954087, 0.57543994, 0.60255959,\n",
       "         0.63095734, 0.66069345, 0.69183097, 0.72443596, 0.75857758,\n",
       "         0.79432823, 0.83176377, 0.87096359, 0.91201084, 0.95499259,\n",
       "         1.        , 1.04712855, 1.0964782 , 1.14815362, 1.20226443,\n",
       "         1.25892541, 1.31825674, 1.38038426, 1.44543977, 1.51356125,\n",
       "         1.58489319, 1.65958691, 1.73780083, 1.81970086, 1.90546072,\n",
       "         1.99526231]),\n",
       "  'transform_scale': 31,\n",
       "  'transform': <bound method Parameter.discrete_parameter_transform of {'discrete': True, 'scaling': 'log10', 'bounds': [0.5011872336272722, 1.9952623149688795], 'absolute_bounds': [0.1, 100.0], 'num_events': 100.0, 'dynamic_multiplier': 3.0, 'default_value': 1.0, 'bins': 31, 'prob_model': <scipy.stats._distn_infrastructure.rv_continuous_frozen object at 0x11175b410>, 'axis': array([0.50118723, 0.52480746, 0.54954087, 0.57543994, 0.60255959,\n",
       "         0.63095734, 0.66069345, 0.69183097, 0.72443596, 0.75857758,\n",
       "         0.79432823, 0.83176377, 0.87096359, 0.91201084, 0.95499259,\n",
       "         1.        , 1.04712855, 1.0964782 , 1.14815362, 1.20226443,\n",
       "         1.25892541, 1.31825674, 1.38038426, 1.44543977, 1.51356125,\n",
       "         1.58489319, 1.65958691, 1.73780083, 1.81970086, 1.90546072,\n",
       "         1.99526231]), 'transform_scale': 31, 'transform': <bound method Parameter.discrete_parameter_transform of {...}>, 'prior_id': 'Z2 dark matter', 'likelihood_id': nan, 'parameter_type': 'spectral_parameters', 'name': 'mass'}>,\n",
       "  'prior_id': 'Z2 dark matter',\n",
       "  'likelihood_id': nan,\n",
       "  'parameter_type': 'spectral_parameters',\n",
       "  'name': 'mass'},\n",
       " 'alpha': {'discrete': True,\n",
       "  'scaling': 'log10',\n",
       "  'bounds': [0.08520182971663631, 0.3391945935447096],\n",
       "  'num_events': 100.0,\n",
       "  'dynamic_multiplier': 3.0,\n",
       "  'absolute_bounds': [0.01, 10.0],\n",
       "  'bins': 31,\n",
       "  'default_value': 0.17,\n",
       "  'prob_model': <scipy.stats._distn_infrastructure.rv_continuous_frozen at 0x199247230>,\n",
       "  'axis': array([0.08520183, 0.08921727, 0.09342195, 0.09782479, 0.10243513,\n",
       "         0.10726275, 0.11231789, 0.11761127, 0.12315411, 0.12895819,\n",
       "         0.1350358 , 0.14139984, 0.14806381, 0.15504184, 0.16234874,\n",
       "         0.17      , 0.17801185, 0.18640129, 0.19518612, 0.20438495,\n",
       "         0.21401732, 0.22410365, 0.23466532, 0.24572476, 0.25730541,\n",
       "         0.26943184, 0.28212977, 0.29542614, 0.30934915, 0.32392832,\n",
       "         0.33919459]),\n",
       "  'transform_scale': 31,\n",
       "  'transform': <bound method Parameter.discrete_parameter_transform of {'discrete': True, 'scaling': 'log10', 'bounds': [0.08520182971663631, 0.3391945935447096], 'num_events': 100.0, 'dynamic_multiplier': 3.0, 'absolute_bounds': [0.01, 10.0], 'bins': 31, 'default_value': 0.17, 'prob_model': <scipy.stats._distn_infrastructure.rv_continuous_frozen object at 0x199247230>, 'axis': array([0.08520183, 0.08921727, 0.09342195, 0.09782479, 0.10243513,\n",
       "         0.10726275, 0.11231789, 0.11761127, 0.12315411, 0.12895819,\n",
       "         0.1350358 , 0.14139984, 0.14806381, 0.15504184, 0.16234874,\n",
       "         0.17      , 0.17801185, 0.18640129, 0.19518612, 0.20438495,\n",
       "         0.21401732, 0.22410365, 0.23466532, 0.24572476, 0.25730541,\n",
       "         0.26943184, 0.28212977, 0.29542614, 0.30934915, 0.32392832,\n",
       "         0.33919459]), 'transform_scale': 31, 'transform': <bound method Parameter.discrete_parameter_transform of {...}>, 'prior_id': 'Z2 dark matter', 'likelihood_id': nan, 'parameter_type': 'spatial_parameters', 'name': 'alpha'}>,\n",
       "  'prior_id': 'Z2 dark matter',\n",
       "  'likelihood_id': nan,\n",
       "  'parameter_type': 'spatial_parameters',\n",
       "  'name': 'alpha'}}"
      ]
     },
     "execution_count": 27,
     "metadata": {},
     "output_type": "execute_result"
    }
   ],
   "source": [
    "nested_input_dict_parameter_set.sampling_format"
   ]
  },
  {
   "cell_type": "markdown",
   "metadata": {},
   "source": [
    "The general behaviour of the class as a python object generally mimic that of the `dict_of_parameters_by_name`/`sampling_format` (equivalent) attribute, but more on that later."
   ]
  },
  {
   "cell_type": "markdown",
   "metadata": {},
   "source": [
    "### `append`"
   ]
  },
  {
   "cell_type": "markdown",
   "metadata": {},
   "source": [
    "Pretty self-explanatory, if you need to add a parameter after instantiation, you can append other parameters with this method."
   ]
  },
  {
   "cell_type": "code",
   "execution_count": 28,
   "metadata": {},
   "outputs": [],
   "source": [
    "dict_of_Parameters_input_parameter_set.append(Parameter({\n",
    "    'name':'lahS',\n",
    "    'discrete':True,\n",
    "    'bounds':[1e-3,1e1],\n",
    "    'bins':41,\n",
    "    'parameter_type':'spectral',\n",
    "    'default_value':0.1,\n",
    "}))"
   ]
  },
  {
   "cell_type": "code",
   "execution_count": 29,
   "metadata": {},
   "outputs": [
    {
     "data": {
      "text/plain": [
       "dict_keys(['mass', 'alpha', 'lahS'])"
      ]
     },
     "execution_count": 29,
     "metadata": {},
     "output_type": "execute_result"
    }
   ],
   "source": [
    "dict_of_Parameters_input_parameter_set.keys()"
   ]
  },
  {
   "cell_type": "markdown",
   "metadata": {},
   "source": [
    "### `items`, `keys`, `values`"
   ]
  },
  {
   "cell_type": "markdown",
   "metadata": {},
   "source": [
    "As previously stated, the general behaviours of the `ParameterSet` class mimic that of the dictionary output of the `dict_of_parameters_by_name` attribute. So when calling the above in the title of this section, you just call them on this dictionary."
   ]
  },
  {
   "cell_type": "code",
   "execution_count": 30,
   "metadata": {},
   "outputs": [
    {
     "data": {
      "text/plain": [
       "dict_keys(['mass', 'alpha', 'lahS'])"
      ]
     },
     "execution_count": 30,
     "metadata": {},
     "output_type": "execute_result"
    }
   ],
   "source": [
    "dict_of_Parameters_input_parameter_set.keys() # keys=names"
   ]
  },
  {
   "cell_type": "code",
   "execution_count": 31,
   "metadata": {},
   "outputs": [
    {
     "name": "stdout",
     "output_type": "stream",
     "text": [
      "{'discrete': True, 'scaling': 'log10', 'bounds': [0.5011872336272722, 1.9952623149688795], 'absolute_bounds': [0.1, 100.0], 'num_events': 100.0, 'dynamic_multiplier': 3.0, 'default_value': 1.0, 'bins': 31, 'prob_model': <scipy.stats._distn_infrastructure.rv_continuous_frozen object at 0x199284740>, 'axis': array([0.50118723, 0.52480746, 0.54954087, 0.57543994, 0.60255959,\n",
      "       0.63095734, 0.66069345, 0.69183097, 0.72443596, 0.75857758,\n",
      "       0.79432823, 0.83176377, 0.87096359, 0.91201084, 0.95499259,\n",
      "       1.        , 1.04712855, 1.0964782 , 1.14815362, 1.20226443,\n",
      "       1.25892541, 1.31825674, 1.38038426, 1.44543977, 1.51356125,\n",
      "       1.58489319, 1.65958691, 1.73780083, 1.81970086, 1.90546072,\n",
      "       1.99526231]), 'transform_scale': 31, 'transform': <bound method Parameter.discrete_parameter_transform of {...}>, 'prior_id': nan, 'likelihood_id': nan, 'parameter_type': 'None', 'name': 'mass'}\n",
      "{'discrete': True, 'scaling': 'log10', 'bounds': [0.08520182971663631, 0.3391945935447096], 'num_events': 100.0, 'dynamic_multiplier': 3.0, 'absolute_bounds': [0.01, 10.0], 'bins': 31, 'default_value': 0.17, 'prob_model': <scipy.stats._distn_infrastructure.rv_continuous_frozen object at 0x199285040>, 'axis': array([0.08520183, 0.08921727, 0.09342195, 0.09782479, 0.10243513,\n",
      "       0.10726275, 0.11231789, 0.11761127, 0.12315411, 0.12895819,\n",
      "       0.1350358 , 0.14139984, 0.14806381, 0.15504184, 0.16234874,\n",
      "       0.17      , 0.17801185, 0.18640129, 0.19518612, 0.20438495,\n",
      "       0.21401732, 0.22410365, 0.23466532, 0.24572476, 0.25730541,\n",
      "       0.26943184, 0.28212977, 0.29542614, 0.30934915, 0.32392832,\n",
      "       0.33919459]), 'transform_scale': 31, 'transform': <bound method Parameter.discrete_parameter_transform of {...}>, 'prior_id': nan, 'likelihood_id': nan, 'parameter_type': 'None', 'name': 'alpha'}\n",
      "{'name': 'lahS', 'discrete': True, 'bounds': [0.001, 10.0], 'bins': 41, 'parameter_type': 'spectral', 'default_value': 0.1, 'scaling': 'linear', 'prob_model': <scipy.stats._distn_infrastructure.rv_continuous_frozen object at 0x1992864b0>, 'axis': array([1.000000e-03, 2.509750e-01, 5.009500e-01, 7.509250e-01,\n",
      "       1.000900e+00, 1.250875e+00, 1.500850e+00, 1.750825e+00,\n",
      "       2.000800e+00, 2.250775e+00, 2.500750e+00, 2.750725e+00,\n",
      "       3.000700e+00, 3.250675e+00, 3.500650e+00, 3.750625e+00,\n",
      "       4.000600e+00, 4.250575e+00, 4.500550e+00, 4.750525e+00,\n",
      "       5.000500e+00, 5.250475e+00, 5.500450e+00, 5.750425e+00,\n",
      "       6.000400e+00, 6.250375e+00, 6.500350e+00, 6.750325e+00,\n",
      "       7.000300e+00, 7.250275e+00, 7.500250e+00, 7.750225e+00,\n",
      "       8.000200e+00, 8.250175e+00, 8.500150e+00, 8.750125e+00,\n",
      "       9.000100e+00, 9.250075e+00, 9.500050e+00, 9.750025e+00,\n",
      "       1.000000e+01]), 'transform_scale': 41, 'transform': <bound method Parameter.discrete_parameter_transform of {...}>, 'prior_id': nan, 'likelihood_id': nan}\n"
     ]
    }
   ],
   "source": [
    "for param in dict_of_Parameters_input_parameter_set.values():\n",
    "    print(param)\n"
   ]
  },
  {
   "cell_type": "markdown",
   "metadata": {},
   "source": [
    "### `axes`"
   ]
  },
  {
   "cell_type": "markdown",
   "metadata": {},
   "source": [
    "If all the parameters within the set are discrete you can also call this attribute which will return all the discrete value axes for the parameters."
   ]
  },
  {
   "cell_type": "code",
   "execution_count": 32,
   "metadata": {},
   "outputs": [
    {
     "data": {
      "text/plain": [
       "[array([0.50118723, 0.52480746, 0.54954087, 0.57543994, 0.60255959,\n",
       "        0.63095734, 0.66069345, 0.69183097, 0.72443596, 0.75857758,\n",
       "        0.79432823, 0.83176377, 0.87096359, 0.91201084, 0.95499259,\n",
       "        1.        , 1.04712855, 1.0964782 , 1.14815362, 1.20226443,\n",
       "        1.25892541, 1.31825674, 1.38038426, 1.44543977, 1.51356125,\n",
       "        1.58489319, 1.65958691, 1.73780083, 1.81970086, 1.90546072,\n",
       "        1.99526231]),\n",
       " array([0.08520183, 0.08921727, 0.09342195, 0.09782479, 0.10243513,\n",
       "        0.10726275, 0.11231789, 0.11761127, 0.12315411, 0.12895819,\n",
       "        0.1350358 , 0.14139984, 0.14806381, 0.15504184, 0.16234874,\n",
       "        0.17      , 0.17801185, 0.18640129, 0.19518612, 0.20438495,\n",
       "        0.21401732, 0.22410365, 0.23466532, 0.24572476, 0.25730541,\n",
       "        0.26943184, 0.28212977, 0.29542614, 0.30934915, 0.32392832,\n",
       "        0.33919459]),\n",
       " array([1.000000e-03, 2.509750e-01, 5.009500e-01, 7.509250e-01,\n",
       "        1.000900e+00, 1.250875e+00, 1.500850e+00, 1.750825e+00,\n",
       "        2.000800e+00, 2.250775e+00, 2.500750e+00, 2.750725e+00,\n",
       "        3.000700e+00, 3.250675e+00, 3.500650e+00, 3.750625e+00,\n",
       "        4.000600e+00, 4.250575e+00, 4.500550e+00, 4.750525e+00,\n",
       "        5.000500e+00, 5.250475e+00, 5.500450e+00, 5.750425e+00,\n",
       "        6.000400e+00, 6.250375e+00, 6.500350e+00, 6.750325e+00,\n",
       "        7.000300e+00, 7.250275e+00, 7.500250e+00, 7.750225e+00,\n",
       "        8.000200e+00, 8.250175e+00, 8.500150e+00, 8.750125e+00,\n",
       "        9.000100e+00, 9.250075e+00, 9.500050e+00, 9.750025e+00,\n",
       "        1.000000e+01])]"
      ]
     },
     "execution_count": 32,
     "metadata": {},
     "output_type": "execute_result"
    }
   ],
   "source": [
    "dict_of_Parameters_input_parameter_set.axes"
   ]
  },
  {
   "cell_type": "markdown",
   "metadata": {},
   "source": [
    "### `defaults`"
   ]
  },
  {
   "cell_type": "markdown",
   "metadata": {},
   "source": [
    "Tthis attribute returns all the defaults of the parameters within the set."
   ]
  },
  {
   "cell_type": "code",
   "execution_count": 33,
   "metadata": {},
   "outputs": [
    {
     "data": {
      "text/plain": [
       "[1.0, 0.17, 0.1]"
      ]
     },
     "execution_count": 33,
     "metadata": {},
     "output_type": "execute_result"
    }
   ],
   "source": [
    "dict_of_Parameters_input_parameter_set.defaults"
   ]
  },
  {
   "cell_type": "markdown",
   "metadata": {},
   "source": [
    "### `save` and `load`"
   ]
  },
  {
   "cell_type": "markdown",
   "metadata": {},
   "source": [
    "Just as it should be for every class defined within this package, there are defined save and load methods for `ParameterSet` into a `.h5` file."
   ]
  },
  {
   "cell_type": "code",
   "execution_count": 34,
   "metadata": {},
   "outputs": [
    {
     "data": {
      "text/plain": [
       "0"
      ]
     },
     "execution_count": 34,
     "metadata": {},
     "output_type": "execute_result"
    }
   ],
   "source": [
    "dict_of_Parameters_input_parameter_set.save('ex_parameter_set.h5')\n",
    "loaded_dict_of_Parameters_input_parameter_set = ParameterSet.load(file_name='ex_parameter_set.h5')\n",
    "os.system('rm -rf ex_parameter_set.h5')"
   ]
  },
  {
   "cell_type": "code",
   "execution_count": 35,
   "metadata": {},
   "outputs": [
    {
     "data": {
      "text/plain": [
       "dict_keys(['mass', 'alpha', 'lahS'])"
      ]
     },
     "execution_count": 35,
     "metadata": {},
     "output_type": "execute_result"
    }
   ],
   "source": [
    "loaded_dict_of_Parameters_input_parameter_set.keys()"
   ]
  },
  {
   "cell_type": "markdown",
   "metadata": {},
   "source": [
    "And again, if you have custom functions saved, then there exists equivalent pickle methods."
   ]
  },
  {
   "cell_type": "code",
   "execution_count": 36,
   "metadata": {},
   "outputs": [
    {
     "data": {
      "text/plain": [
       "0"
      ]
     },
     "execution_count": 36,
     "metadata": {},
     "output_type": "execute_result"
    }
   ],
   "source": [
    "dict_of_Parameters_input_parameter_set.save_to_pickle('ex_parameter_set.pkl')\n",
    "pickle_loaded_dict_of_Parameters_input_parameter_set = ParameterSet.load_from_pickle(file_name='ex_parameter_set.pkl')\n",
    "os.system('rm -rf ex_parameter_set.pkl')"
   ]
  },
  {
   "cell_type": "code",
   "execution_count": 37,
   "metadata": {},
   "outputs": [
    {
     "data": {
      "text/plain": [
       "dict_keys(['mass', 'alpha', 'lahS'])"
      ]
     },
     "execution_count": 37,
     "metadata": {},
     "output_type": "execute_result"
    }
   ],
   "source": [
    "pickle_loaded_dict_of_Parameters_input_parameter_set.keys()"
   ]
  }
 ],
 "metadata": {
  "kernelspec": {
   "display_name": "testofwest",
   "language": "python",
   "name": "python3"
  },
  "language_info": {
   "codemirror_mode": {
    "name": "ipython",
    "version": 3
   },
   "file_extension": ".py",
   "mimetype": "text/x-python",
   "name": "python",
   "nbconvert_exporter": "python",
   "pygments_lexer": "ipython3",
   "version": "3.12.0"
  }
 },
 "nbformat": 4,
 "nbformat_minor": 2
}
