{
 "cells": [
  {
   "cell_type": "markdown",
   "metadata": {},
   "source": [
    "# GammaBayes Data Classes"
   ]
  },
  {
   "cell_type": "markdown",
   "metadata": {},
   "source": [
    "One of the more fundamental things within `GammaBayes` is the use of three data classes: `EventData`, `Parameter`, and `ParameterSet`. Here we will go over `Parameter` and `ParameterSet`."
   ]
  },
  {
   "cell_type": "markdown",
   "metadata": {},
   "source": [
    "# `Parameter`"
   ]
  },
  {
   "cell_type": "markdown",
   "metadata": {},
   "source": [
    "The `Parameter` class is a nice wrapper (sensing a theme?) for important values involved when performing analysis on a parameter. This class provides less help in the way of keyword arguments as it is meant to act more like a dictionary of common keys than a class almost. Two example inputs are below."
   ]
  },
  {
   "cell_type": "code",
   "execution_count": 1,
   "metadata": {},
   "outputs": [],
   "source": [
    "import numpy as np\n",
    "\n",
    "example_discrete_parameter_dict = {\n",
    "    'discrete': True,\n",
    "    'name': 'mass',\n",
    "    'parameter_type': 'spectral',\n",
    "    'scaling': 'log10',\n",
    "    'bounds': [1e-1, 1e2],\n",
    "    'default_value': 1.0,\n",
    "    'bins': 31,\n",
    "}\n",
    "\n",
    "example_continuous_parameter_dict = {\n",
    "    'discrete': False,\n",
    "    'name': 'sig|total',\n",
    "    'scaling': 'linear',\n",
    "    'bounds': [0,1],\n",
    "}"
   ]
  },
  {
   "cell_type": "markdown",
   "metadata": {},
   "source": [
    "So when we have two types of parameters continuous and discrete. \n",
    "\n",
    "When we analyse discrete parameters we need to have the range of values that the parameter can take. In the case of the mass parameter, based on the information provided, we would construct an axis of values like so."
   ]
  },
  {
   "cell_type": "code",
   "execution_count": 2,
   "metadata": {},
   "outputs": [],
   "source": [
    "mass_axis = np.logspace(np.log10(1e-1), np.log10(1e2), 31)"
   ]
  },
  {
   "cell_type": "markdown",
   "metadata": {},
   "source": [
    "We also need to obviously keep track of some identifier for each parameter, e.g. mass. "
   ]
  },
  {
   "cell_type": "markdown",
   "metadata": {},
   "source": [
    "If we may also want to keep track of a default value or standard value for a parameter (e.g. 0.17 for the alpha parameter in the Einasto dark matter density profile)."
   ]
  },
  {
   "cell_type": "markdown",
   "metadata": {},
   "source": [
    "And if we plug this parameter into some sort of MC sampler (e.g. nested sampling) we would want a nice way to keep track of the inverse cdf to turn a unit cube into a value of said parameter."
   ]
  },
  {
   "cell_type": "markdown",
   "metadata": {},
   "source": [
    "To make my, and your, lives each easier, this class is just meant to put all of this into a single semi-standardised object."
   ]
  },
  {
   "cell_type": "code",
   "execution_count": 3,
   "metadata": {},
   "outputs": [],
   "source": [
    "from gammabayes import Parameter\n",
    "\n",
    "mass_parameter = Parameter(example_discrete_parameter_dict)"
   ]
  },
  {
   "cell_type": "markdown",
   "metadata": {},
   "source": [
    "And we can access all these attributes like a dictionary."
   ]
  },
  {
   "cell_type": "code",
   "execution_count": 4,
   "metadata": {},
   "outputs": [
    {
     "data": {
      "text/plain": [
       "'mass'"
      ]
     },
     "execution_count": 4,
     "metadata": {},
     "output_type": "execute_result"
    }
   ],
   "source": [
    "mass_parameter['name']"
   ]
  },
  {
   "cell_type": "markdown",
   "metadata": {},
   "source": [
    "Or you can access them as attributes of the class."
   ]
  },
  {
   "cell_type": "code",
   "execution_count": 5,
   "metadata": {},
   "outputs": [
    {
     "data": {
      "text/plain": [
       "'mass'"
      ]
     },
     "execution_count": 5,
     "metadata": {},
     "output_type": "execute_result"
    }
   ],
   "source": [
    "mass_parameter.name"
   ]
  },
  {
   "cell_type": "markdown",
   "metadata": {},
   "source": [
    "And derivatives of these values as attributes/properties"
   ]
  },
  {
   "cell_type": "code",
   "execution_count": 6,
   "metadata": {},
   "outputs": [
    {
     "data": {
      "text/plain": [
       "array([  0.1       ,   0.12589254,   0.15848932,   0.19952623,\n",
       "         0.25118864,   0.31622777,   0.39810717,   0.50118723,\n",
       "         0.63095734,   0.79432823,   1.        ,   1.25892541,\n",
       "         1.58489319,   1.99526231,   2.51188643,   3.16227766,\n",
       "         3.98107171,   5.01187234,   6.30957344,   7.94328235,\n",
       "        10.        ,  12.58925412,  15.84893192,  19.95262315,\n",
       "        25.11886432,  31.6227766 ,  39.81071706,  50.11872336,\n",
       "        63.09573445,  79.43282347, 100.        ])"
      ]
     },
     "execution_count": 6,
     "metadata": {},
     "output_type": "execute_result"
    }
   ],
   "source": [
    "mass_parameter.axis"
   ]
  },
  {
   "cell_type": "markdown",
   "metadata": {},
   "source": [
    "And based on the input parameters we create an inverse cumulative distribution function that can be used within a sampler within the 'transform' method. This is pretty much the main reason the class exists."
   ]
  },
  {
   "cell_type": "code",
   "execution_count": 7,
   "metadata": {},
   "outputs": [
    {
     "data": {
      "text/plain": [
       "0.19952623149688797"
      ]
     },
     "execution_count": 7,
     "metadata": {},
     "output_type": "execute_result"
    }
   ],
   "source": [
    "mass_parameter.transform(0.1)"
   ]
  },
  {
   "cell_type": "markdown",
   "metadata": {},
   "source": [
    "This also allows one to specify all needed information from a yaml file, as the class just takes in a dictionary, and you can store other information about the parameter as well as it is essentially just a dictionary."
   ]
  },
  {
   "cell_type": "code",
   "execution_count": 8,
   "metadata": {},
   "outputs": [],
   "source": [
    "mass_parameter['cool'] = True"
   ]
  },
  {
   "cell_type": "code",
   "execution_count": 9,
   "metadata": {},
   "outputs": [
    {
     "data": {
      "text/plain": [
       "True"
      ]
     },
     "execution_count": 9,
     "metadata": {},
     "output_type": "execute_result"
    }
   ],
   "source": [
    "mass_parameter.cool"
   ]
  },
  {
   "cell_type": "markdown",
   "metadata": {},
   "source": [
    "We also note that we generally keep track of a parameter called `parameter_type` which currently takes values of `spectral` or `spatial`. This is because most parameters can be put into one of these two categories, and many models treat them independently (e.g. dark matter's angular vs spectral distributions). So to decrease the number of unneeded computations (which is one of the main focuses of this code) one can read in the relevant parameters to each component without any checks as they are already stored in a formatted manner."
   ]
  },
  {
   "cell_type": "markdown",
   "metadata": {},
   "source": [
    "## Scaling"
   ]
  },
  {
   "cell_type": "markdown",
   "metadata": {},
   "source": [
    "The `scaling` parameter can either take the value of `linear` or `log10`. Which for discrete parameters means either using `np.linspace` or `np.logspace` and for continuous parameters different transform functions are used of the kind,"
   ]
  },
  {
   "cell_type": "markdown",
   "metadata": {},
   "source": [
    "`u * transform_scale + bounds[0]`\n"
   ]
  },
  {
   "cell_type": "markdown",
   "metadata": {},
   "source": [
    "or"
   ]
  },
  {
   "cell_type": "markdown",
   "metadata": {},
   "source": [
    "`10**(u * transform_scale + np.log10(bounds[0]))`\n"
   ]
  },
  {
   "cell_type": "markdown",
   "metadata": {},
   "source": [
    "And `transform_scale` is either `np.diff(bounds)` or `np.log10(bounds)` depending on which scale is chosen."
   ]
  },
  {
   "cell_type": "markdown",
   "metadata": {},
   "source": [
    "## Prior ID/Likelihood ID"
   ]
  },
  {
   "cell_type": "markdown",
   "metadata": {},
   "source": [
    "Another parameter that the class keeps track of are identifiers for the prior or likelihood that the parameter belong to. This is typically just a string, but helps keep track of where the parameter belongs within the analysis.\n",
    "\n",
    "And just a note, likelihood parameter analysis is not inherently supported within the code yet. Currently the focys of the code is to optimise the evaluation of the priors. Later updates may include this functionality.\n",
    "\n",
    "And if you're interested in doing this yourself or want to help out, please email me at `Liam.Pinchbeck@monash.edu`."
   ]
  },
  {
   "cell_type": "markdown",
   "metadata": {},
   "source": [
    "## Save/Load"
   ]
  },
  {
   "cell_type": "markdown",
   "metadata": {},
   "source": [
    "And just like most classes in this package, you can save and/or load."
   ]
  },
  {
   "cell_type": "code",
   "execution_count": 10,
   "metadata": {},
   "outputs": [],
   "source": [
    "mass_parameter.save('mass_param.h5')"
   ]
  },
  {
   "cell_type": "code",
   "execution_count": 11,
   "metadata": {},
   "outputs": [
    {
     "name": "stdout",
     "output_type": "stream",
     "text": [
      "{'bins': 31, 'cool': True, 'default_value': 1.0, 'discrete': True, 'likelihood_id': nan, 'name': 'mass', 'parameter_type': 'spectral', 'prior_id': nan, 'scaling': 'log10', 'transform_scale': 31, 'axis': array([  0.1       ,   0.12589254,   0.15848932,   0.19952623,\n",
      "         0.25118864,   0.31622777,   0.39810717,   0.50118723,\n",
      "         0.63095734,   0.79432823,   1.        ,   1.25892541,\n",
      "         1.58489319,   1.99526231,   2.51188643,   3.16227766,\n",
      "         3.98107171,   5.01187234,   6.30957344,   7.94328235,\n",
      "        10.        ,  12.58925412,  15.84893192,  19.95262315,\n",
      "        25.11886432,  31.6227766 ,  39.81071706,  50.11872336,\n",
      "        63.09573445,  79.43282347, 100.        ]), 'bounds': array([  0.1, 100. ])}\n"
     ]
    }
   ],
   "source": [
    "loaded_mass_parameter = Parameter.load('mass_param.h5')"
   ]
  },
  {
   "cell_type": "code",
   "execution_count": 12,
   "metadata": {},
   "outputs": [
    {
     "data": {
      "text/plain": [
       "array([  0.1       ,   0.12589254,   0.15848932,   0.19952623,\n",
       "         0.25118864,   0.31622777,   0.39810717,   0.50118723,\n",
       "         0.63095734,   0.79432823,   1.        ,   1.25892541,\n",
       "         1.58489319,   1.99526231,   2.51188643,   3.16227766,\n",
       "         3.98107171,   5.01187234,   6.30957344,   7.94328235,\n",
       "        10.        ,  12.58925412,  15.84893192,  19.95262315,\n",
       "        25.11886432,  31.6227766 ,  39.81071706,  50.11872336,\n",
       "        63.09573445,  79.43282347, 100.        ])"
      ]
     },
     "execution_count": 12,
     "metadata": {},
     "output_type": "execute_result"
    }
   ],
   "source": [
    "loaded_mass_parameter.axis"
   ]
  },
  {
   "cell_type": "code",
   "execution_count": 13,
   "metadata": {},
   "outputs": [
    {
     "data": {
      "text/plain": [
       "0"
      ]
     },
     "execution_count": 13,
     "metadata": {},
     "output_type": "execute_result"
    }
   ],
   "source": [
    "import os\n",
    "\n",
    "os.system(\"rm -rf mass_param.h5\")"
   ]
  },
  {
   "cell_type": "markdown",
   "metadata": {},
   "source": [
    "If in particular you need to save a `Parameter` class instance with a custom transform function, which you can specify via the `custom_parameter_transform` value of the given dictionary, you will need to use the `save_to_pickle` and `load_from_pickle` methods, or pickle the class instance yourself.\n",
    "\n",
    "If you can please save to `h5` format to save space, but you do you."
   ]
  },
  {
   "cell_type": "code",
   "execution_count": 19,
   "metadata": {},
   "outputs": [],
   "source": [
    "def times2(x):\n",
    "    return x*2\n",
    "\n",
    "mass_parameter.transform = times2\n",
    "\n",
    "mass_parameter.save_to_pickle('pickled_mass.pkl')"
   ]
  },
  {
   "cell_type": "code",
   "execution_count": 20,
   "metadata": {},
   "outputs": [],
   "source": [
    "loaded_mass_parameter = Parameter.load_from_pcikle('pickled_mass.pkl')"
   ]
  },
  {
   "cell_type": "code",
   "execution_count": 22,
   "metadata": {},
   "outputs": [
    {
     "name": "stdout",
     "output_type": "stream",
     "text": [
      "times2\n"
     ]
    },
    {
     "data": {
      "text/plain": [
       "2.0"
      ]
     },
     "execution_count": 22,
     "metadata": {},
     "output_type": "execute_result"
    }
   ],
   "source": [
    "print(loaded_mass_parameter.transform.__name__)\n",
    "loaded_mass_parameter.transform(1.0)"
   ]
  },
  {
   "cell_type": "markdown",
   "metadata": {},
   "source": [
    "# `ParameterSet`"
   ]
  },
  {
   "cell_type": "markdown",
   "metadata": {},
   "source": [
    "This class is a little more self-explanatory, it contains a set of the `Parameter` classes."
   ]
  },
  {
   "cell_type": "code",
   "execution_count": null,
   "metadata": {},
   "outputs": [],
   "source": []
  },
  {
   "cell_type": "code",
   "execution_count": null,
   "metadata": {},
   "outputs": [],
   "source": []
  },
  {
   "cell_type": "code",
   "execution_count": null,
   "metadata": {},
   "outputs": [],
   "source": []
  },
  {
   "cell_type": "code",
   "execution_count": null,
   "metadata": {},
   "outputs": [],
   "source": []
  },
  {
   "cell_type": "code",
   "execution_count": null,
   "metadata": {},
   "outputs": [],
   "source": []
  },
  {
   "cell_type": "code",
   "execution_count": null,
   "metadata": {},
   "outputs": [],
   "source": []
  },
  {
   "cell_type": "code",
   "execution_count": null,
   "metadata": {},
   "outputs": [],
   "source": []
  },
  {
   "cell_type": "code",
   "execution_count": null,
   "metadata": {},
   "outputs": [],
   "source": []
  },
  {
   "cell_type": "code",
   "execution_count": null,
   "metadata": {},
   "outputs": [],
   "source": []
  },
  {
   "cell_type": "code",
   "execution_count": null,
   "metadata": {},
   "outputs": [],
   "source": []
  },
  {
   "cell_type": "code",
   "execution_count": null,
   "metadata": {},
   "outputs": [],
   "source": []
  },
  {
   "cell_type": "code",
   "execution_count": null,
   "metadata": {},
   "outputs": [],
   "source": []
  },
  {
   "cell_type": "code",
   "execution_count": null,
   "metadata": {},
   "outputs": [],
   "source": []
  },
  {
   "cell_type": "code",
   "execution_count": null,
   "metadata": {},
   "outputs": [],
   "source": []
  },
  {
   "cell_type": "code",
   "execution_count": null,
   "metadata": {},
   "outputs": [],
   "source": []
  }
 ],
 "metadata": {
  "kernelspec": {
   "display_name": "testofwest",
   "language": "python",
   "name": "python3"
  },
  "language_info": {
   "codemirror_mode": {
    "name": "ipython",
    "version": 3
   },
   "file_extension": ".py",
   "mimetype": "text/x-python",
   "name": "python",
   "nbconvert_exporter": "python",
   "pygments_lexer": "ipython3",
   "version": "3.12.0"
  }
 },
 "nbformat": 4,
 "nbformat_minor": 2
}
