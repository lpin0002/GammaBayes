{
 "cells": [
  {
   "cell_type": "markdown",
   "metadata": {},
   "source": [
    "# Simulations"
   ]
  },
  {
   "cell_type": "markdown",
   "metadata": {},
   "source": [
    "In this notebook we detail how simulations to generate measured events that can be analysed with GammaBayes. \n",
    "\n",
    "There are essentially three steps to these simulations.\n",
    "\n",
    "1. Setup: Create the relevant priors and likelihoods that describe your astrophysical sources and instrumental noise (there is a more detailed explanation on these in the relevant notebooks)\n",
    "\n",
    "2. True Value Sampling: Sample the priors to obtain the \"true values\" that correspond to what a perfect instrument would see\n",
    "\n",
    "3. Measured Value Sampling: With the true value samples, sample the likelihoods to add noise to the measurements to obtain events similar to what the CTA would see"
   ]
  },
  {
   "cell_type": "markdown",
   "metadata": {},
   "source": [
    "## 1. Setup"
   ]
  },
  {
   "cell_type": "markdown",
   "metadata": {},
   "source": [
    "### Axes"
   ]
  },
  {
   "cell_type": "markdown",
   "metadata": {},
   "source": [
    "We will first create the our priors. For this we will need to set up the axes over which the true values can be made in `$log_10$ Energy`, `galactic longitude` and `galactic latitude`.\n",
    "\n",
    "For now we will let there be 100 bins per decade in energy from 0.1 TeV to 100 TeV. The bounds in all cases mostly being defined by where the Instruments Response Functions (our likelihoods) are well-defined.\n",
    "\n",
    "Our Galactic Latitude will have the bounds of -3.5 to 3.5 (our 356.5 to 3.5 if you prefer, but the math is easier with symmetry) with a resolution of 0.4. This is not what one would want to use in a full-blown simulation, but any increase in particularly the spatial axes can significantly increase computation time for later stages of analysis.\n",
    "\n",
    "Our Galactic Longitude will then have bounds of -3.0 to 3.0 also with a resolution of 0.4. This is mostly to show you don't need a completely symmetry observation window here and can use whatever you wish.\n",
    "\n",
    "These axes are named `log10_eaxis_true`, `longitude_axis_true` and `latitude_axis_true` respectively."
   ]
  },
  {
   "cell_type": "code",
   "execution_count": 1,
   "metadata": {},
   "outputs": [],
   "source": [
    "import numpy as np\n",
    "\n",
    "\n",
    "# log10 true energy axis\n",
    "true_energy_bins_per_decade      = 100\n",
    "log10_e_true_lowerbound          = np.log10(0.1)\n",
    "log10_e_true_upperbound          = np.log10(100)\n",
    "log10_e_true_range               = log10_e_true_upperbound-log10_e_true_lowerbound\n",
    "\n",
    "log10_eaxis_true            = np.linspace(log10_e_true_lowerbound,log10_e_true_upperbound,int(np.round(log10_e_true_range*true_energy_bins_per_decade))+1)\n",
    "\n",
    "log10_mass = np.log10(1)\n",
    "\n",
    "\n",
    "# spatial axes\n",
    "\n",
    "true_value_spatial_resolution = 0.2\n",
    "\n",
    "## longitude axis\n",
    "longitude_true_axis_lowerbound   = -3.5\n",
    "longitude_true_axis_upperbound   = 3.5\n",
    "longitude_true_axis_range        = longitude_true_axis_upperbound-longitude_true_axis_lowerbound\n",
    "\n",
    "longitude_axis_true           = np.linspace(longitude_true_axis_lowerbound, \n",
    "                                            longitude_true_axis_upperbound, \n",
    "                                            int(round(longitude_true_axis_range/true_value_spatial_resolution)+1)) \n",
    "\n",
    "## latitude axis\n",
    "latitude_true_axis_lowerbound    = -3.\n",
    "latitude_true_axis_upperbound    = 3.\n",
    "latitude_true_axis_range         = latitude_true_axis_upperbound-latitude_true_axis_lowerbound\n",
    "\n",
    "latitude_axis_true            = np.linspace(latitude_true_axis_lowerbound, \n",
    "                                            latitude_true_axis_upperbound, \n",
    "                                            int(round(latitude_true_axis_range/true_value_spatial_resolution)+1)) \n"
   ]
  },
  {
   "cell_type": "markdown",
   "metadata": {},
   "source": [
    "Let's have a quick look at the shapes, so that it is easier to keep track of each axes for the oncoming steps."
   ]
  },
  {
   "cell_type": "code",
   "execution_count": 2,
   "metadata": {},
   "outputs": [
    {
     "name": "stdout",
     "output_type": "stream",
     "text": [
      "(301,) (36,) (31,)\n"
     ]
    }
   ],
   "source": [
    "print(log10_eaxis_true.shape, longitude_axis_true.shape, latitude_axis_true.shape)"
   ]
  },
  {
   "cell_type": "markdown",
   "metadata": {},
   "source": [
    "We will also need the axes of the values that actual CTA measurements can take."
   ]
  },
  {
   "cell_type": "code",
   "execution_count": 3,
   "metadata": {},
   "outputs": [],
   "source": [
    "import numpy as np\n",
    "\n",
    "\n",
    "# log10 energy axis\n",
    "energy_bins_per_decade          = 50\n",
    "log10_e_lowerbound          = np.log10(0.1)\n",
    "log10_e_upperbound          = np.log10(100)\n",
    "log10_e_range               = log10_e_upperbound-log10_e_lowerbound\n",
    "\n",
    "log10_eaxis            = np.linspace(log10_e_lowerbound,log10_e_upperbound,int(np.round(log10_e_range*energy_bins_per_decade))+1)\n",
    "\n",
    "\n",
    "\n",
    "# spatial axes\n",
    "\n",
    "spatial_resolution = 0.4\n",
    "\n",
    "## longitude axis\n",
    "longitude_axis_lowerbound   = -3.5\n",
    "longitude_axis_upperbound   = 3.5\n",
    "longitude_axis_range        = longitude_axis_upperbound-longitude_axis_lowerbound\n",
    "\n",
    "longitude_axis           = np.linspace(longitude_axis_lowerbound, \n",
    "                                            longitude_axis_upperbound, \n",
    "                                            int(round(longitude_axis_range/spatial_resolution)+1)) \n",
    "\n",
    "## latitude axis\n",
    "latitude_axis_lowerbound    = -3.\n",
    "latitude_axis_upperbound    = 3.\n",
    "latitude_axis_range         = latitude_axis_upperbound-latitude_axis_lowerbound\n",
    "\n",
    "latitude_axis            = np.linspace(latitude_axis_lowerbound, \n",
    "                                            latitude_axis_upperbound, \n",
    "                                            int(round(latitude_axis_range/spatial_resolution)+1)) \n"
   ]
  },
  {
   "cell_type": "markdown",
   "metadata": {},
   "source": [
    "### Creating priors"
   ]
  },
  {
   "cell_type": "markdown",
   "metadata": {},
   "source": [
    "And now we can get start on creating the priors that we will need. We will import the `discrete_likelihood` and `discrete_prior` classes from GammaBayes."
   ]
  },
  {
   "cell_type": "code",
   "execution_count": 4,
   "metadata": {},
   "outputs": [],
   "source": [
    "import sys\n",
    "sys.path.append(\"..\")\n",
    "\n",
    "from gammabayes.prior import discrete_logprior\n",
    "from gammabayes.likelihood import discrete_loglikelihood\n"
   ]
  },
  {
   "cell_type": "markdown",
   "metadata": {},
   "source": [
    "To create the relevant dark matter spectra we will use the `SS_DM_dist` class from GammaBayes. Initial creation of the function should take less than 10 seconds."
   ]
  },
  {
   "cell_type": "code",
   "execution_count": 5,
   "metadata": {},
   "outputs": [
    {
     "name": "stderr",
     "output_type": "stream",
     "text": [
      "/Users/lpin0002/anaconda3/envs/please/lib/python3.9/site-packages/tqdm/auto.py:21: TqdmWarning: IProgress not found. Please update jupyter and ipywidgets. See https://ipywidgets.readthedocs.io/en/stable/user_install.html\n",
      "  from .autonotebook import tqdm as notebook_tqdm\n"
     ]
    }
   ],
   "source": [
    "from gammabayes.SS_DM_Prior import SS_DM_dist\n",
    "\n",
    "SS_DM_dist_instance= SS_DM_dist(longitude_axis_true, latitude_axis_true)\n",
    "logDMpriorfunc = SS_DM_dist_instance.func_setup()"
   ]
  },
  {
   "cell_type": "markdown",
   "metadata": {},
   "source": [
    "Now let's initiate the prior class for our signal and have a look at what it contains."
   ]
  },
  {
   "cell_type": "code",
   "execution_count": 6,
   "metadata": {},
   "outputs": [
    {
     "name": "stdout",
     "output_type": "stream",
     "text": [
      "(0.0,)\n"
     ]
    },
    {
     "data": {
      "text/plain": [
       "discrete log prior class\n",
       "----------------------------\n",
       "name = Scalar Singlet Dark Matter Prior\n",
       "logfunction type is <function SS_DM_dist.func_setup.<locals>.DM_signal_dist at 0x7f891240d550>\n",
       "input units of None\n",
       "over axes ['log10 energy', 'lon', 'lat']\n",
       "with hyperparameter(s) ['mass']"
      ]
     },
     "execution_count": 6,
     "metadata": {},
     "output_type": "execute_result"
    }
   ],
   "source": [
    "from gammabayes.utils.utils import makelogjacob\n",
    "\n",
    "logjacob_true = np.meshgrid(makelogjacob(log10_eaxis_true), longitude_axis_true, latitude_axis_true, indexing='ij')[0]\n",
    "\n",
    "DM_prior = discrete_logprior(logfunction=logDMpriorfunc, name='Scalar Singlet Dark Matter Prior',\n",
    "                               axes=(log10_eaxis_true, longitude_axis_true, latitude_axis_true,), axes_names=['log10 energy', 'lon', 'lat'],\n",
    "                               default_hyperparameter_values=(log10_mass,), hyperparameter_names=['mass'], logjacob=logjacob_true)\n",
    "DM_prior"
   ]
  },
  {
   "cell_type": "markdown",
   "metadata": {},
   "source": [
    "So we have a signal, we next need a background. This is a little more complicated but again, this is more thoroughly detailed in the `prior_class` jupyter notebook."
   ]
  },
  {
   "cell_type": "code",
   "execution_count": 7,
   "metadata": {},
   "outputs": [
    {
     "name": "stdout",
     "output_type": "stream",
     "text": [
      "Setting up the astrophysical background\n",
      "\n",
      "\n",
      "Setting up HESS sources\n",
      "\n"
     ]
    },
    {
     "name": "stderr",
     "output_type": "stream",
     "text": [
      "/Users/lpin0002/anaconda3/envs/please/lib/python3.9/site-packages/gammapy/modeling/models/spatial.py:554: RuntimeWarning: invalid value encountered in multiply\n",
      "  return u.Quantity(norm * np.exp(exponent).value, \"sr-1\", copy=False)\n"
     ]
    },
    {
     "name": "stdout",
     "output_type": "stream",
     "text": [
      "\n",
      "There are 96 sources in total within the HGPS.\n"
     ]
    },
    {
     "data": {
      "text/plain": [
       "discrete log prior class\n",
       "----------------------------\n",
       "name = Background Prior\n",
       "logfunction type is <function <lambda> at 0x7f8914a403a0>\n",
       "input units of None\n",
       "over axes ['log10 energy', 'lon', 'lat']\n",
       "with hyperparameter(s) [None]"
      ]
     },
     "execution_count": 7,
     "metadata": {},
     "output_type": "execute_result"
    }
   ],
   "source": [
    "from gammabayes.utils.utils import bkgdist\n",
    "from gammabayes.load_package_data import astrophysicalbackground\n",
    "from scipy import special, interpolate\n",
    "from gammabayes.default_file_setup import setup\n",
    "\n",
    "nuisancemesh = np.meshgrid(log10_eaxis_true, longitude_axis_true, latitude_axis_true, indexing='ij')\n",
    "\n",
    "astrophysicalbackground = setup(setup_astrobkg=1, setup_irfnormalisations=0,\n",
    "                                log10eaxistrue=log10_eaxis_true, longitudeaxistrue=longitude_axis_true, latitudeaxistrue=latitude_axis_true, \n",
    "                                save_results=False, outputresults=True)\n",
    "unnormed_logbkgpriorvalues = np.logaddexp(np.squeeze(bkgdist(*nuisancemesh)),np.log(astrophysicalbackground))\n",
    "\n",
    "\n",
    "logbkgpriorvalues = unnormed_logbkgpriorvalues - special.logsumexp(unnormed_logbkgpriorvalues+logjacob_true)\n",
    "\n",
    "logbkgpriorvalues.shape\n",
    "\n",
    "\n",
    "\n",
    "\n",
    "unnormed_logbkgpriorvalues = np.logaddexp(np.squeeze(bkgdist(*nuisancemesh)),np.log(astrophysicalbackground))\n",
    "# unnormed_logbkgpriorvalues = np.squeeze(bkgdist(*nuisancemesh))\n",
    "\n",
    "\n",
    "logbkgfunc_annoying = interpolate.RegularGridInterpolator((log10_eaxis_true, longitude_axis_true, latitude_axis_true,), np.exp(unnormed_logbkgpriorvalues))\n",
    "logbkgfunc = lambda logenergy, longitude, latitude: np.log(logbkgfunc_annoying((logenergy, longitude, latitude)))\n",
    "\n",
    "\n",
    "bkg_prior = discrete_logprior(logfunction=logbkgfunc, name='Background Prior',\n",
    "                               axes=(log10_eaxis_true, longitude_axis_true, latitude_axis_true,), \n",
    "                               axes_names=['log10 energy', 'lon', 'lat'], logjacob=logjacob_true)\n",
    "\n",
    "bkg_prior"
   ]
  },
  {
   "cell_type": "markdown",
   "metadata": {},
   "source": [
    "### Creating Likelihoods"
   ]
  },
  {
   "cell_type": "markdown",
   "metadata": {},
   "source": [
    "Within the `utils` module in `GammaBayes` there are two likelihood functions called `edisp_test` and `psf_test` which are easy-to-use wrappers for the relevant IRFs for the CTA. We extract these and use them within our likelihood class instances."
   ]
  },
  {
   "cell_type": "code",
   "execution_count": 8,
   "metadata": {},
   "outputs": [],
   "source": [
    "from gammabayes.utils.utils import edisp_test, psf_test"
   ]
  },
  {
   "cell_type": "markdown",
   "metadata": {},
   "source": [
    "We then create the relevant jacobian for integration over the \"measured value\" axes."
   ]
  },
  {
   "cell_type": "code",
   "execution_count": 9,
   "metadata": {},
   "outputs": [],
   "source": [
    "logjacob = makelogjacob(log10_eaxis)"
   ]
  },
  {
   "cell_type": "markdown",
   "metadata": {},
   "source": [
    "We then instantiate the energy dispersion likelihood like so."
   ]
  },
  {
   "cell_type": "code",
   "execution_count": 10,
   "metadata": {},
   "outputs": [
    {
     "name": "stdout",
     "output_type": "stream",
     "text": [
      "Number of input dimensions 1\n",
      "boop\n",
      "Axes shape: (151,)\n"
     ]
    },
    {
     "data": {
      "text/plain": [
       "discrete log likelihood class\n",
       "---------------------------------\n",
       "name = energy dispersion\n",
       "logfunction type is <function edisp_test at 0x7f89149cc820>\n",
       "input units of None\n",
       "over axes log10E recon\n",
       "with dependent axes ['log10E true', 'lon', 'lat']"
      ]
     },
     "execution_count": 10,
     "metadata": {},
     "output_type": "execute_result"
    }
   ],
   "source": [
    "edisp_like = discrete_loglikelihood(logfunction=edisp_test, \n",
    "                                    axes=(log10_eaxis,), axes_names='log10E recon',\n",
    "                                    name='energy dispersion',\n",
    "                                    dependent_axes=(log10_eaxis_true, longitude_axis_true, latitude_axis_true,), logjacob=logjacob,\n",
    "                                    dependent_axes_names = ['log10E true', 'lon', 'lat'])\n",
    "edisp_like"
   ]
  },
  {
   "cell_type": "markdown",
   "metadata": {},
   "source": [
    "The `Number of input dimesions` parameter describes the dimensionality of the axes that the likelihood is normalised with respect to. Here the energy dispersion is with respect the measure energy values and no other axes so it only has a single dimension."
   ]
  },
  {
   "cell_type": "markdown",
   "metadata": {},
   "source": [
    "We then instantiate the point spread function likelihood like so."
   ]
  },
  {
   "cell_type": "code",
   "execution_count": 11,
   "metadata": {},
   "outputs": [
    {
     "name": "stdout",
     "output_type": "stream",
     "text": [
      "Number of input dimensions 2\n",
      "beeeep\n",
      "Number of data dimensions 2\n",
      "Axes shape: (19, 16)\n"
     ]
    },
    {
     "data": {
      "text/plain": [
       "discrete log likelihood class\n",
       "---------------------------------\n",
       "name = point spread function \n",
       "logfunction type is <function psf_test at 0x7f8914a36af0>\n",
       "input units of None\n",
       "over axes ['longitude recon', 'latitude recon']\n",
       "with dependent axes ['log10E true', 'lon', 'lat']"
      ]
     },
     "execution_count": 11,
     "metadata": {},
     "output_type": "execute_result"
    }
   ],
   "source": [
    "psf_like = discrete_loglikelihood(logfunction=psf_test, \n",
    "                                    axes=(longitude_axis, latitude_axis), axes_names=['longitude recon', 'latitude recon'],\n",
    "                                    name='point spread function ',\n",
    "                                    dependent_axes=(log10_eaxis_true, longitude_axis_true, latitude_axis_true,),\n",
    "                                    dependent_axes_names = ['log10E true', 'lon', 'lat'])\n",
    "psf_like"
   ]
  },
  {
   "cell_type": "markdown",
   "metadata": {},
   "source": [
    "The `Number of input dimesions` parameter here is with respect the measure sky positions values, longitude and latitude, the dimensionality of the normalisation is 2."
   ]
  },
  {
   "cell_type": "markdown",
   "metadata": {},
   "source": [
    "## 2. True Value Sampling"
   ]
  },
  {
   "cell_type": "markdown",
   "metadata": {},
   "source": [
    "Now that we have completed all the setup we can use the in-built methods and attributes of the classes we have set up to do the rest of the heavy lifting. \n",
    "\n",
    "We will set the fraction of signal events to total events to 0.6 (for illustrative purposes) and the total number of events to be measured to 5000. This means there will be 3000 signal events and 2000 background events."
   ]
  },
  {
   "cell_type": "code",
   "execution_count": 12,
   "metadata": {},
   "outputs": [],
   "source": [
    "signal_fraction = 0.6\n",
    "total_events = 5000\n",
    "nsig = int(round(signal_fraction*total_events))\n",
    "nbkg = int(round((1-signal_fraction)*total_events))"
   ]
  },
  {
   "cell_type": "markdown",
   "metadata": {},
   "source": [
    "To sample the priors we can then use the `sample` method with the number of samples we want. The output will be a tuple of the values in each of the dependent axes of the priors."
   ]
  },
  {
   "cell_type": "code",
   "execution_count": 13,
   "metadata": {},
   "outputs": [],
   "source": [
    "siglogevals,siglonvals,siglatvals  = DM_prior.sample(nsig)\n",
    "\n",
    "bkglogevals,bkglonvals,bkglatvals  = bkg_prior.sample(nbkg)"
   ]
  },
  {
   "cell_type": "markdown",
   "metadata": {},
   "source": [
    "Let's plot the functions for these priors along the energy axis and compare them to the samples that we generated."
   ]
  },
  {
   "cell_type": "code",
   "execution_count": 14,
   "metadata": {},
   "outputs": [
    {
     "data": {
      "image/png": "[encoded data removed]",
      "text/plain": [
       "<Figure size 1000x400 with 2 Axes>"
      ]
     },
     "metadata": {},
     "output_type": "display_data"
    }
   ],
   "source": [
    "import matplotlib.pyplot as plt\n",
    "\n",
    "plt.figure(figsize=(10,4))\n",
    "plt.subplot(121)\n",
    "plt.title('Signal')\n",
    "\n",
    "signal_plot_vals = np.sum(np.exp(DM_prior.logfunction(*np.meshgrid(log10_eaxis_true, longitude_axis_true, latitude_axis_true, indexing='ij'), \n",
    "                                                       logmass=log10_mass)+logjacob_true), axis=(1,2))\n",
    "sig_true_histvals, sig_true_hist_bins, _ = plt.hist(siglogevals, bins=log10_eaxis_true-np.diff(log10_eaxis_true)[0]/2, label='binned samples')\n",
    "\n",
    "plt.plot(log10_eaxis_true, signal_plot_vals/np.max(signal_plot_vals)*np.max(sig_true_histvals), lw=1, label=\"Scaled Prior\", alpha=0.7)\n",
    "\n",
    "plt.yscale('log')\n",
    "plt.ylim([0.01,None])\n",
    "\n",
    "plt.xlabel(r'$log_{10}$ E$_{\\rm{true}}$')\n",
    "\n",
    "plt.subplot(122)\n",
    "plt.title('Background')\n",
    "\n",
    "\n",
    "background_plot_vals = np.sum(np.exp(bkg_prior.logfunction(*np.meshgrid(log10_eaxis_true, longitude_axis_true, latitude_axis_true, indexing='ij'),)+logjacob_true), \n",
    "                              axis=(1,2))\n",
    "background_true_histvals, background_true_hist_bins, _ = plt.hist(bkglogevals, bins=log10_eaxis_true-np.diff(log10_eaxis_true)[0]/2, label='binned samples')\n",
    "\n",
    "\n",
    "plt.plot(log10_eaxis_true, background_plot_vals/np.max(background_plot_vals)*np.max(background_true_histvals), lw=1, label=\"Scaled Priors\", alpha=0.7)\n",
    "\n",
    "plt.yscale('log')\n",
    "plt.ylim([0.01,None])\n",
    "plt.legend(bbox_to_anchor=(1.45,0.6))\n",
    "plt.xlabel(r'$log_{10}$ E$_{\\rm{true}}$')\n",
    "plt.show()\n"
   ]
  },
  {
   "cell_type": "markdown",
   "metadata": {},
   "source": [
    "With a change in the overall normalisation for the prior functions, the histograms should roughly match the plotted priorvalues."
   ]
  },
  {
   "cell_type": "markdown",
   "metadata": {},
   "source": [
    "And then we'll just have a quick look at the sky position sampling."
   ]
  },
  {
   "cell_type": "code",
   "execution_count": 15,
   "metadata": {},
   "outputs": [
    {
     "data": {
      "image/png": "[encoded data removed]",
      "text/plain": [
       "<Figure size 640x480 with 4 Axes>"
      ]
     },
     "metadata": {},
     "output_type": "display_data"
    }
   ],
   "source": [
    "from matplotlib.colors import LogNorm\n",
    "\n",
    "\n",
    "plt.figure()\n",
    "plt.subplot(121)\n",
    "plt.hist2d(siglonvals,siglatvals, \n",
    "           bins=(longitude_axis_true-np.diff(longitude_axis_true)[0]/2, latitude_axis_true-np.diff(latitude_axis_true)[0]/2))#, norm=LogNorm(vmin=1))\n",
    "plt.colorbar()\n",
    "\n",
    "plt.subplot(122)\n",
    "plt.hist2d(bkglonvals,bkglatvals, \n",
    "           bins=(longitude_axis_true-np.diff(longitude_axis_true)[0]/2, latitude_axis_true-np.diff(latitude_axis_true)[0]/2))#, norm=LogNorm(vmin=1))\n",
    "plt.colorbar()\n",
    "\n",
    "plt.show()"
   ]
  },
  {
   "cell_type": "markdown",
   "metadata": {},
   "source": [
    "## 3. Measured Value Sampling"
   ]
  },
  {
   "cell_type": "markdown",
   "metadata": {},
   "source": [
    "Now that we have our \"true values\" we can create our \"measured\" or \"reconstructed\" values by sampling the likelihoods given the true values.\n",
    "\n",
    "We first sample the energy dispersion to get the measured (log10) energy values. This should take less than 1 minute on a relatively modern laptop."
   ]
  },
  {
   "cell_type": "code",
   "execution_count": 16,
   "metadata": {},
   "outputs": [
    {
     "name": "stderr",
     "output_type": "stream",
     "text": [
      " 16%|█▋        | 489/3000 [00:00<00:02, 1217.31it/s]/Users/lpin0002/Desktop/temporaryfolder/GammaBayes/documentation/../gammabayes/likelihood.py:90: RuntimeWarning: invalid value encountered in subtract\n",
      "  loglikevalswithlogjacob = loglikevalswithlogjacob - logsumexp(loglikevalswithlogjacob, axis=(*np.arange(self.axes_dim),))\n",
      "100%|██████████| 3000/3000 [00:02<00:00, 1247.54it/s]\n",
      "100%|██████████| 2000/2000 [00:01<00:00, 1305.00it/s]\n"
     ]
    }
   ],
   "source": [
    "from tqdm.autonotebook import tqdm as notebook_tqdm\n",
    "\n",
    "signal_log10e_measured = [np.squeeze(edisp_like.sample((logeval,*coord,), numsamples=1)) for logeval,coord  in notebook_tqdm(zip(siglogevals, np.array([siglonvals, siglatvals]).T), total=nsig)]\n",
    "bkg_log10e_measured = [np.squeeze(edisp_like.sample((logeval,*coord,), numsamples=1)) for logeval,coord  in notebook_tqdm(zip(bkglogevals, np.array([bkglonvals, bkglatvals]).T), total=nbkg)]\n"
   ]
  },
  {
   "cell_type": "markdown",
   "metadata": {},
   "source": [
    "We then sample the point spread function to get the measured sky position values. This will take a little longer but still under a minute."
   ]
  },
  {
   "cell_type": "code",
   "execution_count": 17,
   "metadata": {},
   "outputs": [
    {
     "name": "stderr",
     "output_type": "stream",
     "text": [
      "100%|██████████| 3000/3000 [00:21<00:00, 137.23it/s]\n",
      "100%|██████████| 2000/2000 [00:14<00:00, 137.15it/s]\n"
     ]
    }
   ],
   "source": [
    "sig_lonlat_psf_samples =  [psf_like.sample((logeval,*coord,), 1).tolist() for logeval,coord  in notebook_tqdm(zip(siglogevals, np.array([siglonvals, siglatvals]).T), total=nsig)]\n",
    "bkg_lonlat_psf_samples =  [psf_like.sample((logeval,*coord,), 1).tolist() for logeval,coord  in notebook_tqdm(zip(bkglogevals, np.array([bkglonvals, bkglatvals]).T), total=nbkg)]\n"
   ]
  },
  {
   "cell_type": "markdown",
   "metadata": {},
   "source": [
    "Now let's have a thorough look at our outputs."
   ]
  },
  {
   "cell_type": "code",
   "execution_count": 18,
   "metadata": {},
   "outputs": [
    {
     "data": {
      "image/png": "[encoded data removed]",
      "text/plain": [
       "<Figure size 1400x600 with 3 Axes>"
      ]
     },
     "metadata": {},
     "output_type": "display_data"
    }
   ],
   "source": [
    "alpha=0.7\n",
    "plt.figure(figsize=(14,6))\n",
    "plt.subplot(131)\n",
    "plt.hist(signal_log10e_measured, bins=log10_eaxis-np.diff(log10_eaxis)[0]/2, color='tab:blue', alpha=alpha, label='Signal')\n",
    "plt.hist(bkg_log10e_measured,   bins=log10_eaxis-np.diff(log10_eaxis)[0]/2, color='tab:orange', alpha=alpha, label='Background')\n",
    "plt.yscale('log')\n",
    "plt.legend()\n",
    "\n",
    "plt.subplot(132)\n",
    "\n",
    "plt.hist(np.asarray(sig_lonlat_psf_samples).T[0,:], bins=longitude_axis-spatial_resolution/2, color='tab:blue', alpha=alpha, label='Signal')\n",
    "plt.hist(np.asarray(bkg_lonlat_psf_samples).T[0,:], bins=longitude_axis-spatial_resolution/2, color='tab:orange', alpha=alpha, label='Background')\n",
    "plt.legend()\n",
    "\n",
    "\n",
    "plt.subplot(133)\n",
    "\n",
    "plt.hist(np.asarray(sig_lonlat_psf_samples).T[1,:], bins=latitude_axis-spatial_resolution/2, color='tab:blue', alpha=alpha, label='Signal')\n",
    "plt.hist(np.asarray(bkg_lonlat_psf_samples).T[1,:], bins=latitude_axis-spatial_resolution/2, color='tab:orange', alpha=alpha, label='Background')\n",
    "plt.legend()\n",
    "\n",
    "\n",
    "plt.show()"
   ]
  },
  {
   "cell_type": "markdown",
   "metadata": {},
   "source": [
    "The next recommended notebook to follow is called `hyperparameter_inference.ipynb` which analyses the simulations found here to reconstruct the $log_{10}$ mass value and fraction of events that come from the signal."
   ]
  }
 ],
 "metadata": {
  "kernelspec": {
   "display_name": "please",
   "language": "python",
   "name": "python3"
  },
  "language_info": {
   "codemirror_mode": {
    "name": "ipython",
    "version": 3
   },
   "file_extension": ".py",
   "mimetype": "text/x-python",
   "name": "python",
   "nbconvert_exporter": "python",
   "pygments_lexer": "ipython3",
   "version": "3.9.16"
  }
 },
 "nbformat": 4,
 "nbformat_minor": 2
}
