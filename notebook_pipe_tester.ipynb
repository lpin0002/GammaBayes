{
 "cells": [
  {
   "attachments": {},
   "cell_type": "markdown",
   "metadata": {},
   "source": [
    "# <h1><b><I> General Setup"
   ]
  },
  {
   "cell_type": "markdown",
   "metadata": {},
   "source": [
    "## Imports and general setup"
   ]
  },
  {
   "cell_type": "code",
   "execution_count": 1,
   "metadata": {},
   "outputs": [
    {
     "name": "stderr",
     "output_type": "stream",
     "text": [
      "/Users/lpin0002/anaconda3/envs/please/lib/python3.9/site-packages/tqdm/auto.py:21: TqdmWarning: IProgress not found. Please update jupyter and ipywidgets. See https://ipywidgets.readthedocs.io/en/stable/user_install.html\n",
      "  from .autonotebook import tqdm as notebook_tqdm\n"
     ]
    }
   ],
   "source": [
    "import os, sys\n",
    "sys.path.append(\"gammabayes/BFCalc/\")\n",
    "sys.path.append(\"gammabayes\")\n",
    "\n",
    "from gammabayes.BFCalc.createspectragrids import singlechannel_diffflux, getspectrafunc, darkmatterdoubleinput, energymassinputspectralfunc\n",
    "from gammabayes.utils.utils import log10eaxistrue, longitudeaxistrue, latitudeaxistrue, log10eaxis, longitudeaxis, latitudeaxis, time,psf, edisp, bkgdist, interpolate, special, integrate\n",
    "from gammabayes.utils.utils import SkyCoord, WcsGeom, inverse_transform_sampling, tqdm#, setup_full_fake_signal_dist_copy_vers#, setup_full_fake_signal_dist, diff_irf_marg\n",
    "from gammabayes.hyperparameter_likelihood import hyperparameter_likelihood\n",
    "from gammabayes.prior import discrete_logprior\n",
    "from gammabayes.likelihood import discrete_loglikelihood\n",
    "from gammabayes.utils.utils import edisp_test, psf_test, log10eaxis, longitudeaxis, latitudeaxis\n",
    "from gammabayes.utils.utils import psf_efficient, edisp_efficient, edisp_test, psf_test, single_likelihood\n",
    "from gammabayes.SS_DM_Prior import SS_DM_dist\n",
    "\n",
    "\n",
    "import numpy as np\n",
    "import matplotlib.pyplot as plt\n",
    "import matplotlib as mpl\n",
    "from matplotlib.colors import LogNorm\n",
    "from astropy import units as u\n",
    "from scipy import special,stats\n",
    "from scipy.integrate import simps\n",
    "from matplotlib import cm\n",
    "from tqdm.autonotebook import tqdm as notebook_tqdm\n",
    "\n",
    "import functools\n",
    "from multiprocessing import Pool, freeze_support\n",
    "import multiprocessing\n",
    "import pandas as pd\n"
   ]
  },
  {
   "cell_type": "code",
   "execution_count": 2,
   "metadata": {},
   "outputs": [
    {
     "data": {
      "text/plain": [
       "23.513888888888886"
      ]
     },
     "execution_count": 2,
     "metadata": {},
     "output_type": "execute_result"
    }
   ],
   "source": [
    "0.47027777777777774*(8/16)*(1e7/1e3)*(1/100)"
   ]
  },
  {
   "cell_type": "code",
   "execution_count": 3,
   "metadata": {},
   "outputs": [],
   "source": [
    "astrophysicalbackground = np.load(\"gammabayes/package_data/unnormalised_astrophysicalbackground.npy\")\n",
    "psfnormalisationvalues = np.load(\"gammabayes/package_data/psfnormalisation.npy\")\n",
    "edispnormalisationvalues = np.load(\"gammabayes/package_data/edispnormalisation.npy\")\n"
   ]
  },
  {
   "cell_type": "code",
   "execution_count": 4,
   "metadata": {},
   "outputs": [
    {
     "name": "stdout",
     "output_type": "stream",
     "text": [
      "(521, 35, 30) (18, 15)\n"
     ]
    }
   ],
   "source": [
    "log10emeshtrue, lonmeshtrue, latmeshtrue = np.meshgrid(log10eaxistrue, longitudeaxistrue, latitudeaxistrue, indexing='ij')\n",
    "lonmeshrecon, latmeshrecon = np.meshgrid(longitudeaxis, latitudeaxis, indexing='ij')\n",
    "\n",
    "logjacobtrue = np.meshgrid(np.log(10**log10eaxistrue), longitudeaxistrue, latitudeaxistrue, indexing='ij')[0]\n",
    "\n",
    "\n",
    "print(lonmeshtrue.shape, lonmeshrecon.shape)"
   ]
  },
  {
   "cell_type": "markdown",
   "metadata": {},
   "source": [
    "## Script Parameter Setup"
   ]
  },
  {
   "cell_type": "code",
   "execution_count": 5,
   "metadata": {},
   "outputs": [
    {
     "name": "stdout",
     "output_type": "stream",
     "text": [
      "4.331333083\n"
     ]
    }
   ],
   "source": [
    "numberoftruevaluesamples = int(1e4)\n",
    "Nsamples=numberoftruevaluesamples\n",
    "truelambda          = 0.1\n",
    "nsig                = int(round(truelambda*Nsamples))\n",
    "nbkg                = int(round((1-truelambda)*Nsamples))\n",
    "\n",
    "truelambda          = nsig/(nbkg+nsig)\n",
    "numcores            = 8\n",
    "truelogmass         = 1.2\n",
    "\n",
    "startertimer = time.perf_counter()\n",
    "print(startertimer)"
   ]
  },
  {
   "attachments": {},
   "cell_type": "markdown",
   "metadata": {},
   "source": [
    "# <h1><b>Simulation"
   ]
  },
  {
   "attachments": {},
   "cell_type": "markdown",
   "metadata": {},
   "source": [
    "## Setup"
   ]
  },
  {
   "attachments": {},
   "cell_type": "markdown",
   "metadata": {},
   "source": [
    "### Background setup"
   ]
  },
  {
   "cell_type": "code",
   "execution_count": 6,
   "metadata": {},
   "outputs": [],
   "source": [
    "unnormed_logbkgpriorvalues = np.logaddexp(np.squeeze(bkgdist(log10emeshtrue, lonmeshtrue,latmeshtrue)),np.log(astrophysicalbackground))\n",
    "\n",
    "\n",
    "logbkgpriorvalues = unnormed_logbkgpriorvalues - special.logsumexp(unnormed_logbkgpriorvalues+logjacobtrue)\n",
    "\n",
    "logbkgpriorvalues.shape\n",
    "\n",
    "\n",
    "nuisancemesh = np.meshgrid(log10eaxistrue, longitudeaxistrue, latitudeaxistrue, indexing='ij')\n",
    "\n",
    "unnormed_logbkgpriorvalues = np.logaddexp(np.squeeze(bkgdist(*nuisancemesh)),np.log(astrophysicalbackground))\n",
    "# unnormed_logbkgpriorvalues = np.squeeze(bkgdist(*nuisancemesh))\n",
    "\n",
    "\n",
    "logbkgfunc_annoying = interpolate.RegularGridInterpolator((log10eaxistrue, longitudeaxistrue, latitudeaxistrue), np.exp(unnormed_logbkgpriorvalues))\n",
    "logbkgfunc = lambda logenergy, longitude, latitude: np.log(logbkgfunc_annoying((logenergy, longitude, latitude)))\n",
    "\n",
    "\n",
    "bkg_prior = discrete_logprior(logfunction=logbkgfunc, name='Background Prior',\n",
    "                               axes=(log10eaxistrue, longitudeaxistrue, latitudeaxistrue,), \n",
    "                               axes_names=['energy', 'lon', 'lat'], logjacob=logjacobtrue)"
   ]
  },
  {
   "attachments": {},
   "cell_type": "markdown",
   "metadata": {},
   "source": [
    "### Signal Setup"
   ]
  },
  {
   "cell_type": "code",
   "execution_count": 7,
   "metadata": {},
   "outputs": [],
   "source": [
    "SS_DM_dist_instance= SS_DM_dist(longitudeaxistrue, latitudeaxistrue)\n",
    "logDMpriorfunc = SS_DM_dist_instance.func_setup()"
   ]
  },
  {
   "cell_type": "code",
   "execution_count": 8,
   "metadata": {},
   "outputs": [
    {
     "name": "stdout",
     "output_type": "stream",
     "text": [
      "(1.2,)\n"
     ]
    },
    {
     "data": {
      "text/plain": [
       "discrete log prior class\n",
       "----------------------------\n",
       "name = Scalar Singlet Dark Matter Prior\n",
       "logfunction type is <function SS_DM_dist.func_setup.<locals>.DM_signal_dist at 0x7ff4fc9ebee0>\n",
       "input units of None\n",
       "over axes ['energy', 'lon', 'lat']\n",
       "with hyperparameter(s) ['mass']"
      ]
     },
     "execution_count": 8,
     "metadata": {},
     "output_type": "execute_result"
    }
   ],
   "source": [
    "DM_prior = discrete_logprior(logfunction=logDMpriorfunc, name='Scalar Singlet Dark Matter Prior',\n",
    "                               axes=(log10eaxistrue, longitudeaxistrue, latitudeaxistrue,), axes_names=['energy', 'lon', 'lat'],\n",
    "                               default_hyperparameter_values=(truelogmass,), hyperparameter_names=['mass'], logjacob=logjacobtrue)\n",
    "DM_prior"
   ]
  },
  {
   "attachments": {},
   "cell_type": "markdown",
   "metadata": {},
   "source": [
    "## True Value Simulation"
   ]
  },
  {
   "cell_type": "code",
   "execution_count": 9,
   "metadata": {},
   "outputs": [],
   "source": [
    "if truelambda!=0.0:\n",
    "    siglogevals,siglonvals,siglatvals  = DM_prior.sample(nsig)\n",
    "else:\n",
    "    siglogevals = np.asarray([])\n",
    "    siglonvals = np.asarray([])\n",
    "    siglatvals = np.asarray([])"
   ]
  },
  {
   "cell_type": "code",
   "execution_count": 10,
   "metadata": {},
   "outputs": [],
   "source": [
    "\n",
    "if truelambda!=1.0:\n",
    "    bkglogevals,bkglonvals,bkglatvals  = bkg_prior.sample(nbkg)\n",
    "else:\n",
    "    bkglogevals = np.asarray([])\n",
    "    bkglonvals = np.asarray([])\n",
    "    bkglatvals = np.asarray([])"
   ]
  },
  {
   "cell_type": "code",
   "execution_count": 11,
   "metadata": {},
   "outputs": [
    {
     "data": {
      "image/png": "[encoded data removed]",
      "text/plain": [
       "<Figure size 640x480 with 1 Axes>"
      ]
     },
     "metadata": {},
     "output_type": "display_data"
    }
   ],
   "source": [
    "plt.figure()\n",
    "plt.hist2d(bkglonvals, bkglatvals, bins=(longitudeaxistrue, latitudeaxistrue))\n",
    "plt.show()"
   ]
  },
  {
   "attachments": {},
   "cell_type": "markdown",
   "metadata": {},
   "source": [
    "## Reconstructed Value Simulation"
   ]
  },
  {
   "cell_type": "code",
   "execution_count": 12,
   "metadata": {},
   "outputs": [],
   "source": [
    "logjacob = np.meshgrid(np.log(10**log10eaxis), longitudeaxis, latitudeaxis, indexing='ij')[0]"
   ]
  },
  {
   "cell_type": "code",
   "execution_count": 13,
   "metadata": {},
   "outputs": [
    {
     "name": "stdout",
     "output_type": "stream",
     "text": [
      "Number of input dimensions 1\n",
      "boop\n",
      "Axes shape: (79,)\n"
     ]
    }
   ],
   "source": [
    "logjacob = np.log(10**log10eaxis)\n",
    "edisp_like = discrete_loglikelihood(logfunction=edisp_test, \n",
    "                                    axes=(log10eaxis,), axes_names='log10E recon',\n",
    "                                    name='energy dispersion',\n",
    "                                    dependent_axes=(log10eaxistrue, longitudeaxistrue, latitudeaxistrue,), logjacob=logjacob,\n",
    "                                    dependent_axes_names = ['log10E true', 'lon', 'lat'])"
   ]
  },
  {
   "cell_type": "code",
   "execution_count": 14,
   "metadata": {},
   "outputs": [
    {
     "name": "stdout",
     "output_type": "stream",
     "text": [
      "Number of input dimensions 2\n",
      "beeeep\n",
      "Number of data dimensions 2\n",
      "Axes shape: (18, 15)\n"
     ]
    },
    {
     "data": {
      "text/plain": [
       "discrete log likelihood class\n",
       "---------------------------------\n",
       "name = point spread function \n",
       "logfunction type is <function psf_test at 0x7ff4fca8ddc0>\n",
       "input units of None\n",
       "over axes ['longitude recon', 'latitude recon']\n",
       "with dependent axes ['log10E true', 'lon', 'lat']"
      ]
     },
     "execution_count": 14,
     "metadata": {},
     "output_type": "execute_result"
    }
   ],
   "source": [
    "psf_like = discrete_loglikelihood(logfunction=psf_test, \n",
    "                                    axes=(longitudeaxis, latitudeaxis), axes_names=['longitude recon', 'latitude recon'],\n",
    "                                    name='point spread function ',\n",
    "                                    dependent_axes=(log10eaxistrue, longitudeaxistrue, latitudeaxistrue,),\n",
    "                                    dependent_axes_names = ['log10E true', 'lon', 'lat'])\n",
    "psf_like"
   ]
  },
  {
   "attachments": {},
   "cell_type": "markdown",
   "metadata": {},
   "source": [
    "### Signal"
   ]
  },
  {
   "cell_type": "code",
   "execution_count": 15,
   "metadata": {},
   "outputs": [
    {
     "name": "stderr",
     "output_type": "stream",
     "text": [
      "100%|██████████| 5000/5000 [00:03<00:00, 1295.36it/s]\n"
     ]
    }
   ],
   "source": [
    "\n",
    "if truelambda!=0.0:\n",
    "    # sig_log10e_edisp_samples = [edisp_like.sample(signal_event_tuple, 1).tolist() for signal_event_tuple in tqdm(sig_samples.T)]\n",
    "    signal_log10e_measured = [np.squeeze(edisp_like.sample((logeval,*coord,), numsamples=1)) for logeval,coord  in notebook_tqdm(zip(siglogevals, np.array([siglonvals, siglatvals]).T), total=nsig)]\n",
    "else:\n",
    "    signal_log10e_measured = np.asarray([])"
   ]
  },
  {
   "cell_type": "code",
   "execution_count": 16,
   "metadata": {},
   "outputs": [
    {
     "name": "stderr",
     "output_type": "stream",
     "text": [
      "100%|██████████| 5000/5000 [00:35<00:00, 139.81it/s]\n"
     ]
    }
   ],
   "source": [
    "\n",
    "signal_lon_measured = []\n",
    "signal_lat_measured = []\n",
    "\n",
    "if truelambda!=0:\n",
    "    \n",
    "    sig_lonlat_psf_samples =  [psf_like.sample((logeval,*coord,), 1).tolist() for logeval,coord  in notebook_tqdm(zip(siglogevals, np.array([siglonvals, siglatvals]).T), total=nsig)]\n",
    "    \n",
    "    for sig_lonlat_psf_sample in sig_lonlat_psf_samples:\n",
    "        signal_lon_measured.append(sig_lonlat_psf_sample[0])\n",
    "        signal_lat_measured.append(sig_lonlat_psf_sample[1])"
   ]
  },
  {
   "attachments": {},
   "cell_type": "markdown",
   "metadata": {},
   "source": [
    "### Background"
   ]
  },
  {
   "cell_type": "code",
   "execution_count": 17,
   "metadata": {},
   "outputs": [
    {
     "name": "stderr",
     "output_type": "stream",
     "text": [
      "100%|██████████| 5000/5000 [00:03<00:00, 1387.82it/s]\n"
     ]
    }
   ],
   "source": [
    "if truelambda!=1.0:\n",
    "    # sig_log10e_edisp_samples = [edisp_like.sample(signal_event_tuple, 1).tolist() for signal_event_tuple in tqdm(sig_samples.T)]\n",
    "    bkg_log10e_measured = [np.squeeze(edisp_like.sample((logeval,*coord,), numsamples=1)) for logeval,coord  in notebook_tqdm(zip(bkglogevals, np.array([bkglonvals, bkglatvals]).T), total=nbkg)]\n",
    "else:\n",
    "    bkg_log10e_measured = np.asarray([])"
   ]
  },
  {
   "cell_type": "code",
   "execution_count": 18,
   "metadata": {},
   "outputs": [
    {
     "name": "stderr",
     "output_type": "stream",
     "text": [
      "100%|██████████| 5000/5000 [00:35<00:00, 142.09it/s]\n"
     ]
    }
   ],
   "source": [
    "bkg_lon_measured = []\n",
    "bkg_lat_measured = []\n",
    "\n",
    "if truelambda!=0:\n",
    "    \n",
    "    bkg_lonlat_psf_samples =  [psf_like.sample((logeval,*coord,), 1).tolist() for logeval,coord  in notebook_tqdm(zip(bkglogevals, np.array([bkglonvals, bkglatvals]).T), total=nbkg)]\n",
    "    \n",
    "    for bkg_lonlat_psf_sample in bkg_lonlat_psf_samples:\n",
    "        bkg_lon_measured.append(bkg_lonlat_psf_sample[0])\n",
    "        bkg_lat_measured.append(bkg_lonlat_psf_sample[1])\n"
   ]
  },
  {
   "attachments": {},
   "cell_type": "markdown",
   "metadata": {},
   "source": [
    "## Final simulation output"
   ]
  },
  {
   "cell_type": "code",
   "execution_count": 19,
   "metadata": {},
   "outputs": [],
   "source": [
    "\n",
    "\n",
    "try:\n",
    "    measured_log10e = list(signal_log10e_measured)+list(bkg_log10e_measured)\n",
    "    measured_lon = list(signal_lon_measured)+list(bkg_lon_measured)\n",
    "    measured_lat = list(signal_lat_measured)+list(bkg_lat_measured)\n",
    "    \n",
    "except:\n",
    "    if type(bkg_log10e_measured)==np.float64:\n",
    "        measured_log10e = list(signal_log10e_measured)\n",
    "        measured_lon = list(signal_lon_measured)\n",
    "        measured_lat = list(signal_lat_measured)\n",
    "        measured_log10e.append(bkg_log10e_measured)\n",
    "        measured_lon.append(bkg_lon_measured)\n",
    "        measured_lat.append(bkg_lat_measured)\n",
    "        \n",
    "    elif type(signal_log10e_measured)==np.float64:\n",
    "        measured_log10e = list(bkg_log10e_measured)\n",
    "        measured_lon = list(bkg_lon_measured)\n",
    "        measured_lat = list(bkg_lat_measured)\n",
    "        measured_log10e.append(signal_log10e_measured)\n",
    "        measured_lon.append(signal_lon_measured)\n",
    "        measured_lat.append(signal_lat_measured)\n",
    "    else:\n",
    "        print('what')"
   ]
  },
  {
   "attachments": {},
   "cell_type": "markdown",
   "metadata": {},
   "source": [
    "# <h1><b>Analysis"
   ]
  },
  {
   "attachments": {},
   "cell_type": "markdown",
   "metadata": {},
   "source": [
    "## Marginalisation"
   ]
  },
  {
   "cell_type": "code",
   "execution_count": 20,
   "metadata": {},
   "outputs": [],
   "source": [
    "nbinslogmass=101\n",
    "\n",
    "if nsig is None:\n",
    "    nsig = len(list(measured_log10e))\n",
    "\n",
    "logmasswindowwidth      = 15/np.sqrt(nsig)\n",
    "\n",
    "logmasslowerbound       = truelogmass-logmasswindowwidth\n",
    "logmassupperbound       = truelogmass+logmasswindowwidth\n",
    "\n",
    "# if 1:\n",
    "if logmasslowerbound<log10eaxis[0]:\n",
    "    logmasslowerbound = log10eaxis[0]\n",
    "# if 1:\n",
    "if logmassupperbound>2:\n",
    "    logmassupperbound = 2\n",
    "\n",
    "\n",
    "logmassrange            = np.linspace(logmasslowerbound, logmassupperbound, nbinslogmass) "
   ]
  },
  {
   "cell_type": "code",
   "execution_count": 21,
   "metadata": {},
   "outputs": [
    {
     "name": "stderr",
     "output_type": "stream",
     "text": [
      "Setting up prior matrices:   0%|          | 0/2 [00:00<?, ?it/s]"
     ]
    },
    {
     "name": "stderr",
     "output_type": "stream",
     "text": [
      "Setting up prior matrices: 100%|██████████| 2/2 [02:39<00:00, 79.73s/it] \n",
      "Performing parallelized direct event marginalisation: 100%|██████████| 10000/10000 [00:00<00:00, 2390052.99it/s]\n",
      "/Users/lpin0002/Desktop/temporaryfolder/GammaBayes/gammabayes/utils/utils.py:142: RuntimeWarning: divide by zero encountered in log\n",
      "  output = np.log(psffull.evaluate(energy_true=10**logetrue*u.TeV,\n",
      "/Users/lpin0002/Desktop/temporaryfolder/GammaBayes/gammabayes/utils/utils.py:146: RuntimeWarning: divide by zero encountered in log\n",
      "  output+=np.log(edispfull.evaluate(energy_true=10**logetrue*u.TeV,\n"
     ]
    }
   ],
   "source": [
    "hyperparameter_likelihood_instance = hyperparameter_likelihood(priors=(DM_prior, bkg_prior,), likelihood=single_likelihood, \n",
    "                                                               dependent_axes=(log10eaxistrue,  longitudeaxistrue, latitudeaxistrue), dependent_logjacob=logjacobtrue,\n",
    "                                                               hyperparameter_axes = ((logmassrange,), (None,)), numcores=8, likelihoodnormalisation = psfnormalisationvalues+edispnormalisationvalues)\n",
    "\n",
    "measured_log10e = [float(measured_log10e_val) for measured_log10e_val in measured_log10e]\n",
    "margresults = hyperparameter_likelihood_instance.full_obs_marginalisation(axisvals= (measured_log10e, measured_lon, measured_lat))"
   ]
  },
  {
   "cell_type": "code",
   "execution_count": 22,
   "metadata": {},
   "outputs": [
    {
     "data": {
      "text/plain": [
       "(101, 10000)"
      ]
     },
     "execution_count": 22,
     "metadata": {},
     "output_type": "execute_result"
    }
   ],
   "source": [
    "margresultsarray = np.array(margresults)\n",
    "sigmargresults = np.squeeze(np.vstack(margresultsarray[:,0])).T\n",
    "bkgmargresults = np.squeeze(np.vstack(margresultsarray[:,1]))\n",
    "sigmargresults.shape"
   ]
  },
  {
   "cell_type": "code",
   "execution_count": 23,
   "metadata": {},
   "outputs": [
    {
     "data": {
      "image/png": "[encoded data removed]",
      "text/plain": [
       "<Figure size 2000x300 with 2 Axes>"
      ]
     },
     "metadata": {},
     "output_type": "display_data"
    }
   ],
   "source": [
    "fig, ax = plt.subplots(figsize=(20,3))\n",
    "plt.pcolormesh(*np.meshgrid(list(range(Nsamples)), logmassrange, indexing='ij'), \n",
    "               sigmargresults.T-special.logsumexp(sigmargresults, axis=1), \n",
    "               cmap='viridis', vmin=-9)\n",
    "plt.ylabel(r'$log_{10}m_\\chi$ [TeV]')\n",
    "plt.axhline(truelogmass, c='tab:orange')\n",
    "plt.colorbar()\n",
    "plt.show()"
   ]
  },
  {
   "attachments": {},
   "cell_type": "markdown",
   "metadata": {},
   "source": [
    "## Calculating posterior"
   ]
  },
  {
   "cell_type": "code",
   "execution_count": 24,
   "metadata": {},
   "outputs": [
    {
     "name": "stderr",
     "output_type": "stream",
     "text": [
      "100%|██████████| 81/81 [00:03<00:00, 25.31it/s]\n"
     ]
    },
    {
     "name": "stdout",
     "output_type": "stream",
     "text": [
      "Reshaped mixture shape: (2, 10000)\n",
      "reshaped_log_margresults[0,:]: [array([-10.36644608, -10.35511467, -10.34386233, -10.33271491,\n",
      "        -10.32164179, -10.31062127, -10.29966893, -10.28878803,\n",
      "        -10.27794232, -10.26710633, -10.25629767, -10.24540857,\n",
      "        -10.23463983, -10.22394095, -10.21332081, -10.20278887,\n",
      "        -10.19234621, -10.18192033, -10.17151601, -10.16118359,\n",
      "        -10.15087037, -10.14057622, -10.13035877, -10.12024152,\n",
      "        -10.11012959, -10.10007658, -10.09010749, -10.08022915,\n",
      "        -10.07043414, -10.06071101, -10.05105705, -10.04135178,\n",
      "        -10.03168444, -10.02204379, -10.01244792, -10.00292383,\n",
      "         -9.99349201,  -9.98406558,  -9.97470439,  -9.9654362 ,\n",
      "         -9.956248  ,  -9.94713337,  -9.93809103,  -9.92911685,\n",
      "         -9.92005825,  -9.911094  ,  -9.90220979,  -9.89340337,\n",
      "         -9.88467621,  -9.87601789,  -9.8674418 ,  -9.85883959,\n",
      "         -9.85034931,  -9.84192856,  -9.83357823,  -9.82527978,\n",
      "         -9.81700099,  -9.80868616,  -9.80041837,  -9.79224192,\n",
      "         -9.78414184,  -9.77611875,  -9.76818183,  -9.76033313,\n",
      "         -9.75246854,  -9.74469592,  -9.73699508,  -9.72933451,\n",
      "         -9.72170117,  -9.71410791,  -9.7065267 ,  -9.69902608,\n",
      "         -9.69160068,  -9.68426135,  -9.67702109,  -9.66989756,\n",
      "         -9.66284909,  -9.65581212,  -9.64885877,  -9.64193897,\n",
      "         -9.63505587,  -9.62822137,  -9.62145121,  -9.6147674 ,\n",
      "         -9.60806245,  -9.60146232,  -9.59494015,  -9.58848772,\n",
      "         -9.58209758,  -9.57576776,  -9.56945303,  -9.56314582,\n",
      "         -9.5568702 ,  -9.55064282,  -9.54448753,  -9.53841748,\n",
      "         -9.53242079,  -9.52645285,  -9.52059379,  -9.51481787,\n",
      "         -9.50912331])\n",
      " array([-13.88655007, -13.87269992, -13.85874672, -13.84464533,\n",
      "        -13.83027078, -13.81563437, -13.80078386, -13.78582064,\n",
      "        -13.77080559, -13.75576527, -13.74070547, -13.72541981,\n",
      "        -13.71012452, -13.69486955, -13.67961053, -13.66432996,\n",
      "        -13.64903848, -13.63367535, -13.61810254, -13.60257819,\n",
      "        -13.58712979, -13.57176308, -13.55646395, -13.54120824,\n",
      "        -13.525899  , -13.51062603, -13.49536184, -13.48009785,\n",
      "        -13.46482417, -13.44951394, -13.43412699, -13.41856405,\n",
      "        -13.40306798, -13.38761957, -13.37219063, -13.35677925,\n",
      "        -13.34141033, -13.3260268 , -13.31052155, -13.29500134,\n",
      "        -13.279459  , -13.26386361, -13.24822554, -13.23262254,\n",
      "        -13.21693835, -13.20145353, -13.18608895, -13.17077027,\n",
      "        -13.1555199 , -13.14033459, -13.12515471, -13.10975985,\n",
      "        -13.09439687, -13.07898403, -13.06357255, -13.0482181 ,\n",
      "        -13.0329402 , -13.01763462, -13.00230161, -12.98703785,\n",
      "        -12.97186463, -12.95675182, -12.94166088, -12.92659233,\n",
      "        -12.91136144, -12.89608787, -12.88085898, -12.86570921,\n",
      "        -12.85064921, -12.83567201, -12.82068547, -12.80569206,\n",
      "        -12.79080715, -12.77597593, -12.76122466, -12.74670286,\n",
      "        -12.73220165, -12.71754513, -12.7029282 , -12.68840663,\n",
      "        -12.67398302, -12.65964187, -12.64537184, -12.63119473,\n",
      "        -12.61697156, -12.60282265, -12.58871974, -12.57465679,\n",
      "        -12.56061403, -12.54657676, -12.53254051, -12.51855488,\n",
      "        -12.50467734, -12.49088747, -12.47718975, -12.46360392,\n",
      "        -12.45014502, -12.4366199 , -12.42315552, -12.40974723,\n",
      "        -12.39636833])\n",
      " array([-8.70120993, -8.69890508, -8.69664154, -8.69442361, -8.6922079 ,\n",
      "        -8.69007971, -8.68798979, -8.68592827, -8.68389406, -8.68189345,\n",
      "        -8.67993533, -8.67794878, -8.67606438, -8.67420654, -8.6723705 ,\n",
      "        -8.67056237, -8.66879248, -8.66700782, -8.6653202 , -8.66366727,\n",
      "        -8.66205162, -8.66048057, -8.65896019, -8.65748718, -8.65600725,\n",
      "        -8.65460189, -8.65322111, -8.65187478, -8.65056895, -8.649307  ,\n",
      "        -8.64809271, -8.64686202, -8.64571866, -8.6446237 , -8.6435767 ,\n",
      "        -8.64257759, -8.6416251 , -8.64065808, -8.63976217, -8.638906  ,\n",
      "        -8.63809218, -8.63732395, -8.63659967, -8.6359109 , -8.63521692,\n",
      "        -8.63459915, -8.63401701, -8.63347992, -8.63298055, -8.63250785,\n",
      "        -8.6320588 , -8.63160532, -8.6312283 , -8.63089107, -8.63058772,\n",
      "        -8.63031383, -8.63007177, -8.62983358, -8.62967205, -8.62954921,\n",
      "        -8.62945356, -8.62937853, -8.62932491, -8.62929937, -8.62927364,\n",
      "        -8.62932021, -8.62939388, -8.62949415, -8.62962517, -8.62979146,\n",
      "        -8.62995939, -8.63020245, -8.63046688, -8.63074987, -8.63103975,\n",
      "        -8.63128841, -8.63156421, -8.63184613, -8.63218292, -8.6325434 ,\n",
      "        -8.63293311, -8.63335352, -8.63380362, -8.63428547, -8.63476346,\n",
      "        -8.63528482, -8.63582712, -8.63639345, -8.63698634, -8.63760723,\n",
      "        -8.63822513, -8.63889816, -8.63960103, -8.64033267, -8.64109365,\n",
      "        -8.64188162, -8.64268657, -8.64348847, -8.64434007, -8.64521634,\n",
      "        -8.64612057])\n",
      " ...\n",
      " array([-8.04860468, -8.05300847, -8.0574205 , -8.06183121, -8.06611461,\n",
      "        -8.07050279, -8.07489414, -8.07929397, -8.08370337, -8.08812106,\n",
      "        -8.09254527, -8.09693202, -8.10139782, -8.10586538, -8.11033875,\n",
      "        -8.11481778, -8.11929879, -8.12372501, -8.12824453, -8.13277011,\n",
      "        -8.13730093, -8.14183535, -8.14637564, -8.15091869, -8.15542443,\n",
      "        -8.16000422, -8.16458852, -8.16917324, -8.17375608, -8.17833619,\n",
      "        -8.18291198, -8.18747386, -8.19209414, -8.19671492, -8.2013321 ,\n",
      "        -8.20594398, -8.21055191, -8.21511789, -8.21976357, -8.22440485,\n",
      "        -8.22904128, -8.23367166, -8.23829703, -8.24292209, -8.24752725,\n",
      "        -8.25219778, -8.25686837, -8.2615348 , -8.26619803, -8.2708595 ,\n",
      "        -8.27552434, -8.28018383, -8.28488031, -8.28957258, -8.29426378,\n",
      "        -8.29895657, -8.3036508 , -8.30832343, -8.31305259, -8.31778024,\n",
      "        -8.32250665, -8.32723491, -8.33196651, -8.33669623, -8.34142025,\n",
      "        -8.3461847 , -8.35095148, -8.35572167, -8.36049472, -8.36526911,\n",
      "        -8.37001604, -8.37482745, -8.37963949, -8.38445594, -8.389278  ,\n",
      "        -8.39411655, -8.39895666, -8.40378969, -8.40867516, -8.41356622,\n",
      "        -8.41846213, -8.42336047, -8.42825901, -8.43315917, -8.43807218,\n",
      "        -8.4430212 , -8.44797168, -8.45292207, -8.45787178, -8.46282033,\n",
      "        -8.46776088, -8.47275593, -8.47775319, -8.48274952, -8.48774439,\n",
      "        -8.49273871, -8.49773267, -8.50273773, -8.50777325, -8.51280589,\n",
      "        -8.51783467])\n",
      " array([-6.88113169, -6.88619033, -6.89125986, -6.89632872, -6.90128173,\n",
      "        -6.90632621, -6.9113606 , -6.9163824 , -6.92139679, -6.92640806,\n",
      "        -6.93141392, -6.93638092, -6.94142863, -6.94648605, -6.95155507,\n",
      "        -6.95662678, -6.96168806, -6.96668027, -6.97175547, -6.97681438,\n",
      "        -6.98186583, -6.98690989, -6.99195509, -6.99700517, -7.0020209 ,\n",
      "        -7.00712475, -7.01223903, -7.01734913, -7.02244724, -7.02753177,\n",
      "        -7.03260219, -7.03763965, -7.04272873, -7.04780999, -7.05288411,\n",
      "        -7.05795387, -7.06302412, -7.06806534, -7.07319732, -7.0783218 ,\n",
      "        -7.08343564, -7.08853817, -7.09362893, -7.09870749, -7.10376579,\n",
      "        -7.10889675, -7.11403693, -7.11917988, -7.12433118, -7.12949557,\n",
      "        -7.13467414, -7.13985094, -7.14506191, -7.15026682, -7.15546426,\n",
      "        -7.16065661, -7.16584968, -7.17102105, -7.17625665, -7.18149737,\n",
      "        -7.18674854, -7.19201289, -7.19728641, -7.20255567, -7.20781598,\n",
      "        -7.21311282, -7.2184008 , -7.22368472, -7.22896673, -7.23424549,\n",
      "        -7.23949763, -7.24481978, -7.2501506 , -7.25549095, -7.26083973,\n",
      "        -7.26621713, -7.27158855, -7.27694793, -7.28234626, -7.28774373,\n",
      "        -7.29313997, -7.29853483, -7.30392988, -7.30932829, -7.31475286,\n",
      "        -7.32021759, -7.32568047, -7.33113649, -7.33658448, -7.34202397,\n",
      "        -7.34744252, -7.35291141, -7.35837611, -7.36383725, -7.36929703,\n",
      "        -7.37475899, -7.38022746, -7.38571383, -7.39122593, -7.3967277 ,\n",
      "        -7.40221847])\n",
      " array([-8.1223828 , -8.12760969, -8.13286244, -8.13812276, -8.14323907,\n",
      "        -8.14841676, -8.15356001, -8.15869159, -8.16381672, -8.1689356 ,\n",
      "        -8.17405468, -8.17914555, -8.18434007, -8.18955992, -8.19480688,\n",
      "        -8.20004962, -8.20524842, -8.21035322, -8.21551405, -8.22066812,\n",
      "        -8.22581185, -8.23094854, -8.23609423, -8.24125655, -8.24640689,\n",
      "        -8.25166254, -8.25694425, -8.26220322, -8.26742207, -8.27260526,\n",
      "        -8.27775511, -8.28288443, -8.2880602 , -8.29323211, -8.29840461,\n",
      "        -8.30358593, -8.30878648, -8.31397299, -8.31926906, -8.32453188,\n",
      "        -8.32976388, -8.33496777, -8.34015254, -8.34533589, -8.35049709,\n",
      "        -8.35574105, -8.36100453, -8.36628684, -8.37159441, -8.37692892,\n",
      "        -8.38229194, -8.38762114, -8.39296538, -8.39828611, -8.40359748,\n",
      "        -8.40890842, -8.41421712, -8.41950916, -8.42487374, -8.43025896,\n",
      "        -8.43566743, -8.44110063, -8.44654454, -8.45195776, -8.45734056,\n",
      "        -8.46274206, -8.46813806, -8.47353001, -8.47891859, -8.48430783,\n",
      "        -8.48967672, -8.49513391, -8.50061027, -8.50610716, -8.51160576,\n",
      "        -8.51711598, -8.52260305, -8.52806073, -8.53356608, -8.53906797,\n",
      "        -8.54456964, -8.55007464, -8.55558768, -8.56111847, -8.56668865,\n",
      "        -8.57230991, -8.57791301, -8.58348974, -8.58904245, -8.59457464,\n",
      "        -8.60009391, -8.60565955, -8.61122375, -8.61678921, -8.62236264,\n",
      "        -8.6279506 , -8.63355439, -8.63918871, -8.64482553, -8.65043513,\n",
      "        -8.65601884])                                                   ]\n",
      "0 (81,) (10000, 101)\n",
      "1 (81,) (10000, 1)\n",
      "1797.378564667\n"
     ]
    }
   ],
   "source": [
    "\n",
    "nbinslambda            = 81\n",
    "lambdawindowwidth      = 9/np.sqrt(Nsamples)\n",
    "\n",
    "\n",
    "lambdalowerbound       = truelambda-lambdawindowwidth\n",
    "lambdaupperbound       = truelambda+lambdawindowwidth\n",
    "\n",
    "\n",
    "\n",
    "\n",
    "if lambdalowerbound<0:\n",
    "    lambdalowerbound = 0\n",
    "if lambdaupperbound>1:\n",
    "    lambdaupperbound = 1\n",
    "\n",
    "\n",
    "lambdarange            = np.linspace(lambdalowerbound, lambdaupperbound, nbinslambda) \n",
    "\n",
    "original_log_posterior = []\n",
    "\n",
    "for lambdaval in notebook_tqdm(lambdarange, total=lambdarange.shape[0]):\n",
    "    original_log_posterior.append([np.sum(np.logaddexp(np.log(lambdaval)+sigmargresults[logmassindex,:], np.log(1-lambdaval)+bkgmargresults)) for logmassindex in range(len(list(logmassrange)))])\n",
    "\n",
    "original_log_posterior = np.array(original_log_posterior)-special.logsumexp(original_log_posterior)\n",
    "new_log_posterior = hyperparameter_likelihood_instance.create_mixture_log_posterior(\n",
    "    mixture_axes=(lambdarange, 1-lambdarange), log_margresults=margresultsarray)\n",
    "\n",
    "new_log_posterior = new_log_posterior - special.logsumexp(new_log_posterior)\n",
    "\n",
    "endertimer = time.perf_counter()\n",
    "print(endertimer-startertimer)"
   ]
  },
  {
   "cell_type": "code",
   "execution_count": 25,
   "metadata": {},
   "outputs": [],
   "source": [
    "# log_posterior=np.squeeze(new_log_posterior)\n",
    "log_posterior = original_log_posterior"
   ]
  },
  {
   "attachments": {},
   "cell_type": "markdown",
   "metadata": {},
   "source": [
    "# <h1><b>Plotting"
   ]
  },
  {
   "cell_type": "code",
   "execution_count": 26,
   "metadata": {},
   "outputs": [
    {
     "name": "stderr",
     "output_type": "stream",
     "text": [
      "/var/folders/xr/793vfd394l701z7tfh27tbj9q0x4gd/T/ipykernel_726/128545707.py:6: MatplotlibDeprecationWarning: The get_cmap function was deprecated in Matplotlib 3.7 and will be removed two minor releases later. Use ``matplotlib.colormaps[name]`` or ``matplotlib.colormaps.get_cmap(obj)`` instead.\n",
      "  colormap = cm.get_cmap('Blues_r', 4)\n"
     ]
    },
    {
     "name": "stdout",
     "output_type": "stream",
     "text": [
      "0.0012095712050144035\n",
      "0.0007826637208916719\n",
      "0.00042690748412272983\n",
      "0.0004269074841227333\n",
      "0.0008538149682454631\n",
      "0.0012095712050144052\n"
     ]
    },
    {
     "data": {
      "image/png": "[encoded data removed]",
      "text/plain": [
       "<Figure size 1000x800 with 4 Axes>"
      ]
     },
     "metadata": {},
     "output_type": "display_data"
    }
   ],
   "source": [
    "from gammabayes.utils.utils import confidence_ellipse\n",
    "from scipy.stats import norm\n",
    "\n",
    "import time\n",
    "\n",
    "colormap = cm.get_cmap('Blues_r', 4)\n",
    "\n",
    "fig, ax = plt.subplots(2,2, dpi=100, figsize=(10,8))\n",
    "plt.suptitle(f\"Nevents= {Nsamples}, general/new\", size=24)\n",
    "\n",
    "# Upper left plot\n",
    "logmass_logposterior = special.logsumexp(log_posterior, axis=0)\n",
    "\n",
    "normalisedlogmassposterior = np.exp(logmass_logposterior-special.logsumexp(logmass_logposterior))\n",
    "\n",
    "cdflogmassposterior = np.cumsum(normalisedlogmassposterior)\n",
    "mean = logmassrange[np.abs(norm.cdf(0)-cdflogmassposterior).argmin()]\n",
    "zscores = [-3, -2,-1,1,2, 3]\n",
    "logmasspercentiles = []\n",
    "for zscore in zscores:\n",
    "    logmasspercentiles.append(logmassrange[np.abs(norm.cdf(zscore)-cdflogmassposterior).argmin()])\n",
    "\n",
    "\n",
    "ax[0,0].plot(logmassrange,normalisedlogmassposterior, c='tab:green')\n",
    "\n",
    "ax[0,0].axvline(mean, c='tab:green', ls=':')\n",
    "\n",
    "\n",
    "for o, percentile in enumerate(logmasspercentiles):\n",
    "            color = colormap(np.abs(zscores[o])/4-0.01)\n",
    "\n",
    "            ax[0,0].axvline(percentile, c=color, ls=':')\n",
    "ax[0,0].axvline(truelogmass, ls='--', color=\"tab:orange\")\n",
    "\n",
    "\n",
    "if min(mean - logmasspercentiles)>log10eaxistrue[1]-log10eaxistrue[0]:\n",
    "    for logetrueval in log10eaxistrue:\n",
    "        ax[0,0].axvline(logetrueval, c='forestgreen', alpha=0.3)\n",
    "ax[0,0].set_ylim([0, None])\n",
    "ax[0,0].set_xlim([logmassrange[0], logmassrange[-1]])\n",
    "\n",
    "# Upper right plot\n",
    "ax[0,1].axis('off')\n",
    "\n",
    "\n",
    "# Lower left plot\n",
    "# ax[1,0].pcolormesh(logmassrange, lambdarange, np.exp(normalisedlogposterior).T, cmap='Blues')\n",
    "ax[1,0].pcolormesh(logmassrange, lambdarange, np.exp(log_posterior), vmin=0)\n",
    "ax[1,0].axvline(truelogmass, c='tab:orange')\n",
    "ax[1,0].axhline(truelambda, c='tab:orange')\n",
    "ax[1,0].set_xlabel(r'$log_{10}$ mass [TeV]')\n",
    "ax[1,0].set_ylabel(r'$\\xi$')\n",
    "\n",
    "ax[1,0].set_ylim([lambdarange[0], lambdarange[-1]])\n",
    "ax[1,0].set_xlim([logmassrange[0], logmassrange[-1]])\n",
    "\n",
    "########################################################################################################################\n",
    "########################################################################################################################\n",
    "# I have no clue how this works but I've checked it against some standard distributions and it seems correct\n",
    "normed_posterior = np.exp(log_posterior)/np.exp(log_posterior).sum()\n",
    "n = 100000\n",
    "t = np.linspace(0, normed_posterior.max(), n)\n",
    "integral = ((normed_posterior >= t[:, None, None]) * normed_posterior).sum(axis=(1,2))\n",
    "\n",
    "from scipy import interpolate\n",
    "f = interpolate.interp1d(integral, t)\n",
    "t_contours = f(np.array([1-np.exp(-4.5),1-np.exp(-2.0),1-np.exp(-0.5)]))\n",
    "ax[1,0].contour(normed_posterior, t_contours, extent=[logmassrange[0],logmassrange[-1], lambdarange[0],lambdarange[-1]], colors='white', linewidths=0.5)\n",
    "########################################################################################################################\n",
    "########################################################################################################################\n",
    "\n",
    "\n",
    "lambda_logposterior = special.logsumexp(log_posterior, axis=1)\n",
    "\n",
    "normalisedlambdaposterior = np.exp(lambda_logposterior-special.logsumexp(lambda_logposterior))\n",
    "\n",
    "cdflambdaposterior = np.cumsum(normalisedlambdaposterior)\n",
    "meanlambda = lambdarange[np.abs(norm.cdf(0)-cdflambdaposterior).argmin()]\n",
    "lambdapercentiles = []\n",
    "for zscore in zscores:\n",
    "    lambdapercentile = lambdarange[np.abs(norm.cdf(zscore)-cdflambdaposterior).argmin()]\n",
    "    lambdapercentiles.append(lambdapercentile)\n",
    "    print(np.sqrt(1e5/1e8)*np.abs(lambdapercentile - meanlambda))\n",
    "\n",
    "\n",
    "\n",
    "\n",
    "\n",
    "ax[1,1].plot(lambdarange,normalisedlambdaposterior, c='tab:green')\n",
    "\n",
    "ax[1,1].axvline(meanlambda, c='tab:green', ls=':')\n",
    "\n",
    "\n",
    "for o, percentile in enumerate(lambdapercentiles):\n",
    "            color = colormap(np.abs(zscores[o])/4-0.01)\n",
    "\n",
    "            ax[1,1].axvline(percentile, c=color, ls=':')\n",
    "ax[1,1].axvline(truelambda, ls='--', color=\"tab:orange\")\n",
    "ax[1,1].set_xlabel(r'$\\xi$')\n",
    "ax[1,1].set_ylim([0, None])\n",
    "\n",
    "\n",
    "# plt.savefig(time.strftime(f\"Figures/TestFigures/{Nsamples}events_lm{truelogmass}_l{truelambda}_%m%d_%H%M.pdf\"))\n",
    "plt.show()"
   ]
  },
  {
   "cell_type": "code",
   "execution_count": 27,
   "metadata": {},
   "outputs": [
    {
     "data": {
      "text/plain": [
       "0"
      ]
     },
     "execution_count": 27,
     "metadata": {},
     "output_type": "execute_result"
    }
   ],
   "source": [
    "os.system('say Your code is finished.')\n"
   ]
  },
  {
   "cell_type": "code",
   "execution_count": 28,
   "metadata": {},
   "outputs": [],
   "source": [
    "darkSUSY_BFs_cleaned = pd.read_csv('gammabayes/BFCalc/darkSUSY_BFs/darkSUSY_BFs_cleaned.csv', delimiter=' ')\n",
    "\n",
    "darkSUSY_massvalues = darkSUSY_BFs_cleaned.iloc[:,1]/1e3\n",
    "\n",
    "darkSUSY_lambdavalues = darkSUSY_BFs_cleaned.iloc[:,2]"
   ]
  },
  {
   "cell_type": "code",
   "execution_count": 29,
   "metadata": {},
   "outputs": [
    {
     "data": {
      "text/plain": [
       "(2.2349773303336054e-39,\n",
       " 7.53586915875424e-34,\n",
       " 1.2459396982278596e-31,\n",
       " 2.09150247236128e-29,\n",
       " 3.2476038598229974e-19)"
      ]
     },
     "execution_count": 29,
     "metadata": {},
     "output_type": "execute_result"
    }
   ],
   "source": [
    "vals = darkSUSY_BFs_cleaned.to_numpy()[:,20]\n",
    "np.quantile(vals[vals>0], 0.), np.quantile(vals[vals>0], 0.25), np.quantile(vals[vals>0], 0.5), np.quantile(vals[vals>0], 0.75), np.quantile(vals[vals>0], 1.)"
   ]
  },
  {
   "cell_type": "code",
   "execution_count": null,
   "metadata": {},
   "outputs": [],
   "source": []
  }
 ],
 "metadata": {
  "kernelspec": {
   "display_name": "please",
   "language": "python",
   "name": "python3"
  },
  "language_info": {
   "codemirror_mode": {
    "name": "ipython",
    "version": 3
   },
   "file_extension": ".py",
   "mimetype": "text/x-python",
   "name": "python",
   "nbconvert_exporter": "python",
   "pygments_lexer": "ipython3",
   "version": "3.9.16"
  },
  "orig_nbformat": 4
 },
 "nbformat": 4,
 "nbformat_minor": 2
}
